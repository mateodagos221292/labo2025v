{
  "nbformat": 4,
  "nbformat_minor": 0,
  "metadata": {
    "colab": {
      "provenance": [],
      "include_colab_link": true
    },
    "kernelspec": {
      "name": "ir",
      "display_name": "R"
    },
    "language_info": {
      "name": "R"
    }
  },
  "cells": [
    {
      "cell_type": "markdown",
      "metadata": {
        "id": "view-in-github",
        "colab_type": "text"
      },
      "source": [
        "<a href=\"https://colab.research.google.com/github/mateodagos221292/labo2025v/blob/main/src/rpart/201_ComparandoModelos.ipynb\" target=\"_parent\"><img src=\"https://colab.research.google.com/assets/colab-badge.svg\" alt=\"Open In Colab\"/></a>"
      ]
    },
    {
      "cell_type": "markdown",
      "source": [
        "# Comparando Modelos"
      ],
      "metadata": {
        "id": "5DrvzQ9BsXmX"
      }
    },
    {
      "cell_type": "markdown",
      "source": [
        "Estamos en la  Clase 02\n",
        "<br> El objetivo de la materia es lograr la mejor predicción para nuestro probleama, para lo que se probarán pipelines con decenas de alternativas, será indispensable comparar varios modelos predictivos entre sí y decidir cual es el mejor\n",
        "<br> La tarea no es tan sencilla"
      ],
      "metadata": {
        "id": "Y2U9lu16sgta"
      }
    },
    {
      "cell_type": "markdown",
      "source": [
        "## Seteo del ambiente en Google Colab"
      ],
      "metadata": {
        "id": "kmLygy1TYPfg"
      }
    },
    {
      "cell_type": "markdown",
      "source": [
        "Esta parte se debe correr con el runtime en Python3\n",
        "<br>Ir al menu, Runtime -> Change Runtime Tipe -> Runtime type ->  **Python 3**"
      ],
      "metadata": {
        "id": "OikOm5K2YU3X"
      }
    },
    {
      "cell_type": "markdown",
      "source": [
        "Conectar la virtual machine donde esta corriendo Google Colab con el  Google Drive, para poder tener persistencia de archivos"
      ],
      "metadata": {
        "id": "4fmV5LyZdFyI"
      }
    },
    {
      "cell_type": "code",
      "source": [
        "# primero establecer el Runtime de Python 3\n",
        "from google.colab import drive\n",
        "drive.mount('/content/.drive')"
      ],
      "metadata": {
        "id": "ilEZ-bE2VybW",
        "outputId": "a39ba23a-fa1f-4bbd-951e-31cf3e1473d1",
        "colab": {
          "base_uri": "https://localhost:8080/"
        }
      },
      "execution_count": null,
      "outputs": [
        {
          "output_type": "stream",
          "name": "stdout",
          "text": [
            "Mounted at /content/.drive\n"
          ]
        }
      ]
    },
    {
      "cell_type": "markdown",
      "source": [
        "Para correr la siguiente celda es fundamental en Arranque en Frio haber copiado el archivo kaggle.json al Google Drive, en la carpeta indicada en el instructivo\n",
        "\n",
        "<br>los siguientes comando estan en shell script de Linux\n",
        "*   Crear las carpetas en el Google Drive\n",
        "*   \"instalar\" el archivo kaggle.json desde el Google Drive a la virtual machine para que pueda ser utilizado por la libreria  kaggle de Python\n",
        "*   Bajar el  **dataset_pequeno**  al  Google Drive  y tambien al disco local de la virtual machine que esta corriendo Google Colab\n",
        "\n"
      ],
      "metadata": {
        "id": "ilaKtqWldeWg"
      }
    },
    {
      "cell_type": "code",
      "source": [
        "%%shell\n",
        "\n",
        "mkdir -p \"/content/.drive/My Drive/labo1\"\n",
        "mkdir -p \"/content/buckets\"\n",
        "ln -s \"/content/.drive/My Drive/labo1\" /content/buckets/b1\n",
        "\n",
        "mkdir -p ~/.kaggle\n",
        "cp /content/buckets/b1/kaggle/kaggle.json  ~/.kaggle\n",
        "chmod 600 ~/.kaggle/kaggle.json\n",
        "\n",
        "\n",
        "mkdir -p /content/buckets/b1/exp\n",
        "mkdir -p /content/buckets/b1/datasets\n",
        "mkdir -p /content/datasets\n",
        "\n",
        "\n",
        "\n",
        "archivo_origen=\"https://storage.googleapis.com/open-courses/austral2025-af91/dataset_pequeno.csv\"\n",
        "archivo_destino=\"/content/datasets/dataset_pequeno.csv\"\n",
        "archivo_destino_bucket=\"/content/buckets/b1/datasets/dataset_pequeno.csv\"\n",
        "\n",
        "if ! test -f $archivo_destino_bucket; then\n",
        "  wget  $archivo_origen  -O $archivo_destino_bucket\n",
        "fi\n",
        "\n",
        "\n",
        "if ! test -f $archivo_destino; then\n",
        "  cp  $archivo_destino_bucket  $archivo_destino\n",
        "fi\n"
      ],
      "metadata": {
        "id": "W8dQFI5QYCFa",
        "outputId": "52a49dcf-3e1d-4255-b182-1ea9896e1352",
        "colab": {
          "base_uri": "https://localhost:8080/"
        }
      },
      "execution_count": null,
      "outputs": [
        {
          "output_type": "execute_result",
          "data": {
            "text/plain": []
          },
          "metadata": {},
          "execution_count": 2
        }
      ]
    },
    {
      "cell_type": "markdown",
      "source": [
        "# 1  Particion Training/Testing\n",
        "## Clase 02  Experimento 1"
      ],
      "metadata": {
        "id": "iV32-NeesVp6"
      }
    },
    {
      "cell_type": "markdown",
      "source": [
        "## 1.1  Objetivos\n",
        "Dado que es el primer experimento de la asignatura, acercar a l@s estudiantes las mejores prácticas de operación del ambiente de Google Cloud, realizando una minuciosa demostración en vivo narrando todas las consideraciones pertinentes para evitar accidentes, daños a terceros y a equipos.\n",
        "Dar soporte en el acto a  l@s estudiantes que necesitan ayuda para terminar de configurar el ambiente Google Cloud .\n",
        "<br>Repaso del concepto de  partición de un dataset al azar, estratificada en la clase\n",
        "<br>Dado que es el primer script que se mostrará en vivo a l@s estudiantes,  realizar una visita guiada del  mismo, su estructura y detalles.\n",
        "<br>Repaso del algoritmo Arbol de Decisión sus hiperparámetros, y la implementación con la librería  rpart.  Funciones  rpart::rpart  y rpart::predict\n",
        "<br>Concepto de replicabilidad de los experimentos mediante las semillas de los generadores de secuencias de números pseudoaleatorios.\n",
        "<br>Finalmente, el principal objetivo de este experimento es lograr que l@s estudiantes dimensionen la enorme variabilidad del error de medición de la ganancia de un árbol de decisión al realizar una partición <training, testing>,  contener la sorpresa de los estudiantes, descartar a la simple particion <training, testing> como método,  y construir en conjunto una solucion natural al problema."
      ],
      "metadata": {
        "id": "84Pnj9gVwpXB"
      }
    },
    {
      "cell_type": "markdown",
      "source": [
        "## 1.2 Introduccion"
      ],
      "metadata": {
        "id": "L9Cn0WThw37Y"
      }
    },
    {
      "cell_type": "markdown",
      "source": [
        "![Particiohn Training/Testing](https://storage.googleapis.com/open-courses/austral2025-af91/labo1r/C2_E1_particion.jpg)"
      ],
      "metadata": {
        "id": "ZELZ0R4itUVG"
      }
    },
    {
      "cell_type": "markdown",
      "source": [
        "![Dos tipos de error](https://storage.googleapis.com/open-courses/austral2025-af91/labo1r/C2_E1_target.jpg)"
      ],
      "metadata": {
        "id": "Wtc1ho58xLk-"
      }
    },
    {
      "cell_type": "markdown",
      "source": [
        "## 1.3  Bibliografía\n",
        "\n",
        "Demšar, J. [Statistical comparisons of classifiers over multiple data sets](https://www.jmlr.org/papers/volume7/demsar06a/demsar06a.pdf) J. Mach. Learn. Res. 7, 1–30 (2006).   \n",
        "Starmer, J. [Machine Learning Fundamentals: Cross Validation](https://www.youtube.com/watch?v=fSytzGwwBVw)Machine Learning Fundamentals: Cross Validation, StatQuest with Josh Starmer youtube channel, (2018)\n",
        "Hastie, T.[The elements of statistical learning: data mining, inference, and prediction](https://hastie.su.domains/Papers/ESLII.pdf) , volume 2. Springer, 2009  ( Chapter 7 Model Assessment and Selection )"
      ],
      "metadata": {
        "id": "oRWtRV34xZRT"
      }
    },
    {
      "cell_type": "markdown",
      "source": [
        "## 1.4 Codigo"
      ],
      "metadata": {
        "id": "VcgTQ2-Pyb8q"
      }
    },
    {
      "cell_type": "markdown",
      "source": [
        "Esta parte se debe correr con el runtime en lenguaje **R** Ir al menu, Runtime -> Change Runtime Tipe -> Runtime type -> R"
      ],
      "metadata": {
        "id": "SBXPU-_tabMb"
      }
    },
    {
      "cell_type": "markdown",
      "source": [
        "limpio el ambiente de R"
      ],
      "metadata": {
        "id": "SE94XRhWsxkX"
      }
    },
    {
      "cell_type": "code",
      "source": [
        "# limpio la memoria\n",
        "rm(list=ls(all.names=TRUE)) # remove all objects\n",
        "gc(full=TRUE, verbose=FALSE) # garbage collection"
      ],
      "metadata": {
        "id": "oZG_4br6szlT",
        "outputId": "362f1972-5d61-4ff9-9b85-80fbbba6992d",
        "colab": {
          "base_uri": "https://localhost:8080/",
          "height": 129
        }
      },
      "execution_count": null,
      "outputs": [
        {
          "output_type": "display_data",
          "data": {
            "text/html": [
              "<table class=\"dataframe\">\n",
              "<caption>A matrix: 2 × 6 of type dbl</caption>\n",
              "<thead>\n",
              "\t<tr><th></th><th scope=col>used</th><th scope=col>(Mb)</th><th scope=col>gc trigger</th><th scope=col>(Mb)</th><th scope=col>max used</th><th scope=col>(Mb)</th></tr>\n",
              "</thead>\n",
              "<tbody>\n",
              "\t<tr><th scope=row>Ncells</th><td> 657244</td><td>35.2</td><td>1454474</td><td>77.7</td><td>1326129</td><td>70.9</td></tr>\n",
              "\t<tr><th scope=row>Vcells</th><td>1220271</td><td> 9.4</td><td>8388608</td><td>64.0</td><td>1975128</td><td>15.1</td></tr>\n",
              "</tbody>\n",
              "</table>\n"
            ],
            "text/markdown": "\nA matrix: 2 × 6 of type dbl\n\n| <!--/--> | used | (Mb) | gc trigger | (Mb) | max used | (Mb) |\n|---|---|---|---|---|---|---|\n| Ncells |  657244 | 35.2 | 1454474 | 77.7 | 1326129 | 70.9 |\n| Vcells | 1220271 |  9.4 | 8388608 | 64.0 | 1975128 | 15.1 |\n\n",
            "text/latex": "A matrix: 2 × 6 of type dbl\n\\begin{tabular}{r|llllll}\n  & used & (Mb) & gc trigger & (Mb) & max used & (Mb)\\\\\n\\hline\n\tNcells &  657244 & 35.2 & 1454474 & 77.7 & 1326129 & 70.9\\\\\n\tVcells & 1220271 &  9.4 & 8388608 & 64.0 & 1975128 & 15.1\\\\\n\\end{tabular}\n",
            "text/plain": [
              "       used    (Mb) gc trigger (Mb) max used (Mb)\n",
              "Ncells  657244 35.2 1454474    77.7 1326129  70.9\n",
              "Vcells 1220271  9.4 8388608    64.0 1975128  15.1"
            ]
          },
          "metadata": {}
        }
      ]
    },
    {
      "cell_type": "code",
      "source": [
        "Sys.time()"
      ],
      "metadata": {
        "id": "pJ8SsVA5ssnf",
        "outputId": "b635d6e2-768d-4ae2-bdc3-1cb6b6127166",
        "colab": {
          "base_uri": "https://localhost:8080/",
          "height": 35
        }
      },
      "execution_count": null,
      "outputs": [
        {
          "output_type": "display_data",
          "data": {
            "text/plain": [
              "[1] \"2025-10-26 13:12:56 UTC\""
            ]
          },
          "metadata": {}
        }
      ]
    },
    {
      "cell_type": "markdown",
      "source": [
        "* Instalacion de la libreria  rpart.plot  para dibujar el arbol\n",
        "* invocacion de las librerias  **data.table** y  **rpart**"
      ],
      "metadata": {
        "id": "3BrrQ47PeEb2"
      }
    },
    {
      "cell_type": "code",
      "source": [
        "# cargo las librerias que necesito\n",
        "require(\"data.table\")\n",
        "require(\"rpart\")\n"
      ],
      "metadata": {
        "id": "SxO-0Ql0khn6",
        "outputId": "6713845c-c82a-4277-bc32-c0b75d03abfc",
        "colab": {
          "base_uri": "https://localhost:8080/"
        }
      },
      "execution_count": null,
      "outputs": [
        {
          "output_type": "stream",
          "name": "stderr",
          "text": [
            "Loading required package: data.table\n",
            "\n",
            "Loading required package: rpart\n",
            "\n"
          ]
        }
      ]
    },
    {
      "cell_type": "markdown",
      "source": [
        "###  Accion a Realizar\n",
        "PARAM$semilla  debe tener su primer semilla aleatoria"
      ],
      "metadata": {
        "id": "ZG9fCnZh3bWV"
      }
    },
    {
      "cell_type": "code",
      "source": [
        "PARAM <- list()\n",
        "PARAM$semilla <- 914443    # aqui debe ir su primer semilla\n",
        "PARAM$training_pct <- 70L  # entre  1L y 99L\n",
        "\n",
        "PARAM$rpart <- list (\n",
        "  \"cp\" = -1, # complejidad minima\n",
        "  \"minsplit\" = 170, # minima cantidad de regs en un nodo para hacer el split\n",
        "  \"minbucket\" = 70, # minima cantidad de regs en una hoja\n",
        "  \"maxdepth\" = 7 # profundidad máxima del arbol\n",
        ")\n"
      ],
      "metadata": {
        "id": "0nx5_OcE3Y9c"
      },
      "execution_count": 5,
      "outputs": []
    },
    {
      "cell_type": "code",
      "source": [
        "# particionar agrega una columna llamada fold a un dataset\n",
        "#  que consiste en una particion estratificada segun agrupa\n",
        "\n",
        "# particionar( data=dataset, division=c(70,30),\n",
        "#  agrupa=clase_ternaria, seed=semilla)   crea una particion 70, 30\n",
        "\n",
        "particionar <- function(\n",
        "    data, division, agrupa = \"\",\n",
        "    campo = \"fold\", start = 1, seed = NA) {\n",
        "  if (!is.na(seed)) set.seed(seed)\n",
        "\n",
        "  bloque <- unlist(mapply(function(x, y) {\n",
        "    rep(y, x)\n",
        "  }, division, seq(from = start, length.out = length(division))))\n",
        "\n",
        "  data[, (campo) := sample(rep(bloque, ceiling(.N / length(bloque))))[1:.N],\n",
        "    by = agrupa\n",
        "  ]\n",
        "}\n"
      ],
      "metadata": {
        "id": "8HLE9Dx80gjH"
      },
      "execution_count": 6,
      "outputs": []
    },
    {
      "cell_type": "code",
      "source": [
        "# carpeta de trabajo\n",
        "setwd(\"/content/buckets/b1/exp\")\n",
        "experimento <- \"exp201\"\n",
        "dir.create(experimento, showWarnings=FALSE)\n",
        "setwd( paste0(\"/content/buckets/b1/exp/\", experimento ))"
      ],
      "metadata": {
        "id": "sC4_nqcm0nUs"
      },
      "execution_count": 7,
      "outputs": []
    },
    {
      "cell_type": "code",
      "source": [
        "# lectura del dataset\n",
        "dataset <- fread(\"/content/datasets/dataset_pequeno.csv\")\n",
        "\n",
        "# trabajo solo con los datos con clase, es decir 202107\n",
        "dataset <- dataset[clase_ternaria != \"\"]"
      ],
      "metadata": {
        "id": "6yIEsZOw07q8"
      },
      "execution_count": 8,
      "outputs": []
    },
    {
      "cell_type": "code",
      "source": [
        "# particiono estratificadamente el dataset 70%, 30%\n",
        "particionar(dataset,\n",
        "  division = c(PARAM$training_pct, 100L -PARAM$training_pct),\n",
        "  agrupa = \"clase_ternaria\",\n",
        "  seed = PARAM$semilla # aqui se usa SU semilla\n",
        ")\n",
        "\n"
      ],
      "metadata": {
        "id": "FAO1Hhd52b5d"
      },
      "execution_count": 9,
      "outputs": []
    },
    {
      "cell_type": "code",
      "source": [
        "# genero el modelo\n",
        "# quiero predecir clase_ternaria a partir del resto\n",
        "# fold==1  es training,  el 70% de los datos\n",
        "modelo <- rpart(\"clase_ternaria ~ .\",\n",
        "  data = dataset[fold == 1],  # fold==1  es training, el 70% de los datos\n",
        "  xval = 0,\n",
        "  control = PARAM$rpart # aqui van los parametros\n",
        ")\n"
      ],
      "metadata": {
        "id": "s3UnHSLP2gN6"
      },
      "execution_count": 10,
      "outputs": []
    },
    {
      "cell_type": "code",
      "source": [
        "# aplico el modelo a los datos de testing\n",
        "prediccion <- predict(modelo, # el modelo que genere recien\n",
        "  dataset[fold == 2], # fold==2  es testing, el 30% de los datos\n",
        "  type = \"prob\"\n",
        ") # type= \"prob\"  es que devuelva la probabilidad\n"
      ],
      "metadata": {
        "id": "paQphV4A2jGz"
      },
      "execution_count": 11,
      "outputs": []
    },
    {
      "cell_type": "code",
      "source": [
        "tb_prediccion <- as.data.table(list(\n",
        "  \"clase_ternaria\"=dataset[fold == 2, clase_ternaria],\n",
        "  \"prob\"=prediccion[, \"BAJA+2\"]\n",
        "))"
      ],
      "metadata": {
        "id": "fuLZ75pA29dT"
      },
      "execution_count": 12,
      "outputs": []
    },
    {
      "cell_type": "code",
      "source": [
        "# calculo la ganancia de cada registro\n",
        "tb_prediccion[, ganancia := ifelse(clase_ternaria == \"BAJA+2\", 117000, -3000)]"
      ],
      "metadata": {
        "id": "LuG6ql_t3kOI"
      },
      "execution_count": 13,
      "outputs": []
    },
    {
      "cell_type": "code",
      "source": [
        "# calculo la clase\n",
        "tb_prediccion[, Predicted := prob > (1/40) ]"
      ],
      "metadata": {
        "id": "xJ3WTMez3leO"
      },
      "execution_count": 14,
      "outputs": []
    },
    {
      "cell_type": "code",
      "source": [
        "ganancia_test <-  tb_prediccion[ Predicted==TRUE,  sum(ganancia)]\n",
        "\n",
        "ganancia_test"
      ],
      "metadata": {
        "id": "cFQPacen4Wq6",
        "outputId": "92ec36ea-d163-4f55-d03e-b9e22fcf5843",
        "colab": {
          "base_uri": "https://localhost:8080/",
          "height": 34
        }
      },
      "execution_count": 18,
      "outputs": [
        {
          "output_type": "display_data",
          "data": {
            "text/html": [
              "14310000"
            ],
            "text/markdown": "14310000",
            "text/latex": "14310000",
            "text/plain": [
              "[1] 14310000"
            ]
          },
          "metadata": {}
        }
      ]
    },
    {
      "cell_type": "code",
      "source": [
        "# normalizo la ganancia\n",
        "ganancia_test_normalizada <- ganancia_test / (( 100 - PARAM$training_pct ) / 100 )\n",
        "\n",
        "ganancia_test_normalizada"
      ],
      "metadata": {
        "id": "dHjz0zhN4-nZ",
        "outputId": "42edfc65-96a7-4cc0-d569-9f2694825fb2",
        "colab": {
          "base_uri": "https://localhost:8080/",
          "height": 34
        }
      },
      "execution_count": 19,
      "outputs": [
        {
          "output_type": "display_data",
          "data": {
            "text/html": [
              "47700000"
            ],
            "text/markdown": "47700000",
            "text/latex": "47700000",
            "text/plain": [
              "[1] 47700000"
            ]
          },
          "metadata": {}
        }
      ]
    },
    {
      "cell_type": "code",
      "source": [
        "estimulos <- tb_prediccion[ Predicted==TRUE, .N]\n",
        "aciertos <- tb_prediccion[ Predicted & clase_ternaria == \"BAJA+2\", .N]\n",
        "\n",
        "\n",
        "head(tb_prediccion[ Predicted & clase_ternaria == \"BAJA+2\"])"
      ],
      "metadata": {
        "id": "D7RUdTb95F6B",
        "outputId": "696287b3-73bd-4282-eef3-69fcb0302b1f",
        "colab": {
          "base_uri": "https://localhost:8080/",
          "height": 286
        }
      },
      "execution_count": 29,
      "outputs": [
        {
          "output_type": "display_data",
          "data": {
            "text/html": [
              "<table class=\"dataframe\">\n",
              "<caption>A data.table: 6 × 4</caption>\n",
              "<thead>\n",
              "\t<tr><th scope=col>clase_ternaria</th><th scope=col>prob</th><th scope=col>ganancia</th><th scope=col>Predicted</th></tr>\n",
              "\t<tr><th scope=col>&lt;chr&gt;</th><th scope=col>&lt;dbl&gt;</th><th scope=col>&lt;dbl&gt;</th><th scope=col>&lt;lgl&gt;</th></tr>\n",
              "</thead>\n",
              "<tbody>\n",
              "\t<tr><td>BAJA+2</td><td>0.04193849</td><td>117000</td><td>TRUE</td></tr>\n",
              "\t<tr><td>BAJA+2</td><td>0.13725490</td><td>117000</td><td>TRUE</td></tr>\n",
              "\t<tr><td>BAJA+2</td><td>0.44943820</td><td>117000</td><td>TRUE</td></tr>\n",
              "\t<tr><td>BAJA+2</td><td>0.13948919</td><td>117000</td><td>TRUE</td></tr>\n",
              "\t<tr><td>BAJA+2</td><td>0.09574468</td><td>117000</td><td>TRUE</td></tr>\n",
              "\t<tr><td>BAJA+2</td><td>0.13948919</td><td>117000</td><td>TRUE</td></tr>\n",
              "</tbody>\n",
              "</table>\n"
            ],
            "text/markdown": "\nA data.table: 6 × 4\n\n| clase_ternaria &lt;chr&gt; | prob &lt;dbl&gt; | ganancia &lt;dbl&gt; | Predicted &lt;lgl&gt; |\n|---|---|---|---|\n| BAJA+2 | 0.04193849 | 117000 | TRUE |\n| BAJA+2 | 0.13725490 | 117000 | TRUE |\n| BAJA+2 | 0.44943820 | 117000 | TRUE |\n| BAJA+2 | 0.13948919 | 117000 | TRUE |\n| BAJA+2 | 0.09574468 | 117000 | TRUE |\n| BAJA+2 | 0.13948919 | 117000 | TRUE |\n\n",
            "text/latex": "A data.table: 6 × 4\n\\begin{tabular}{llll}\n clase\\_ternaria & prob & ganancia & Predicted\\\\\n <chr> & <dbl> & <dbl> & <lgl>\\\\\n\\hline\n\t BAJA+2 & 0.04193849 & 117000 & TRUE\\\\\n\t BAJA+2 & 0.13725490 & 117000 & TRUE\\\\\n\t BAJA+2 & 0.44943820 & 117000 & TRUE\\\\\n\t BAJA+2 & 0.13948919 & 117000 & TRUE\\\\\n\t BAJA+2 & 0.09574468 & 117000 & TRUE\\\\\n\t BAJA+2 & 0.13948919 & 117000 & TRUE\\\\\n\\end{tabular}\n",
            "text/plain": [
              "  clase_ternaria prob       ganancia Predicted\n",
              "1 BAJA+2         0.04193849 117000   TRUE     \n",
              "2 BAJA+2         0.13725490 117000   TRUE     \n",
              "3 BAJA+2         0.44943820 117000   TRUE     \n",
              "4 BAJA+2         0.13948919 117000   TRUE     \n",
              "5 BAJA+2         0.09574468 117000   TRUE     \n",
              "6 BAJA+2         0.13948919 117000   TRUE     "
            ]
          },
          "metadata": {}
        }
      ]
    },
    {
      "cell_type": "code",
      "source": [
        "# Resultado Final\n",
        "cat(\"Testing total: \", dataset[fold == 2, .N], \"\\n\")\n",
        "cat(\"Testing BAJA+2: \", dataset[fold == 2 & clase_ternaria == \"BAJA+2\", .N], \"\\n\")\n",
        "\n",
        "cat(\"Estimulos: \", estimulos, \"\\n\")\n",
        "cat(\"Aciertos (BAJA+2): \", aciertos, \"\\n\")\n",
        "\n",
        "cat(\"Ganancia en testing (normalizada): \", ganancia_test_normalizada, \"\\n\")\n"
      ],
      "metadata": {
        "id": "Lu1KM6fy5U7h",
        "outputId": "1fbd3867-d195-4469-c333-616722912339",
        "colab": {
          "base_uri": "https://localhost:8080/"
        }
      },
      "execution_count": 21,
      "outputs": [
        {
          "output_type": "stream",
          "name": "stdout",
          "text": [
            "Testing total:  49376 \n",
            "Testing BAJA+2:  374 \n",
            "Estimulos:  3310 \n",
            "Aciertos (BAJA+2):  202 \n",
            "Ganancia en testing (normalizada):  47700000 \n"
          ]
        }
      ]
    },
    {
      "cell_type": "markdown",
      "source": [
        "### Acciones a realizar\n",
        "* Reportar la  *Ganancia en testing (normalizada)* <br> en la planilla colaborativa hoja  **C2-1sem**\n",
        "* Se discutirá en clase la variabilidad de las ganancias obtenidas de distintos alumnos"
      ],
      "metadata": {
        "id": "kHs-YoFB5rUa"
      }
    },
    {
      "cell_type": "markdown",
      "source": [
        "\n",
        "\n",
        "---\n",
        "\n"
      ],
      "metadata": {
        "id": "LBl_eIeO7WuM"
      }
    },
    {
      "cell_type": "markdown",
      "source": [
        "# 2  Medición Monte Carlo Cross Validation\n",
        "## Clase 02  Experimento 2"
      ],
      "metadata": {
        "id": "h43UCq9y7UlT"
      }
    },
    {
      "cell_type": "markdown",
      "source": [
        "## 2.1  Objetivos\n",
        "Mostrar el funcionamiento de la Montecarlo Cross Validation y que l@s estudiantes aprecien la disminución de la varianza de dicha metodología.\n",
        "Relación con el Teorema Central del Límite"
      ],
      "metadata": {
        "id": "wHPchGXK80VU"
      }
    },
    {
      "cell_type": "markdown",
      "source": [
        "## 2.2 Introduccion\n",
        "\n",
        "![Montecarlo](https://storage.googleapis.com/open-courses/austral2025-af91/labo1r/C2_E2_montecarlo.jpg)\n",
        "\n",
        "![Curva normal](https://storage.googleapis.com/open-courses/austral2025-af91/labo1r/C2_E2_normal.jpg)\n",
        "\n",
        "![Teorema Central del Limite](https://storage.googleapis.com/open-courses/austral2025-af91/labo1r/C2_E2_teoremacentralLimite.jpg)\n",
        "\n"
      ],
      "metadata": {
        "id": "g6YzACxl9DzS"
      }
    },
    {
      "cell_type": "markdown",
      "source": [],
      "metadata": {
        "id": "7laod2t4ArsH"
      }
    },
    {
      "cell_type": "markdown",
      "source": [
        "## 2.3  Bibliografía\n",
        "\n",
        "Demšar, J. [Statistical comparisons of classifiers over multiple data sets](https://www.jmlr.org/papers/volume7/demsar06a/demsar06a.pdf) J. Mach. Learn. Res. 7, 1–30 (2006).   \n",
        "Starmer, J. [Machine Learning Fundamentals: Cross Validation](https://www.youtube.com/watch?v=fSytzGwwBVw)Machine Learning Fundamentals: Cross Validation, StatQuest with Josh Starmer youtube channel, (2018)\n",
        "Hastie, T.[The elements of statistical learning: data mining, inference, and prediction](https://hastie.su.domains/Papers/ESLII.pdf) , volume 2. Springer, 2009  ( Chapter 7 Model Assessment and Selection )"
      ],
      "metadata": {
        "id": "lFcJeRAkAr-q"
      }
    },
    {
      "cell_type": "code",
      "source": [],
      "metadata": {
        "id": "KXSuYXQ26cLV"
      },
      "execution_count": null,
      "outputs": []
    },
    {
      "cell_type": "markdown",
      "source": [
        "## 2.4 Codigo  Montecarlo"
      ],
      "metadata": {
        "id": "0ztZzYolA2WK"
      }
    },
    {
      "cell_type": "markdown",
      "source": [
        "El código de la Montecarlo Cross Validation es notablemente más complejo que el anterior de una simple partición training/testing\n",
        "<br> Se crea la funcion ArbolEstimarGanancia()  que dada una semilla realiza la partición  training/testing, entrena en training, aplica el modelo a testing, y se calculan las ganancias\n",
        "<br> Se utiliza la funcion **mcmapply**  de R para aplicar ArbolEstimarGanancia a todos los elementos del vector de semillas"
      ],
      "metadata": {
        "id": "KLa06ZsiC-Oz"
      }
    },
    {
      "cell_type": "markdown",
      "source": [
        "Esta parte se debe correr con el runtime en lenguaje **R** Ir al menu, Runtime -> Change Runtime Tipe -> Runtime type -> R"
      ],
      "metadata": {
        "id": "ivFiBBOQA2Ws"
      }
    },
    {
      "cell_type": "markdown",
      "source": [
        "limpio el ambiente de R"
      ],
      "metadata": {
        "id": "TMSAQDXuA2Ws"
      }
    },
    {
      "cell_type": "code",
      "source": [
        "# limpio la memoria\n",
        "rm(list=ls(all.names=TRUE)) # remove all objects\n",
        "gc(full=TRUE, verbose=FALSE) # garbage collection"
      ],
      "metadata": {
        "id": "eakzb8y2A2Wt",
        "outputId": "324e90a9-af0c-4fb2-ae1f-23a01f51c3ee",
        "colab": {
          "base_uri": "https://localhost:8080/",
          "height": 129
        }
      },
      "execution_count": 30,
      "outputs": [
        {
          "output_type": "display_data",
          "data": {
            "text/html": [
              "<table class=\"dataframe\">\n",
              "<caption>A matrix: 2 × 6 of type dbl</caption>\n",
              "<thead>\n",
              "\t<tr><th></th><th scope=col>used</th><th scope=col>(Mb)</th><th scope=col>gc trigger</th><th scope=col>(Mb)</th><th scope=col>max used</th><th scope=col>(Mb)</th></tr>\n",
              "</thead>\n",
              "<tbody>\n",
              "\t<tr><th scope=row>Ncells</th><td> 806519</td><td>43.1</td><td> 1454474</td><td> 77.7</td><td>  1454474</td><td> 77.7</td></tr>\n",
              "\t<tr><th scope=row>Vcells</th><td>1543276</td><td>11.8</td><td>85027966</td><td>648.8</td><td>104125303</td><td>794.5</td></tr>\n",
              "</tbody>\n",
              "</table>\n"
            ],
            "text/markdown": "\nA matrix: 2 × 6 of type dbl\n\n| <!--/--> | used | (Mb) | gc trigger | (Mb) | max used | (Mb) |\n|---|---|---|---|---|---|---|\n| Ncells |  806519 | 43.1 |  1454474 |  77.7 |   1454474 |  77.7 |\n| Vcells | 1543276 | 11.8 | 85027966 | 648.8 | 104125303 | 794.5 |\n\n",
            "text/latex": "A matrix: 2 × 6 of type dbl\n\\begin{tabular}{r|llllll}\n  & used & (Mb) & gc trigger & (Mb) & max used & (Mb)\\\\\n\\hline\n\tNcells &  806519 & 43.1 &  1454474 &  77.7 &   1454474 &  77.7\\\\\n\tVcells & 1543276 & 11.8 & 85027966 & 648.8 & 104125303 & 794.5\\\\\n\\end{tabular}\n",
            "text/plain": [
              "       used    (Mb) gc trigger (Mb)  max used  (Mb) \n",
              "Ncells  806519 43.1  1454474    77.7   1454474  77.7\n",
              "Vcells 1543276 11.8 85027966   648.8 104125303 794.5"
            ]
          },
          "metadata": {}
        }
      ]
    },
    {
      "cell_type": "markdown",
      "source": [
        "* Instalacion de la libreria  rpart.plot  para dibujar el arbol\n",
        "* invocacion de las librerias  **data.table** y  **rpart**"
      ],
      "metadata": {
        "id": "559RkeYZA2Wv"
      }
    },
    {
      "cell_type": "code",
      "source": [
        "# cargo las librerias que necesito\n",
        "require(\"data.table\")\n",
        "require(\"rpart\")\n",
        "require(\"parallel\")"
      ],
      "metadata": {
        "id": "yf_S_HlsA2Wv",
        "outputId": "d2dcb8a9-0ddb-428c-f1cd-029df773e82a",
        "colab": {
          "base_uri": "https://localhost:8080/"
        }
      },
      "execution_count": 31,
      "outputs": [
        {
          "output_type": "stream",
          "name": "stderr",
          "text": [
            "Loading required package: parallel\n",
            "\n"
          ]
        }
      ]
    },
    {
      "cell_type": "markdown",
      "source": [
        "###  Accion a Realizar\n",
        "PARAM$semillas  debe tener sus cinco semillas aleatorias"
      ],
      "metadata": {
        "id": "a4oz2ulCA2Ww"
      }
    },
    {
      "cell_type": "code",
      "source": [
        "PARAM <- list()\n",
        "PARAM$semillas <- c(914443 , 131311 , 584777 , 424451 , 343433 )  # aqui debe ir sus CINCO\n",
        "PARAM$training_pct <- 70L  # entre  1L y 99L\n",
        "\n",
        "PARAM$rpart <- list (\n",
        "  \"cp\" = -1, # complejidad minima\n",
        "  \"minsplit\" = 170, # minima cantidad de regs en un nodo para hacer el split\n",
        "  \"minbucket\" = 70, # minima cantidad de regs en una hoja\n",
        "  \"maxdepth\" = 7 # profundidad máxima del arbol\n",
        ")\n"
      ],
      "metadata": {
        "id": "yQ2OAP5AA2Wx"
      },
      "execution_count": 32,
      "outputs": []
    },
    {
      "cell_type": "code",
      "source": [
        "# particionar agrega una columna llamada fold a un dataset\n",
        "#  que consiste en una particion estratificada segun agrupa\n",
        "\n",
        "# particionar( data=dataset, division=c(70,30),\n",
        "#  agrupa=clase_ternaria, seed=semilla)   crea una particion 70, 30\n",
        "\n",
        "particionar <- function(\n",
        "    data, division, agrupa = \"\",\n",
        "    campo = \"fold\", start = 1, seed = NA) {\n",
        "  if (!is.na(seed)) set.seed(seed)\n",
        "\n",
        "  bloque <- unlist(mapply(function(x, y) {\n",
        "    rep(y, x)\n",
        "  }, division, seq(from = start, length.out = length(division))))\n",
        "\n",
        "  data[, (campo) := sample(rep(bloque, ceiling(.N / length(bloque))))[1:.N],\n",
        "    by = agrupa\n",
        "  ]\n",
        "}\n"
      ],
      "metadata": {
        "id": "97dMCVJWA2Wy"
      },
      "execution_count": 33,
      "outputs": []
    },
    {
      "cell_type": "code",
      "source": [
        "\n",
        "ArbolEstimarGanancia <- function(semilla, param_basicos) {\n",
        "  # particiono estratificadamente el dataset\n",
        "  particionar(dataset,\n",
        "    division = c(param_basicos$training_pct, 100L -param_basicos$training_pct),\n",
        "    agrupa = \"clase_ternaria\",\n",
        "    seed = semilla # aqui se usa SU semilla\n",
        "  )\n",
        "\n",
        "  # genero el modelo\n",
        "  # predecir clase_ternaria a partir del resto\n",
        "  modelo <- rpart(\"clase_ternaria ~ .\",\n",
        "    data = dataset[fold == 1], # fold==1  es training,  el 70% de los datos\n",
        "    xval = 0,\n",
        "    control = param_basicos$rpart\n",
        "  ) # aqui van los parametros del arbol\n",
        "\n",
        "  # aplico el modelo a los datos de testing\n",
        "  prediccion <- predict(modelo, # el modelo que genere recien\n",
        "    dataset[fold == 2], # fold==2  es testing, el 30% de los datos\n",
        "    type = \"prob\"\n",
        "  ) # type= \"prob\"  es que devuelva la probabilidad\n",
        "\n",
        "  # prediccion es una matriz con TRES columnas,\n",
        "  #  llamadas \"BAJA+1\", \"BAJA+2\"  y \"CONTINUA\"\n",
        "  # cada columna es el vector de probabilidades\n",
        "\n",
        "\n",
        "  # calculo la ganancia en testing  qu es fold==2\n",
        "  ganancia_test <- dataset[\n",
        "    fold == 2,\n",
        "    sum(ifelse(prediccion[, \"BAJA+2\"] > 0.025,\n",
        "      ifelse(clase_ternaria == \"BAJA+2\", 117000, -3000),\n",
        "      0\n",
        "    ))\n",
        "  ]\n",
        "\n",
        "  # escalo la ganancia como si fuera todo el dataset\n",
        "  ganancia_test_normalizada <- ganancia_test / (( 100 - PARAM$training_pct ) / 100 )\n",
        "\n",
        "  return(list(\n",
        "    \"semilla\" = semilla,\n",
        "    \"testing\" = dataset[fold == 2, .N],\n",
        "    \"testing_pos\" = dataset[fold == 2 & clase_ternaria == \"BAJA+2\", .N],\n",
        "    \"envios\" = dataset[fold == 2, sum(prediccion[, \"BAJA+2\"] > 0.025)],\n",
        "    \"aciertos\" = dataset[\n",
        "        fold == 2,\n",
        "        sum(prediccion[, \"BAJA+2\"] > 0.025 & clase_ternaria == \"BAJA+2\")\n",
        "    ],\n",
        "    \"ganancia_test\" = ganancia_test_normalizada\n",
        "  ))\n",
        "}\n"
      ],
      "metadata": {
        "id": "GroZSZoVBuZ5"
      },
      "execution_count": 34,
      "outputs": []
    },
    {
      "cell_type": "code",
      "source": [
        "# carpeta de trabajo\n",
        "setwd(\"/content/buckets/b1/exp\")\n",
        "experimento <- \"exp202\"\n",
        "dir.create(experimento, showWarnings=FALSE)\n",
        "setwd( paste0(\"/content/buckets/b1/exp/\", experimento ))"
      ],
      "metadata": {
        "id": "dJIBIX6kA2Wy"
      },
      "execution_count": 35,
      "outputs": []
    },
    {
      "cell_type": "code",
      "source": [
        "# lectura del dataset\n",
        "dataset <- fread(\"/content/datasets/dataset_pequeno.csv\")\n",
        "\n",
        "# trabajo solo con los datos con clase, es decir 202107\n",
        "dataset <- dataset[clase_ternaria != \"\"]"
      ],
      "metadata": {
        "id": "tKiACdU2A2Wz"
      },
      "execution_count": null,
      "outputs": []
    },
    {
      "cell_type": "code",
      "source": [
        "\n",
        "# la funcion mcmapply  llama a la funcion ArbolEstimarGanancia\n",
        "#  tantas veces como valores tenga el vector  PARAM$semillas\n",
        "salidas <- mcmapply(ArbolEstimarGanancia,\n",
        "  PARAM$semillas, # paso el vector de semillas\n",
        "  MoreArgs = list(PARAM), # aqui paso el segundo parametro\n",
        "  SIMPLIFY = FALSE,\n",
        "  mc.cores = detectCores()\n",
        ")\n",
        "\n",
        "# muestro la lista de las salidas en testing\n",
        "#  para la particion realizada con cada semilla\n",
        "salidas\n"
      ],
      "metadata": {
        "id": "64OdfeyxCMDF",
        "outputId": "fa46507a-2b0d-4dd9-be37-85aa97e9ba5a",
        "colab": {
          "base_uri": "https://localhost:8080/",
          "height": 1000
        }
      },
      "execution_count": null,
      "outputs": [
        {
          "output_type": "display_data",
          "data": {
            "text/html": [
              "<ol>\n",
              "\t<li><dl>\n",
              "\t<dt>$semilla</dt>\n",
              "\t\t<dd>914443</dd>\n",
              "\t<dt>$testing</dt>\n",
              "\t\t<dd>49376</dd>\n",
              "\t<dt>$testing_pos</dt>\n",
              "\t\t<dd>374</dd>\n",
              "\t<dt>$envios</dt>\n",
              "\t\t<dd>3310</dd>\n",
              "\t<dt>$aciertos</dt>\n",
              "\t\t<dd>202</dd>\n",
              "\t<dt>$ganancia_test</dt>\n",
              "\t\t<dd>47700000</dd>\n",
              "</dl>\n",
              "</li>\n",
              "\t<li><dl>\n",
              "\t<dt>$semilla</dt>\n",
              "\t\t<dd>131311</dd>\n",
              "\t<dt>$testing</dt>\n",
              "\t\t<dd>49386</dd>\n",
              "\t<dt>$testing_pos</dt>\n",
              "\t\t<dd>376</dd>\n",
              "\t<dt>$envios</dt>\n",
              "\t\t<dd>3205</dd>\n",
              "\t<dt>$aciertos</dt>\n",
              "\t\t<dd>202</dd>\n",
              "\t<dt>$ganancia_test</dt>\n",
              "\t\t<dd>48750000</dd>\n",
              "</dl>\n",
              "</li>\n",
              "\t<li><dl>\n",
              "\t<dt>$semilla</dt>\n",
              "\t\t<dd>584777</dd>\n",
              "\t<dt>$testing</dt>\n",
              "\t\t<dd>49371</dd>\n",
              "\t<dt>$testing_pos</dt>\n",
              "\t\t<dd>371</dd>\n",
              "\t<dt>$envios</dt>\n",
              "\t\t<dd>3279</dd>\n",
              "\t<dt>$aciertos</dt>\n",
              "\t\t<dd>195</dd>\n",
              "\t<dt>$ganancia_test</dt>\n",
              "\t\t<dd>45210000</dd>\n",
              "</dl>\n",
              "</li>\n",
              "\t<li><dl>\n",
              "\t<dt>$semilla</dt>\n",
              "\t\t<dd>424451</dd>\n",
              "\t<dt>$testing</dt>\n",
              "\t\t<dd>49383</dd>\n",
              "\t<dt>$testing_pos</dt>\n",
              "\t\t<dd>376</dd>\n",
              "\t<dt>$envios</dt>\n",
              "\t\t<dd>3154</dd>\n",
              "\t<dt>$aciertos</dt>\n",
              "\t\t<dd>198</dd>\n",
              "\t<dt>$ganancia_test</dt>\n",
              "\t\t<dd>47660000</dd>\n",
              "</dl>\n",
              "</li>\n",
              "\t<li><dl>\n",
              "\t<dt>$semilla</dt>\n",
              "\t\t<dd>343433</dd>\n",
              "\t<dt>$testing</dt>\n",
              "\t\t<dd>49384</dd>\n",
              "\t<dt>$testing_pos</dt>\n",
              "\t\t<dd>372</dd>\n",
              "\t<dt>$envios</dt>\n",
              "\t\t<dd>3312</dd>\n",
              "\t<dt>$aciertos</dt>\n",
              "\t\t<dd>202</dd>\n",
              "\t<dt>$ganancia_test</dt>\n",
              "\t\t<dd>47680000</dd>\n",
              "</dl>\n",
              "</li>\n",
              "</ol>\n"
            ],
            "text/markdown": "1. $semilla\n:   914443\n$testing\n:   49376\n$testing_pos\n:   374\n$envios\n:   3310\n$aciertos\n:   202\n$ganancia_test\n:   47700000\n\n\n\n2. $semilla\n:   131311\n$testing\n:   49386\n$testing_pos\n:   376\n$envios\n:   3205\n$aciertos\n:   202\n$ganancia_test\n:   48750000\n\n\n\n3. $semilla\n:   584777\n$testing\n:   49371\n$testing_pos\n:   371\n$envios\n:   3279\n$aciertos\n:   195\n$ganancia_test\n:   45210000\n\n\n\n4. $semilla\n:   424451\n$testing\n:   49383\n$testing_pos\n:   376\n$envios\n:   3154\n$aciertos\n:   198\n$ganancia_test\n:   47660000\n\n\n\n5. $semilla\n:   343433\n$testing\n:   49384\n$testing_pos\n:   372\n$envios\n:   3312\n$aciertos\n:   202\n$ganancia_test\n:   47680000\n\n\n\n\n\n",
            "text/latex": "\\begin{enumerate}\n\\item \\begin{description}\n\\item[\\$semilla] 914443\n\\item[\\$testing] 49376\n\\item[\\$testing\\_pos] 374\n\\item[\\$envios] 3310\n\\item[\\$aciertos] 202\n\\item[\\$ganancia\\_test] 47700000\n\\end{description}\n\n\\item \\begin{description}\n\\item[\\$semilla] 131311\n\\item[\\$testing] 49386\n\\item[\\$testing\\_pos] 376\n\\item[\\$envios] 3205\n\\item[\\$aciertos] 202\n\\item[\\$ganancia\\_test] 48750000\n\\end{description}\n\n\\item \\begin{description}\n\\item[\\$semilla] 584777\n\\item[\\$testing] 49371\n\\item[\\$testing\\_pos] 371\n\\item[\\$envios] 3279\n\\item[\\$aciertos] 195\n\\item[\\$ganancia\\_test] 45210000\n\\end{description}\n\n\\item \\begin{description}\n\\item[\\$semilla] 424451\n\\item[\\$testing] 49383\n\\item[\\$testing\\_pos] 376\n\\item[\\$envios] 3154\n\\item[\\$aciertos] 198\n\\item[\\$ganancia\\_test] 47660000\n\\end{description}\n\n\\item \\begin{description}\n\\item[\\$semilla] 343433\n\\item[\\$testing] 49384\n\\item[\\$testing\\_pos] 372\n\\item[\\$envios] 3312\n\\item[\\$aciertos] 202\n\\item[\\$ganancia\\_test] 47680000\n\\end{description}\n\n\\end{enumerate}\n",
            "text/plain": [
              "[[1]]\n",
              "[[1]]$semilla\n",
              "[1] 914443\n",
              "\n",
              "[[1]]$testing\n",
              "[1] 49376\n",
              "\n",
              "[[1]]$testing_pos\n",
              "[1] 374\n",
              "\n",
              "[[1]]$envios\n",
              "[1] 3310\n",
              "\n",
              "[[1]]$aciertos\n",
              "[1] 202\n",
              "\n",
              "[[1]]$ganancia_test\n",
              "[1] 47700000\n",
              "\n",
              "\n",
              "[[2]]\n",
              "[[2]]$semilla\n",
              "[1] 131311\n",
              "\n",
              "[[2]]$testing\n",
              "[1] 49386\n",
              "\n",
              "[[2]]$testing_pos\n",
              "[1] 376\n",
              "\n",
              "[[2]]$envios\n",
              "[1] 3205\n",
              "\n",
              "[[2]]$aciertos\n",
              "[1] 202\n",
              "\n",
              "[[2]]$ganancia_test\n",
              "[1] 48750000\n",
              "\n",
              "\n",
              "[[3]]\n",
              "[[3]]$semilla\n",
              "[1] 584777\n",
              "\n",
              "[[3]]$testing\n",
              "[1] 49371\n",
              "\n",
              "[[3]]$testing_pos\n",
              "[1] 371\n",
              "\n",
              "[[3]]$envios\n",
              "[1] 3279\n",
              "\n",
              "[[3]]$aciertos\n",
              "[1] 195\n",
              "\n",
              "[[3]]$ganancia_test\n",
              "[1] 45210000\n",
              "\n",
              "\n",
              "[[4]]\n",
              "[[4]]$semilla\n",
              "[1] 424451\n",
              "\n",
              "[[4]]$testing\n",
              "[1] 49383\n",
              "\n",
              "[[4]]$testing_pos\n",
              "[1] 376\n",
              "\n",
              "[[4]]$envios\n",
              "[1] 3154\n",
              "\n",
              "[[4]]$aciertos\n",
              "[1] 198\n",
              "\n",
              "[[4]]$ganancia_test\n",
              "[1] 47660000\n",
              "\n",
              "\n",
              "[[5]]\n",
              "[[5]]$semilla\n",
              "[1] 343433\n",
              "\n",
              "[[5]]$testing\n",
              "[1] 49384\n",
              "\n",
              "[[5]]$testing_pos\n",
              "[1] 372\n",
              "\n",
              "[[5]]$envios\n",
              "[1] 3312\n",
              "\n",
              "[[5]]$aciertos\n",
              "[1] 202\n",
              "\n",
              "[[5]]$ganancia_test\n",
              "[1] 47680000\n",
              "\n"
            ]
          },
          "metadata": {}
        }
      ]
    },
    {
      "cell_type": "code",
      "source": [
        "# paso la lista a vector\n",
        "tb_salida <- rbindlist(salidas)\n",
        "print( tb_salida)"
      ],
      "metadata": {
        "id": "tML9VmH2ECFK",
        "outputId": "35737e3b-1225-466e-9598-5a8dcc11e491",
        "colab": {
          "base_uri": "https://localhost:8080/"
        }
      },
      "execution_count": null,
      "outputs": [
        {
          "output_type": "stream",
          "name": "stdout",
          "text": [
            "   semilla testing testing_pos envios aciertos ganancia_test\n",
            "     <num>   <int>       <int>  <int>    <int>         <num>\n",
            "1:  914443   49376         374   3310      202      47700000\n",
            "2:  131311   49386         376   3205      202      48750000\n",
            "3:  584777   49371         371   3279      195      45210000\n",
            "4:  424451   49383         376   3154      198      47660000\n",
            "5:  343433   49384         372   3312      202      47680000\n"
          ]
        }
      ]
    },
    {
      "cell_type": "code",
      "source": [
        "# finalmente calculo la media (promedio)  de las ganancias\n",
        "cat( \"ganancia promedio: \", tb_salida[, mean(ganancia_test)], \"\\n\" )"
      ],
      "metadata": {
        "id": "rbHXPfoVENQB",
        "outputId": "6d504922-e565-47ae-a07f-d829b91a1982",
        "colab": {
          "base_uri": "https://localhost:8080/"
        }
      },
      "execution_count": null,
      "outputs": [
        {
          "output_type": "stream",
          "name": "stdout",
          "text": [
            "ganancia promedio:  47400000 \n"
          ]
        }
      ]
    },
    {
      "cell_type": "markdown",
      "source": [
        "### Acciones a realizar\n",
        "* Reportar la  *Ganancia Promedio* <br> en la planilla colaborativa hoja  **C2-5sem**\n",
        "* Se discutirá en clase la variabilidad de estos \"ganancia promedio de cinco semillas\""
      ],
      "metadata": {
        "id": "_3xVH6UKA2W6"
      }
    },
    {
      "cell_type": "markdown",
      "source": [
        "\n",
        "\n",
        "---\n",
        "\n"
      ],
      "metadata": {
        "id": "N29m1XGpA2W7"
      }
    },
    {
      "cell_type": "markdown",
      "source": [
        "# 3  Generando n semillas en forma automatica\n",
        "## Clase 02  Experimento 3"
      ],
      "metadata": {
        "id": "zS7WIJciFGc6"
      }
    },
    {
      "cell_type": "markdown",
      "source": [
        "## 3.1  Objetivos\n",
        "Mostrar la creación de nuevas semillas a partir de la librería Primes"
      ],
      "metadata": {
        "id": "VmiFDDDJFUEo"
      }
    },
    {
      "cell_type": "markdown",
      "source": [
        "3.2  Código\n",
        "\n",
        "Como generar muchas semillas a partir de una"
      ],
      "metadata": {
        "id": "Ehe3VfdfFbvg"
      }
    },
    {
      "cell_type": "code",
      "source": [
        "# instalo y cargo la libreria  primes\n",
        "if (!require(\"primes\")) install.packages(\"primes\")\n",
        "require(\"primes\")"
      ],
      "metadata": {
        "id": "X6_dE42yF2-t",
        "outputId": "73145d31-15a0-48ab-db3a-dc491f6a8d6e",
        "colab": {
          "base_uri": "https://localhost:8080/"
        }
      },
      "execution_count": null,
      "outputs": [
        {
          "output_type": "stream",
          "name": "stderr",
          "text": [
            "Loading required package: primes\n",
            "\n",
            "Warning message in library(package, lib.loc = lib.loc, character.only = TRUE, logical.return = TRUE, :\n",
            "“there is no package called ‘primes’”\n",
            "Installing package into ‘/usr/local/lib/R/site-library’\n",
            "(as ‘lib’ is unspecified)\n",
            "\n",
            "Loading required package: primes\n",
            "\n"
          ]
        }
      ]
    },
    {
      "cell_type": "code",
      "source": [
        "# genero numeros primos\n",
        "primos <- generate_primes(min = 100000, max = 1000000)\n",
        "\n",
        "\n",
        "set.seed(914443) # inicializo con mi primer semilla\n",
        "\n",
        "# me quedo con por ejemplo 20 primos al azar\n",
        "semillas <- sample(primos, 20 )\n",
        "\n",
        "print( semillas )"
      ],
      "metadata": {
        "id": "yDU9RyV4FNhZ",
        "outputId": "d747cba8-4845-4f36-8230-958325c9a951",
        "colab": {
          "base_uri": "https://localhost:8080/"
        }
      },
      "execution_count": null,
      "outputs": [
        {
          "output_type": "stream",
          "name": "stdout",
          "text": [
            " [1] 575693 494803 767111 756727 457087 108863 814243 227977 223319 536513\n",
            "[11] 103471 549737 970969 870049 502841 274093 218479 134077 426331 670049\n"
          ]
        }
      ]
    },
    {
      "cell_type": "markdown",
      "source": [
        "\n",
        "\n",
        "---\n",
        "\n"
      ],
      "metadata": {
        "id": "eD_cO5VTGGea"
      }
    },
    {
      "cell_type": "code",
      "source": [],
      "metadata": {
        "id": "k-rgoA2ZFll4"
      },
      "execution_count": null,
      "outputs": []
    },
    {
      "cell_type": "markdown",
      "source": [
        "# 4  Medición  50-Monte Carlo Cross Validation\n",
        "## Clase 02  Experimento 4"
      ],
      "metadata": {
        "id": "cZi29THsGil_"
      }
    },
    {
      "cell_type": "markdown",
      "source": [
        "## 4.1  Objetivos\n",
        "Calcular la ganancia del modelo utilizando 50 semillas nuevas generadas a partir de mi semilla primigenia."
      ],
      "metadata": {
        "id": "qFNq6ntVGimN"
      }
    },
    {
      "cell_type": "markdown",
      "source": [
        "## 4.4 Codigo  50 Montecarlo"
      ],
      "metadata": {
        "id": "B6KtuhQCGimP"
      }
    },
    {
      "cell_type": "markdown",
      "source": [
        "Esta parte se debe correr con el runtime en lenguaje **R** Ir al menu, Runtime -> Change Runtime Tipe -> Runtime type -> R"
      ],
      "metadata": {
        "id": "LgGgjPQuGimP"
      }
    },
    {
      "cell_type": "markdown",
      "source": [
        "Este punto demora en correr 60 minutos en Google Colab, con lo cual para continuar con el punto siguiente deberá abrir un nuevo Colab"
      ],
      "metadata": {
        "id": "E82ChuO25OYx"
      }
    },
    {
      "cell_type": "markdown",
      "source": [
        "limpio el ambiente de R"
      ],
      "metadata": {
        "id": "a6AxqLwOGimQ"
      }
    },
    {
      "cell_type": "code",
      "source": [
        "# limpio la memoria\n",
        "rm(list=ls(all.names=TRUE)) # remove all objects\n",
        "gc(full=TRUE, verbose=FALSE) # garbage collection"
      ],
      "metadata": {
        "id": "797Ad0_QGimQ",
        "outputId": "87d18ec6-9a45-43ed-8fc8-26a049473881",
        "colab": {
          "base_uri": "https://localhost:8080/",
          "height": 129
        }
      },
      "execution_count": null,
      "outputs": [
        {
          "output_type": "display_data",
          "data": {
            "text/html": [
              "<table class=\"dataframe\">\n",
              "<caption>A matrix: 2 × 6 of type dbl</caption>\n",
              "<thead>\n",
              "\t<tr><th></th><th scope=col>used</th><th scope=col>(Mb)</th><th scope=col>gc trigger</th><th scope=col>(Mb)</th><th scope=col>max used</th><th scope=col>(Mb)</th></tr>\n",
              "</thead>\n",
              "<tbody>\n",
              "\t<tr><th scope=row>Ncells</th><td> 831168</td><td>44.4</td><td> 1454462</td><td> 77.7</td><td>  1454462</td><td> 77.7</td></tr>\n",
              "\t<tr><th scope=row>Vcells</th><td>1566330</td><td>12.0</td><td>81561037</td><td>622.3</td><td>127437267</td><td>972.3</td></tr>\n",
              "</tbody>\n",
              "</table>\n"
            ],
            "text/markdown": "\nA matrix: 2 × 6 of type dbl\n\n| <!--/--> | used | (Mb) | gc trigger | (Mb) | max used | (Mb) |\n|---|---|---|---|---|---|---|\n| Ncells |  831168 | 44.4 |  1454462 |  77.7 |   1454462 |  77.7 |\n| Vcells | 1566330 | 12.0 | 81561037 | 622.3 | 127437267 | 972.3 |\n\n",
            "text/latex": "A matrix: 2 × 6 of type dbl\n\\begin{tabular}{r|llllll}\n  & used & (Mb) & gc trigger & (Mb) & max used & (Mb)\\\\\n\\hline\n\tNcells &  831168 & 44.4 &  1454462 &  77.7 &   1454462 &  77.7\\\\\n\tVcells & 1566330 & 12.0 & 81561037 & 622.3 & 127437267 & 972.3\\\\\n\\end{tabular}\n",
            "text/plain": [
              "       used    (Mb) gc trigger (Mb)  max used  (Mb) \n",
              "Ncells  831168 44.4  1454462    77.7   1454462  77.7\n",
              "Vcells 1566330 12.0 81561037   622.3 127437267 972.3"
            ]
          },
          "metadata": {}
        }
      ]
    },
    {
      "cell_type": "markdown",
      "source": [
        "* Instalacion de la libreria  rpart.plot  para dibujar el arbol\n",
        "* invocacion de las librerias  **data.table** y  **rpart**"
      ],
      "metadata": {
        "id": "v0CepvbjGimQ"
      }
    },
    {
      "cell_type": "code",
      "source": [
        "# cargo las librerias que necesito\n",
        "require(\"data.table\")\n",
        "require(\"rpart\")\n",
        "require(\"parallel\")\n",
        "\n",
        "if (!require(\"primes\")) install.packages(\"primes\")\n",
        "require(\"primes\")"
      ],
      "metadata": {
        "id": "CRkZ1V2_GimR"
      },
      "execution_count": null,
      "outputs": []
    },
    {
      "cell_type": "markdown",
      "source": [
        "###  Accion a Realizar\n",
        "PARAM$semilla_primigenia  debe reemplazarse por SU primer semilla"
      ],
      "metadata": {
        "id": "PZKJG-nSGimR"
      }
    },
    {
      "cell_type": "code",
      "source": [
        "PARAM <- list()\n",
        "PARAM$semilla_primigenia <- 914443\n",
        "PARAM$qsemillas <- 50\n",
        "PARAM$training_pct <- 70L  # entre  1L y 99L\n",
        "\n",
        "PARAM$rpart <- list (\n",
        "  \"cp\" = -1, # complejidad minima\n",
        "  \"minsplit\" = 170, # minima cantidad de regs en un nodo para hacer el split\n",
        "  \"minbucket\" = 70, # minima cantidad de regs en una hoja\n",
        "  \"maxdepth\" = 7 # profundidad máxima del arbol\n",
        ")\n"
      ],
      "metadata": {
        "id": "4kbkA-2HGimR"
      },
      "execution_count": null,
      "outputs": []
    },
    {
      "cell_type": "code",
      "source": [
        "# particionar agrega una columna llamada fold a un dataset\n",
        "#  que consiste en una particion estratificada segun agrupa\n",
        "\n",
        "# particionar( data=dataset, division=c(70,30),\n",
        "#  agrupa=clase_ternaria, seed=semilla)   crea una particion 70, 30\n",
        "\n",
        "particionar <- function(\n",
        "    data, division, agrupa = \"\",\n",
        "    campo = \"fold\", start = 1, seed = NA) {\n",
        "  if (!is.na(seed)) set.seed(seed)\n",
        "\n",
        "  bloque <- unlist(mapply(function(x, y) {\n",
        "    rep(y, x)\n",
        "  }, division, seq(from = start, length.out = length(division))))\n",
        "\n",
        "  data[, (campo) := sample(rep(bloque, ceiling(.N / length(bloque))))[1:.N],\n",
        "    by = agrupa\n",
        "  ]\n",
        "}\n"
      ],
      "metadata": {
        "id": "HME0qUeOGimS"
      },
      "execution_count": null,
      "outputs": []
    },
    {
      "cell_type": "code",
      "source": [
        "\n",
        "ArbolEstimarGanancia <- function(semilla, param_basicos) {\n",
        "  # particiono estratificadamente el dataset\n",
        "  particionar(dataset,\n",
        "    division = c(param_basicos$training_pct, 100L -param_basicos$training_pct),\n",
        "    agrupa = \"clase_ternaria\",\n",
        "    seed = semilla # aqui se usa SU semilla\n",
        "  )\n",
        "\n",
        "  # genero el modelo\n",
        "  # predecir clase_ternaria a partir del resto\n",
        "  modelo <- rpart(\"clase_ternaria ~ .\",\n",
        "    data = dataset[fold == 1], # fold==1  es training,  el 70% de los datos\n",
        "    xval = 0,\n",
        "    control = param_basicos$rpart\n",
        "  ) # aqui van los parametros del arbol\n",
        "\n",
        "  # aplico el modelo a los datos de testing\n",
        "  prediccion <- predict(modelo, # el modelo que genere recien\n",
        "    dataset[fold == 2], # fold==2  es testing, el 30% de los datos\n",
        "    type = \"prob\"\n",
        "  ) # type= \"prob\"  es que devuelva la probabilidad\n",
        "\n",
        "  # prediccion es una matriz con TRES columnas,\n",
        "  #  llamadas \"BAJA+1\", \"BAJA+2\"  y \"CONTINUA\"\n",
        "  # cada columna es el vector de probabilidades\n",
        "\n",
        "\n",
        "  # calculo la ganancia en testing  qu es fold==2\n",
        "  ganancia_test <- dataset[\n",
        "    fold == 2,\n",
        "    sum(ifelse(prediccion[, \"BAJA+2\"] > 0.025,\n",
        "      ifelse(clase_ternaria == \"BAJA+2\", 117000, -3000),\n",
        "      0\n",
        "    ))\n",
        "  ]\n",
        "\n",
        "  # escalo la ganancia como si fuera todo el dataset\n",
        "  ganancia_test_normalizada <- ganancia_test / (( 100 - PARAM$training_pct ) / 100 )\n",
        "\n",
        "  return(list(\n",
        "    \"semilla\" = semilla,\n",
        "    \"testing\" = dataset[fold == 2, .N],\n",
        "    \"testing_pos\" = dataset[fold == 2 & clase_ternaria == \"BAJA+2\", .N],\n",
        "    \"envios\" = dataset[fold == 2, sum(prediccion[, \"BAJA+2\"] > 0.025)],\n",
        "    \"aciertos\" = dataset[\n",
        "        fold == 2,\n",
        "        sum(prediccion[, \"BAJA+2\"] > 0.025 & clase_ternaria == \"BAJA+2\")\n",
        "    ],\n",
        "    \"ganancia_test\" = ganancia_test_normalizada\n",
        "  ))\n",
        "}\n"
      ],
      "metadata": {
        "id": "ro9Ufoi-GimS"
      },
      "execution_count": null,
      "outputs": []
    },
    {
      "cell_type": "code",
      "source": [
        "# carpeta de trabajo\n",
        "setwd(\"/content/buckets/b1/exp\")\n",
        "experimento <- \"exp204\"\n",
        "dir.create(experimento, showWarnings=FALSE)\n",
        "setwd( paste0(\"/content/buckets/b1/exp/\", experimento ))"
      ],
      "metadata": {
        "id": "gz7LgltwGimT"
      },
      "execution_count": null,
      "outputs": []
    },
    {
      "cell_type": "code",
      "source": [
        "# lectura del dataset\n",
        "dataset <- fread(\"/content/datasets/dataset_pequeno.csv\")\n",
        "\n",
        "# trabajo solo con los datos con clase, es decir 202107\n",
        "dataset <- dataset[clase_ternaria != \"\"]"
      ],
      "metadata": {
        "id": "xRXKHeLeGimT"
      },
      "execution_count": null,
      "outputs": []
    },
    {
      "cell_type": "code",
      "source": [
        "# genero numeros primos\n",
        "primos <- generate_primes(min = 100000, max = 1000000)\n",
        "set.seed(PARAM$semilla_primigenia) # inicializo\n",
        "\n",
        "# me quedo con PARAM$qsemillas   semillas\n",
        "PARAM$semillas <- sample(primos, PARAM$qsemillas )"
      ],
      "metadata": {
        "id": "MdpZ10qiHSZy"
      },
      "execution_count": null,
      "outputs": []
    },
    {
      "cell_type": "code",
      "source": [
        "\n",
        "# la funcion mcmapply  llama a la funcion ArbolEstimarGanancia\n",
        "#  tantas veces como valores tenga el vector  PARAM$semillas\n",
        "salidas <- mcmapply(ArbolEstimarGanancia,\n",
        "  PARAM$semillas, # paso el vector de semillas\n",
        "  MoreArgs = list(PARAM), # aqui paso el segundo parametro\n",
        "  SIMPLIFY = FALSE,\n",
        "  mc.cores = detectCores()\n",
        ")\n",
        "\n",
        "# muestro la lista de las salidas en testing\n",
        "#  para la particion realizada con cada semilla\n",
        "salidas\n"
      ],
      "metadata": {
        "id": "r-YaawpgGimU",
        "outputId": "f0b8e314-1052-4405-c3ba-71f8578b6982",
        "colab": {
          "base_uri": "https://localhost:8080/",
          "height": 1000
        }
      },
      "execution_count": null,
      "outputs": [
        {
          "output_type": "display_data",
          "data": {
            "text/html": [
              "<ol>\n",
              "\t<li><dl>\n",
              "\t<dt>$semilla</dt>\n",
              "\t\t<dd>575693</dd>\n",
              "\t<dt>$testing</dt>\n",
              "\t\t<dd>49378</dd>\n",
              "\t<dt>$testing_pos</dt>\n",
              "\t\t<dd>376</dd>\n",
              "\t<dt>$envios</dt>\n",
              "\t\t<dd>2890</dd>\n",
              "\t<dt>$aciertos</dt>\n",
              "\t\t<dd>189</dd>\n",
              "\t<dt>$ganancia_test</dt>\n",
              "\t\t<dd>46700000</dd>\n",
              "</dl>\n",
              "</li>\n",
              "\t<li><dl>\n",
              "\t<dt>$semilla</dt>\n",
              "\t\t<dd>494803</dd>\n",
              "\t<dt>$testing</dt>\n",
              "\t\t<dd>49378</dd>\n",
              "\t<dt>$testing_pos</dt>\n",
              "\t\t<dd>373</dd>\n",
              "\t<dt>$envios</dt>\n",
              "\t\t<dd>3586</dd>\n",
              "\t<dt>$aciertos</dt>\n",
              "\t\t<dd>204</dd>\n",
              "\t<dt>$ganancia_test</dt>\n",
              "\t\t<dd>45740000</dd>\n",
              "</dl>\n",
              "</li>\n",
              "\t<li><dl>\n",
              "\t<dt>$semilla</dt>\n",
              "\t\t<dd>767111</dd>\n",
              "\t<dt>$testing</dt>\n",
              "\t\t<dd>49389</dd>\n",
              "\t<dt>$testing_pos</dt>\n",
              "\t\t<dd>376</dd>\n",
              "\t<dt>$envios</dt>\n",
              "\t\t<dd>4025</dd>\n",
              "\t<dt>$aciertos</dt>\n",
              "\t\t<dd>221</dd>\n",
              "\t<dt>$ganancia_test</dt>\n",
              "\t\t<dd>48150000</dd>\n",
              "</dl>\n",
              "</li>\n",
              "\t<li><dl>\n",
              "\t<dt>$semilla</dt>\n",
              "\t\t<dd>756727</dd>\n",
              "\t<dt>$testing</dt>\n",
              "\t\t<dd>49361</dd>\n",
              "\t<dt>$testing_pos</dt>\n",
              "\t\t<dd>370</dd>\n",
              "\t<dt>$envios</dt>\n",
              "\t\t<dd>4245</dd>\n",
              "\t<dt>$aciertos</dt>\n",
              "\t\t<dd>221</dd>\n",
              "\t<dt>$ganancia_test</dt>\n",
              "\t\t<dd>45950000</dd>\n",
              "</dl>\n",
              "</li>\n",
              "\t<li><dl>\n",
              "\t<dt>$semilla</dt>\n",
              "\t\t<dd>457087</dd>\n",
              "\t<dt>$testing</dt>\n",
              "\t\t<dd>49375</dd>\n",
              "\t<dt>$testing_pos</dt>\n",
              "\t\t<dd>370</dd>\n",
              "\t<dt>$envios</dt>\n",
              "\t\t<dd>3197</dd>\n",
              "\t<dt>$aciertos</dt>\n",
              "\t\t<dd>195</dd>\n",
              "\t<dt>$ganancia_test</dt>\n",
              "\t\t<dd>46030000</dd>\n",
              "</dl>\n",
              "</li>\n",
              "\t<li><dl>\n",
              "\t<dt>$semilla</dt>\n",
              "\t\t<dd>108863</dd>\n",
              "\t<dt>$testing</dt>\n",
              "\t\t<dd>49376</dd>\n",
              "\t<dt>$testing_pos</dt>\n",
              "\t\t<dd>372</dd>\n",
              "\t<dt>$envios</dt>\n",
              "\t\t<dd>2943</dd>\n",
              "\t<dt>$aciertos</dt>\n",
              "\t\t<dd>206</dd>\n",
              "\t<dt>$ganancia_test</dt>\n",
              "\t\t<dd>52970000</dd>\n",
              "</dl>\n",
              "</li>\n",
              "\t<li><dl>\n",
              "\t<dt>$semilla</dt>\n",
              "\t\t<dd>814243</dd>\n",
              "\t<dt>$testing</dt>\n",
              "\t\t<dd>49380</dd>\n",
              "\t<dt>$testing_pos</dt>\n",
              "\t\t<dd>375</dd>\n",
              "\t<dt>$envios</dt>\n",
              "\t\t<dd>3407</dd>\n",
              "\t<dt>$aciertos</dt>\n",
              "\t\t<dd>204</dd>\n",
              "\t<dt>$ganancia_test</dt>\n",
              "\t\t<dd>47530000</dd>\n",
              "</dl>\n",
              "</li>\n",
              "\t<li><dl>\n",
              "\t<dt>$semilla</dt>\n",
              "\t\t<dd>227977</dd>\n",
              "\t<dt>$testing</dt>\n",
              "\t\t<dd>49383</dd>\n",
              "\t<dt>$testing_pos</dt>\n",
              "\t\t<dd>379</dd>\n",
              "\t<dt>$envios</dt>\n",
              "\t\t<dd>3123</dd>\n",
              "\t<dt>$aciertos</dt>\n",
              "\t\t<dd>191</dd>\n",
              "\t<dt>$ganancia_test</dt>\n",
              "\t\t<dd>45170000</dd>\n",
              "</dl>\n",
              "</li>\n",
              "\t<li><dl>\n",
              "\t<dt>$semilla</dt>\n",
              "\t\t<dd>223319</dd>\n",
              "\t<dt>$testing</dt>\n",
              "\t\t<dd>49381</dd>\n",
              "\t<dt>$testing_pos</dt>\n",
              "\t\t<dd>373</dd>\n",
              "\t<dt>$envios</dt>\n",
              "\t\t<dd>3709</dd>\n",
              "\t<dt>$aciertos</dt>\n",
              "\t\t<dd>215</dd>\n",
              "\t<dt>$ganancia_test</dt>\n",
              "\t\t<dd>48910000</dd>\n",
              "</dl>\n",
              "</li>\n",
              "\t<li><dl>\n",
              "\t<dt>$semilla</dt>\n",
              "\t\t<dd>536513</dd>\n",
              "\t<dt>$testing</dt>\n",
              "\t\t<dd>49381</dd>\n",
              "\t<dt>$testing_pos</dt>\n",
              "\t\t<dd>372</dd>\n",
              "\t<dt>$envios</dt>\n",
              "\t\t<dd>3264</dd>\n",
              "\t<dt>$aciertos</dt>\n",
              "\t\t<dd>184</dd>\n",
              "\t<dt>$ganancia_test</dt>\n",
              "\t\t<dd>40960000</dd>\n",
              "</dl>\n",
              "</li>\n",
              "\t<li><dl>\n",
              "\t<dt>$semilla</dt>\n",
              "\t\t<dd>103471</dd>\n",
              "\t<dt>$testing</dt>\n",
              "\t\t<dd>49383</dd>\n",
              "\t<dt>$testing_pos</dt>\n",
              "\t\t<dd>377</dd>\n",
              "\t<dt>$envios</dt>\n",
              "\t\t<dd>3365</dd>\n",
              "\t<dt>$aciertos</dt>\n",
              "\t\t<dd>195</dd>\n",
              "\t<dt>$ganancia_test</dt>\n",
              "\t\t<dd>44350000</dd>\n",
              "</dl>\n",
              "</li>\n",
              "\t<li><dl>\n",
              "\t<dt>$semilla</dt>\n",
              "\t\t<dd>549737</dd>\n",
              "\t<dt>$testing</dt>\n",
              "\t\t<dd>49381</dd>\n",
              "\t<dt>$testing_pos</dt>\n",
              "\t\t<dd>377</dd>\n",
              "\t<dt>$envios</dt>\n",
              "\t\t<dd>3921</dd>\n",
              "\t<dt>$aciertos</dt>\n",
              "\t\t<dd>207</dd>\n",
              "\t<dt>$ganancia_test</dt>\n",
              "\t\t<dd>43590000</dd>\n",
              "</dl>\n",
              "</li>\n",
              "\t<li><dl>\n",
              "\t<dt>$semilla</dt>\n",
              "\t\t<dd>970969</dd>\n",
              "\t<dt>$testing</dt>\n",
              "\t\t<dd>49384</dd>\n",
              "\t<dt>$testing_pos</dt>\n",
              "\t\t<dd>370</dd>\n",
              "\t<dt>$envios</dt>\n",
              "\t\t<dd>3447</dd>\n",
              "\t<dt>$aciertos</dt>\n",
              "\t\t<dd>210</dd>\n",
              "\t<dt>$ganancia_test</dt>\n",
              "\t\t<dd>49530000</dd>\n",
              "</dl>\n",
              "</li>\n",
              "\t<li><dl>\n",
              "\t<dt>$semilla</dt>\n",
              "\t\t<dd>870049</dd>\n",
              "\t<dt>$testing</dt>\n",
              "\t\t<dd>49364</dd>\n",
              "\t<dt>$testing_pos</dt>\n",
              "\t\t<dd>368</dd>\n",
              "\t<dt>$envios</dt>\n",
              "\t\t<dd>3631</dd>\n",
              "\t<dt>$aciertos</dt>\n",
              "\t\t<dd>215</dd>\n",
              "\t<dt>$ganancia_test</dt>\n",
              "\t\t<dd>49690000</dd>\n",
              "</dl>\n",
              "</li>\n",
              "\t<li><dl>\n",
              "\t<dt>$semilla</dt>\n",
              "\t\t<dd>502841</dd>\n",
              "\t<dt>$testing</dt>\n",
              "\t\t<dd>49381</dd>\n",
              "\t<dt>$testing_pos</dt>\n",
              "\t\t<dd>376</dd>\n",
              "\t<dt>$envios</dt>\n",
              "\t\t<dd>3256</dd>\n",
              "\t<dt>$aciertos</dt>\n",
              "\t\t<dd>221</dd>\n",
              "\t<dt>$ganancia_test</dt>\n",
              "\t\t<dd>55840000</dd>\n",
              "</dl>\n",
              "</li>\n",
              "\t<li><dl>\n",
              "\t<dt>$semilla</dt>\n",
              "\t\t<dd>274093</dd>\n",
              "\t<dt>$testing</dt>\n",
              "\t\t<dd>49383</dd>\n",
              "\t<dt>$testing_pos</dt>\n",
              "\t\t<dd>374</dd>\n",
              "\t<dt>$envios</dt>\n",
              "\t\t<dd>3783</dd>\n",
              "\t<dt>$aciertos</dt>\n",
              "\t\t<dd>220</dd>\n",
              "\t<dt>$ganancia_test</dt>\n",
              "\t\t<dd>50170000</dd>\n",
              "</dl>\n",
              "</li>\n",
              "\t<li><dl>\n",
              "\t<dt>$semilla</dt>\n",
              "\t\t<dd>218479</dd>\n",
              "\t<dt>$testing</dt>\n",
              "\t\t<dd>49378</dd>\n",
              "\t<dt>$testing_pos</dt>\n",
              "\t\t<dd>374</dd>\n",
              "\t<dt>$envios</dt>\n",
              "\t\t<dd>2902</dd>\n",
              "\t<dt>$aciertos</dt>\n",
              "\t\t<dd>180</dd>\n",
              "\t<dt>$ganancia_test</dt>\n",
              "\t\t<dd>42980000</dd>\n",
              "</dl>\n",
              "</li>\n",
              "\t<li><dl>\n",
              "\t<dt>$semilla</dt>\n",
              "\t\t<dd>134077</dd>\n",
              "\t<dt>$testing</dt>\n",
              "\t\t<dd>49382</dd>\n",
              "\t<dt>$testing_pos</dt>\n",
              "\t\t<dd>373</dd>\n",
              "\t<dt>$envios</dt>\n",
              "\t\t<dd>3309</dd>\n",
              "\t<dt>$aciertos</dt>\n",
              "\t\t<dd>209</dd>\n",
              "\t<dt>$ganancia_test</dt>\n",
              "\t\t<dd>50510000</dd>\n",
              "</dl>\n",
              "</li>\n",
              "\t<li><dl>\n",
              "\t<dt>$semilla</dt>\n",
              "\t\t<dd>426331</dd>\n",
              "\t<dt>$testing</dt>\n",
              "\t\t<dd>49370</dd>\n",
              "\t<dt>$testing_pos</dt>\n",
              "\t\t<dd>376</dd>\n",
              "\t<dt>$envios</dt>\n",
              "\t\t<dd>4313</dd>\n",
              "\t<dt>$aciertos</dt>\n",
              "\t\t<dd>222</dd>\n",
              "\t<dt>$ganancia_test</dt>\n",
              "\t\t<dd>45670000</dd>\n",
              "</dl>\n",
              "</li>\n",
              "\t<li><dl>\n",
              "\t<dt>$semilla</dt>\n",
              "\t\t<dd>670049</dd>\n",
              "\t<dt>$testing</dt>\n",
              "\t\t<dd>49385</dd>\n",
              "\t<dt>$testing_pos</dt>\n",
              "\t\t<dd>375</dd>\n",
              "\t<dt>$envios</dt>\n",
              "\t\t<dd>3138</dd>\n",
              "\t<dt>$aciertos</dt>\n",
              "\t\t<dd>202</dd>\n",
              "\t<dt>$ganancia_test</dt>\n",
              "\t\t<dd>49420000</dd>\n",
              "</dl>\n",
              "</li>\n",
              "\t<li><dl>\n",
              "\t<dt>$semilla</dt>\n",
              "\t\t<dd>860107</dd>\n",
              "\t<dt>$testing</dt>\n",
              "\t\t<dd>49380</dd>\n",
              "\t<dt>$testing_pos</dt>\n",
              "\t\t<dd>375</dd>\n",
              "\t<dt>$envios</dt>\n",
              "\t\t<dd>3653</dd>\n",
              "\t<dt>$aciertos</dt>\n",
              "\t\t<dd>209</dd>\n",
              "\t<dt>$ganancia_test</dt>\n",
              "\t\t<dd>47070000</dd>\n",
              "</dl>\n",
              "</li>\n",
              "\t<li><dl>\n",
              "\t<dt>$semilla</dt>\n",
              "\t\t<dd>234673</dd>\n",
              "\t<dt>$testing</dt>\n",
              "\t\t<dd>49373</dd>\n",
              "\t<dt>$testing_pos</dt>\n",
              "\t\t<dd>368</dd>\n",
              "\t<dt>$envios</dt>\n",
              "\t\t<dd>4302</dd>\n",
              "\t<dt>$aciertos</dt>\n",
              "\t\t<dd>223</dd>\n",
              "\t<dt>$ganancia_test</dt>\n",
              "\t\t<dd>46180000</dd>\n",
              "</dl>\n",
              "</li>\n",
              "\t<li><dl>\n",
              "\t<dt>$semilla</dt>\n",
              "\t\t<dd>975661</dd>\n",
              "\t<dt>$testing</dt>\n",
              "\t\t<dd>49396</dd>\n",
              "\t<dt>$testing_pos</dt>\n",
              "\t\t<dd>375</dd>\n",
              "\t<dt>$envios</dt>\n",
              "\t\t<dd>3302</dd>\n",
              "\t<dt>$aciertos</dt>\n",
              "\t\t<dd>211</dd>\n",
              "\t<dt>$ganancia_test</dt>\n",
              "\t\t<dd>51380000</dd>\n",
              "</dl>\n",
              "</li>\n",
              "\t<li><dl>\n",
              "\t<dt>$semilla</dt>\n",
              "\t\t<dd>953111</dd>\n",
              "\t<dt>$testing</dt>\n",
              "\t\t<dd>49371</dd>\n",
              "\t<dt>$testing_pos</dt>\n",
              "\t\t<dd>368</dd>\n",
              "\t<dt>$envios</dt>\n",
              "\t\t<dd>2499</dd>\n",
              "\t<dt>$aciertos</dt>\n",
              "\t\t<dd>178</dd>\n",
              "\t<dt>$ganancia_test</dt>\n",
              "\t\t<dd>46210000</dd>\n",
              "</dl>\n",
              "</li>\n",
              "\t<li><dl>\n",
              "\t<dt>$semilla</dt>\n",
              "\t\t<dd>418787</dd>\n",
              "\t<dt>$testing</dt>\n",
              "\t\t<dd>49379</dd>\n",
              "\t<dt>$testing_pos</dt>\n",
              "\t\t<dd>372</dd>\n",
              "\t<dt>$envios</dt>\n",
              "\t\t<dd>3885</dd>\n",
              "\t<dt>$aciertos</dt>\n",
              "\t\t<dd>211</dd>\n",
              "\t<dt>$ganancia_test</dt>\n",
              "\t\t<dd>45550000</dd>\n",
              "</dl>\n",
              "</li>\n",
              "\t<li><dl>\n",
              "\t<dt>$semilla</dt>\n",
              "\t\t<dd>957889</dd>\n",
              "\t<dt>$testing</dt>\n",
              "\t\t<dd>49380</dd>\n",
              "\t<dt>$testing_pos</dt>\n",
              "\t\t<dd>372</dd>\n",
              "\t<dt>$envios</dt>\n",
              "\t\t<dd>3585</dd>\n",
              "\t<dt>$aciertos</dt>\n",
              "\t\t<dd>203</dd>\n",
              "\t<dt>$ganancia_test</dt>\n",
              "\t\t<dd>45350000</dd>\n",
              "</dl>\n",
              "</li>\n",
              "\t<li><dl>\n",
              "\t<dt>$semilla</dt>\n",
              "\t\t<dd>483541</dd>\n",
              "\t<dt>$testing</dt>\n",
              "\t\t<dd>49395</dd>\n",
              "\t<dt>$testing_pos</dt>\n",
              "\t\t<dd>378</dd>\n",
              "\t<dt>$envios</dt>\n",
              "\t\t<dd>2852</dd>\n",
              "\t<dt>$aciertos</dt>\n",
              "\t\t<dd>199</dd>\n",
              "\t<dt>$ganancia_test</dt>\n",
              "\t\t<dd>51080000</dd>\n",
              "</dl>\n",
              "</li>\n",
              "\t<li><dl>\n",
              "\t<dt>$semilla</dt>\n",
              "\t\t<dd>198179</dd>\n",
              "\t<dt>$testing</dt>\n",
              "\t\t<dd>49380</dd>\n",
              "\t<dt>$testing_pos</dt>\n",
              "\t\t<dd>373</dd>\n",
              "\t<dt>$envios</dt>\n",
              "\t\t<dd>3267</dd>\n",
              "\t<dt>$aciertos</dt>\n",
              "\t\t<dd>208</dd>\n",
              "\t<dt>$ganancia_test</dt>\n",
              "\t\t<dd>50530000</dd>\n",
              "</dl>\n",
              "</li>\n",
              "\t<li><dl>\n",
              "\t<dt>$semilla</dt>\n",
              "\t\t<dd>894239</dd>\n",
              "\t<dt>$testing</dt>\n",
              "\t\t<dd>49379</dd>\n",
              "\t<dt>$testing_pos</dt>\n",
              "\t\t<dd>377</dd>\n",
              "\t<dt>$envios</dt>\n",
              "\t\t<dd>2809</dd>\n",
              "\t<dt>$aciertos</dt>\n",
              "\t\t<dd>193</dd>\n",
              "\t<dt>$ganancia_test</dt>\n",
              "\t\t<dd>49110000</dd>\n",
              "</dl>\n",
              "</li>\n",
              "\t<li><dl>\n",
              "\t<dt>$semilla</dt>\n",
              "\t\t<dd>763093</dd>\n",
              "\t<dt>$testing</dt>\n",
              "\t\t<dd>49389</dd>\n",
              "\t<dt>$testing_pos</dt>\n",
              "\t\t<dd>374</dd>\n",
              "\t<dt>$envios</dt>\n",
              "\t\t<dd>2713</dd>\n",
              "\t<dt>$aciertos</dt>\n",
              "\t\t<dd>179</dd>\n",
              "\t<dt>$ganancia_test</dt>\n",
              "\t\t<dd>44470000</dd>\n",
              "</dl>\n",
              "</li>\n",
              "\t<li><dl>\n",
              "\t<dt>$semilla</dt>\n",
              "\t\t<dd>671903</dd>\n",
              "\t<dt>$testing</dt>\n",
              "\t\t<dd>49381</dd>\n",
              "\t<dt>$testing_pos</dt>\n",
              "\t\t<dd>370</dd>\n",
              "\t<dt>$envios</dt>\n",
              "\t\t<dd>3470</dd>\n",
              "\t<dt>$aciertos</dt>\n",
              "\t\t<dd>223</dd>\n",
              "\t<dt>$ganancia_test</dt>\n",
              "\t\t<dd>54500000</dd>\n",
              "</dl>\n",
              "</li>\n",
              "\t<li><dl>\n",
              "\t<dt>$semilla</dt>\n",
              "\t\t<dd>938537</dd>\n",
              "\t<dt>$testing</dt>\n",
              "\t\t<dd>49374</dd>\n",
              "\t<dt>$testing_pos</dt>\n",
              "\t\t<dd>373</dd>\n",
              "\t<dt>$envios</dt>\n",
              "\t\t<dd>4623</dd>\n",
              "\t<dt>$aciertos</dt>\n",
              "\t\t<dd>212</dd>\n",
              "\t<dt>$ganancia_test</dt>\n",
              "\t\t<dd>38570000</dd>\n",
              "</dl>\n",
              "</li>\n",
              "\t<li><dl>\n",
              "\t<dt>$semilla</dt>\n",
              "\t\t<dd>314707</dd>\n",
              "\t<dt>$testing</dt>\n",
              "\t\t<dd>49385</dd>\n",
              "\t<dt>$testing_pos</dt>\n",
              "\t\t<dd>377</dd>\n",
              "\t<dt>$envios</dt>\n",
              "\t\t<dd>4358</dd>\n",
              "\t<dt>$aciertos</dt>\n",
              "\t\t<dd>223</dd>\n",
              "\t<dt>$ganancia_test</dt>\n",
              "\t\t<dd>45620000</dd>\n",
              "</dl>\n",
              "</li>\n",
              "\t<li><dl>\n",
              "\t<dt>$semilla</dt>\n",
              "\t\t<dd>349477</dd>\n",
              "\t<dt>$testing</dt>\n",
              "\t\t<dd>49373</dd>\n",
              "\t<dt>$testing_pos</dt>\n",
              "\t\t<dd>376</dd>\n",
              "\t<dt>$envios</dt>\n",
              "\t\t<dd>3418</dd>\n",
              "\t<dt>$aciertos</dt>\n",
              "\t\t<dd>215</dd>\n",
              "\t<dt>$ganancia_test</dt>\n",
              "\t\t<dd>51820000</dd>\n",
              "</dl>\n",
              "</li>\n",
              "\t<li><dl>\n",
              "\t<dt>$semilla</dt>\n",
              "\t\t<dd>247739</dd>\n",
              "\t<dt>$testing</dt>\n",
              "\t\t<dd>49361</dd>\n",
              "\t<dt>$testing_pos</dt>\n",
              "\t\t<dd>371</dd>\n",
              "\t<dt>$envios</dt>\n",
              "\t\t<dd>3657</dd>\n",
              "\t<dt>$aciertos</dt>\n",
              "\t\t<dd>211</dd>\n",
              "\t<dt>$ganancia_test</dt>\n",
              "\t\t<dd>47830000</dd>\n",
              "</dl>\n",
              "</li>\n",
              "\t<li><dl>\n",
              "\t<dt>$semilla</dt>\n",
              "\t\t<dd>586309</dd>\n",
              "\t<dt>$testing</dt>\n",
              "\t\t<dd>49386</dd>\n",
              "\t<dt>$testing_pos</dt>\n",
              "\t\t<dd>377</dd>\n",
              "\t<dt>$envios</dt>\n",
              "\t\t<dd>3560</dd>\n",
              "\t<dt>$aciertos</dt>\n",
              "\t\t<dd>208</dd>\n",
              "\t<dt>$ganancia_test</dt>\n",
              "\t\t<dd>47600000</dd>\n",
              "</dl>\n",
              "</li>\n",
              "\t<li><dl>\n",
              "\t<dt>$semilla</dt>\n",
              "\t\t<dd>212669</dd>\n",
              "\t<dt>$testing</dt>\n",
              "\t\t<dd>49371</dd>\n",
              "\t<dt>$testing_pos</dt>\n",
              "\t\t<dd>377</dd>\n",
              "\t<dt>$envios</dt>\n",
              "\t\t<dd>3058</dd>\n",
              "\t<dt>$aciertos</dt>\n",
              "\t\t<dd>200</dd>\n",
              "\t<dt>$ganancia_test</dt>\n",
              "\t\t<dd>49420000</dd>\n",
              "</dl>\n",
              "</li>\n",
              "\t<li><dl>\n",
              "\t<dt>$semilla</dt>\n",
              "\t\t<dd>129763</dd>\n",
              "\t<dt>$testing</dt>\n",
              "\t\t<dd>49383</dd>\n",
              "\t<dt>$testing_pos</dt>\n",
              "\t\t<dd>379</dd>\n",
              "\t<dt>$envios</dt>\n",
              "\t\t<dd>2851</dd>\n",
              "\t<dt>$aciertos</dt>\n",
              "\t\t<dd>193</dd>\n",
              "\t<dt>$ganancia_test</dt>\n",
              "\t\t<dd>48690000</dd>\n",
              "</dl>\n",
              "</li>\n",
              "\t<li><dl>\n",
              "\t<dt>$semilla</dt>\n",
              "\t\t<dd>284857</dd>\n",
              "\t<dt>$testing</dt>\n",
              "\t\t<dd>49377</dd>\n",
              "\t<dt>$testing_pos</dt>\n",
              "\t\t<dd>371</dd>\n",
              "\t<dt>$envios</dt>\n",
              "\t\t<dd>3081</dd>\n",
              "\t<dt>$aciertos</dt>\n",
              "\t\t<dd>210</dd>\n",
              "\t<dt>$ganancia_test</dt>\n",
              "\t\t<dd>53190000</dd>\n",
              "</dl>\n",
              "</li>\n",
              "\t<li><dl>\n",
              "\t<dt>$semilla</dt>\n",
              "\t\t<dd>552137</dd>\n",
              "\t<dt>$testing</dt>\n",
              "\t\t<dd>49391</dd>\n",
              "\t<dt>$testing_pos</dt>\n",
              "\t\t<dd>377</dd>\n",
              "\t<dt>$envios</dt>\n",
              "\t\t<dd>3975</dd>\n",
              "\t<dt>$aciertos</dt>\n",
              "\t\t<dd>217</dd>\n",
              "\t<dt>$ganancia_test</dt>\n",
              "\t\t<dd>47050000</dd>\n",
              "</dl>\n",
              "</li>\n",
              "\t<li><dl>\n",
              "\t<dt>$semilla</dt>\n",
              "\t\t<dd>855373</dd>\n",
              "\t<dt>$testing</dt>\n",
              "\t\t<dd>49383</dd>\n",
              "\t<dt>$testing_pos</dt>\n",
              "\t\t<dd>376</dd>\n",
              "\t<dt>$envios</dt>\n",
              "\t\t<dd>3603</dd>\n",
              "\t<dt>$aciertos</dt>\n",
              "\t\t<dd>211</dd>\n",
              "\t<dt>$ganancia_test</dt>\n",
              "\t\t<dd>48370000</dd>\n",
              "</dl>\n",
              "</li>\n",
              "\t<li><dl>\n",
              "\t<dt>$semilla</dt>\n",
              "\t\t<dd>927803</dd>\n",
              "\t<dt>$testing</dt>\n",
              "\t\t<dd>49387</dd>\n",
              "\t<dt>$testing_pos</dt>\n",
              "\t\t<dd>374</dd>\n",
              "\t<dt>$envios</dt>\n",
              "\t\t<dd>2797</dd>\n",
              "\t<dt>$aciertos</dt>\n",
              "\t\t<dd>169</dd>\n",
              "\t<dt>$ganancia_test</dt>\n",
              "\t\t<dd>39630000</dd>\n",
              "</dl>\n",
              "</li>\n",
              "\t<li><dl>\n",
              "\t<dt>$semilla</dt>\n",
              "\t\t<dd>279707</dd>\n",
              "\t<dt>$testing</dt>\n",
              "\t\t<dd>49384</dd>\n",
              "\t<dt>$testing_pos</dt>\n",
              "\t\t<dd>376</dd>\n",
              "\t<dt>$envios</dt>\n",
              "\t\t<dd>3295</dd>\n",
              "\t<dt>$aciertos</dt>\n",
              "\t\t<dd>204</dd>\n",
              "\t<dt>$ganancia_test</dt>\n",
              "\t\t<dd>48650000</dd>\n",
              "</dl>\n",
              "</li>\n",
              "\t<li><dl>\n",
              "\t<dt>$semilla</dt>\n",
              "\t\t<dd>832639</dd>\n",
              "\t<dt>$testing</dt>\n",
              "\t\t<dd>49390</dd>\n",
              "\t<dt>$testing_pos</dt>\n",
              "\t\t<dd>379</dd>\n",
              "\t<dt>$envios</dt>\n",
              "\t\t<dd>2820</dd>\n",
              "\t<dt>$aciertos</dt>\n",
              "\t\t<dd>196</dd>\n",
              "\t<dt>$ganancia_test</dt>\n",
              "\t\t<dd>50200000</dd>\n",
              "</dl>\n",
              "</li>\n",
              "\t<li><dl>\n",
              "\t<dt>$semilla</dt>\n",
              "\t\t<dd>207377</dd>\n",
              "\t<dt>$testing</dt>\n",
              "\t\t<dd>49377</dd>\n",
              "\t<dt>$testing_pos</dt>\n",
              "\t\t<dd>379</dd>\n",
              "\t<dt>$envios</dt>\n",
              "\t\t<dd>3194</dd>\n",
              "\t<dt>$aciertos</dt>\n",
              "\t\t<dd>202</dd>\n",
              "\t<dt>$ganancia_test</dt>\n",
              "\t\t<dd>48860000</dd>\n",
              "</dl>\n",
              "</li>\n",
              "\t<li><dl>\n",
              "\t<dt>$semilla</dt>\n",
              "\t\t<dd>297833</dd>\n",
              "\t<dt>$testing</dt>\n",
              "\t\t<dd>49368</dd>\n",
              "\t<dt>$testing_pos</dt>\n",
              "\t\t<dd>371</dd>\n",
              "\t<dt>$envios</dt>\n",
              "\t\t<dd>3196</dd>\n",
              "\t<dt>$aciertos</dt>\n",
              "\t\t<dd>195</dd>\n",
              "\t<dt>$ganancia_test</dt>\n",
              "\t\t<dd>46040000</dd>\n",
              "</dl>\n",
              "</li>\n",
              "\t<li><dl>\n",
              "\t<dt>$semilla</dt>\n",
              "\t\t<dd>566717</dd>\n",
              "\t<dt>$testing</dt>\n",
              "\t\t<dd>49395</dd>\n",
              "\t<dt>$testing_pos</dt>\n",
              "\t\t<dd>376</dd>\n",
              "\t<dt>$envios</dt>\n",
              "\t\t<dd>3474</dd>\n",
              "\t<dt>$aciertos</dt>\n",
              "\t\t<dd>217</dd>\n",
              "\t<dt>$ganancia_test</dt>\n",
              "\t\t<dd>52060000</dd>\n",
              "</dl>\n",
              "</li>\n",
              "\t<li><dl>\n",
              "\t<dt>$semilla</dt>\n",
              "\t\t<dd>213881</dd>\n",
              "\t<dt>$testing</dt>\n",
              "\t\t<dd>49384</dd>\n",
              "\t<dt>$testing_pos</dt>\n",
              "\t\t<dd>374</dd>\n",
              "\t<dt>$envios</dt>\n",
              "\t\t<dd>4027</dd>\n",
              "\t<dt>$aciertos</dt>\n",
              "\t\t<dd>222</dd>\n",
              "\t<dt>$ganancia_test</dt>\n",
              "\t\t<dd>48530000</dd>\n",
              "</dl>\n",
              "</li>\n",
              "\t<li><dl>\n",
              "\t<dt>$semilla</dt>\n",
              "\t\t<dd>371479</dd>\n",
              "\t<dt>$testing</dt>\n",
              "\t\t<dd>49368</dd>\n",
              "\t<dt>$testing_pos</dt>\n",
              "\t\t<dd>375</dd>\n",
              "\t<dt>$envios</dt>\n",
              "\t\t<dd>3564</dd>\n",
              "\t<dt>$aciertos</dt>\n",
              "\t\t<dd>207</dd>\n",
              "\t<dt>$ganancia_test</dt>\n",
              "\t\t<dd>47160000</dd>\n",
              "</dl>\n",
              "</li>\n",
              "\t<li><dl>\n",
              "\t<dt>$semilla</dt>\n",
              "\t\t<dd>132541</dd>\n",
              "\t<dt>$testing</dt>\n",
              "\t\t<dd>49379</dd>\n",
              "\t<dt>$testing_pos</dt>\n",
              "\t\t<dd>377</dd>\n",
              "\t<dt>$envios</dt>\n",
              "\t\t<dd>3827</dd>\n",
              "\t<dt>$aciertos</dt>\n",
              "\t\t<dd>224</dd>\n",
              "\t<dt>$ganancia_test</dt>\n",
              "\t\t<dd>51330000</dd>\n",
              "</dl>\n",
              "</li>\n",
              "</ol>\n"
            ],
            "text/markdown": "1. $semilla\n:   575693\n$testing\n:   49378\n$testing_pos\n:   376\n$envios\n:   2890\n$aciertos\n:   189\n$ganancia_test\n:   46700000\n\n\n\n2. $semilla\n:   494803\n$testing\n:   49378\n$testing_pos\n:   373\n$envios\n:   3586\n$aciertos\n:   204\n$ganancia_test\n:   45740000\n\n\n\n3. $semilla\n:   767111\n$testing\n:   49389\n$testing_pos\n:   376\n$envios\n:   4025\n$aciertos\n:   221\n$ganancia_test\n:   48150000\n\n\n\n4. $semilla\n:   756727\n$testing\n:   49361\n$testing_pos\n:   370\n$envios\n:   4245\n$aciertos\n:   221\n$ganancia_test\n:   45950000\n\n\n\n5. $semilla\n:   457087\n$testing\n:   49375\n$testing_pos\n:   370\n$envios\n:   3197\n$aciertos\n:   195\n$ganancia_test\n:   46030000\n\n\n\n6. $semilla\n:   108863\n$testing\n:   49376\n$testing_pos\n:   372\n$envios\n:   2943\n$aciertos\n:   206\n$ganancia_test\n:   52970000\n\n\n\n7. $semilla\n:   814243\n$testing\n:   49380\n$testing_pos\n:   375\n$envios\n:   3407\n$aciertos\n:   204\n$ganancia_test\n:   47530000\n\n\n\n8. $semilla\n:   227977\n$testing\n:   49383\n$testing_pos\n:   379\n$envios\n:   3123\n$aciertos\n:   191\n$ganancia_test\n:   45170000\n\n\n\n9. $semilla\n:   223319\n$testing\n:   49381\n$testing_pos\n:   373\n$envios\n:   3709\n$aciertos\n:   215\n$ganancia_test\n:   48910000\n\n\n\n10. $semilla\n:   536513\n$testing\n:   49381\n$testing_pos\n:   372\n$envios\n:   3264\n$aciertos\n:   184\n$ganancia_test\n:   40960000\n\n\n\n11. $semilla\n:   103471\n$testing\n:   49383\n$testing_pos\n:   377\n$envios\n:   3365\n$aciertos\n:   195\n$ganancia_test\n:   44350000\n\n\n\n12. $semilla\n:   549737\n$testing\n:   49381\n$testing_pos\n:   377\n$envios\n:   3921\n$aciertos\n:   207\n$ganancia_test\n:   43590000\n\n\n\n13. $semilla\n:   970969\n$testing\n:   49384\n$testing_pos\n:   370\n$envios\n:   3447\n$aciertos\n:   210\n$ganancia_test\n:   49530000\n\n\n\n14. $semilla\n:   870049\n$testing\n:   49364\n$testing_pos\n:   368\n$envios\n:   3631\n$aciertos\n:   215\n$ganancia_test\n:   49690000\n\n\n\n15. $semilla\n:   502841\n$testing\n:   49381\n$testing_pos\n:   376\n$envios\n:   3256\n$aciertos\n:   221\n$ganancia_test\n:   55840000\n\n\n\n16. $semilla\n:   274093\n$testing\n:   49383\n$testing_pos\n:   374\n$envios\n:   3783\n$aciertos\n:   220\n$ganancia_test\n:   50170000\n\n\n\n17. $semilla\n:   218479\n$testing\n:   49378\n$testing_pos\n:   374\n$envios\n:   2902\n$aciertos\n:   180\n$ganancia_test\n:   42980000\n\n\n\n18. $semilla\n:   134077\n$testing\n:   49382\n$testing_pos\n:   373\n$envios\n:   3309\n$aciertos\n:   209\n$ganancia_test\n:   50510000\n\n\n\n19. $semilla\n:   426331\n$testing\n:   49370\n$testing_pos\n:   376\n$envios\n:   4313\n$aciertos\n:   222\n$ganancia_test\n:   45670000\n\n\n\n20. $semilla\n:   670049\n$testing\n:   49385\n$testing_pos\n:   375\n$envios\n:   3138\n$aciertos\n:   202\n$ganancia_test\n:   49420000\n\n\n\n21. $semilla\n:   860107\n$testing\n:   49380\n$testing_pos\n:   375\n$envios\n:   3653\n$aciertos\n:   209\n$ganancia_test\n:   47070000\n\n\n\n22. $semilla\n:   234673\n$testing\n:   49373\n$testing_pos\n:   368\n$envios\n:   4302\n$aciertos\n:   223\n$ganancia_test\n:   46180000\n\n\n\n23. $semilla\n:   975661\n$testing\n:   49396\n$testing_pos\n:   375\n$envios\n:   3302\n$aciertos\n:   211\n$ganancia_test\n:   51380000\n\n\n\n24. $semilla\n:   953111\n$testing\n:   49371\n$testing_pos\n:   368\n$envios\n:   2499\n$aciertos\n:   178\n$ganancia_test\n:   46210000\n\n\n\n25. $semilla\n:   418787\n$testing\n:   49379\n$testing_pos\n:   372\n$envios\n:   3885\n$aciertos\n:   211\n$ganancia_test\n:   45550000\n\n\n\n26. $semilla\n:   957889\n$testing\n:   49380\n$testing_pos\n:   372\n$envios\n:   3585\n$aciertos\n:   203\n$ganancia_test\n:   45350000\n\n\n\n27. $semilla\n:   483541\n$testing\n:   49395\n$testing_pos\n:   378\n$envios\n:   2852\n$aciertos\n:   199\n$ganancia_test\n:   51080000\n\n\n\n28. $semilla\n:   198179\n$testing\n:   49380\n$testing_pos\n:   373\n$envios\n:   3267\n$aciertos\n:   208\n$ganancia_test\n:   50530000\n\n\n\n29. $semilla\n:   894239\n$testing\n:   49379\n$testing_pos\n:   377\n$envios\n:   2809\n$aciertos\n:   193\n$ganancia_test\n:   49110000\n\n\n\n30. $semilla\n:   763093\n$testing\n:   49389\n$testing_pos\n:   374\n$envios\n:   2713\n$aciertos\n:   179\n$ganancia_test\n:   44470000\n\n\n\n31. $semilla\n:   671903\n$testing\n:   49381\n$testing_pos\n:   370\n$envios\n:   3470\n$aciertos\n:   223\n$ganancia_test\n:   54500000\n\n\n\n32. $semilla\n:   938537\n$testing\n:   49374\n$testing_pos\n:   373\n$envios\n:   4623\n$aciertos\n:   212\n$ganancia_test\n:   38570000\n\n\n\n33. $semilla\n:   314707\n$testing\n:   49385\n$testing_pos\n:   377\n$envios\n:   4358\n$aciertos\n:   223\n$ganancia_test\n:   45620000\n\n\n\n34. $semilla\n:   349477\n$testing\n:   49373\n$testing_pos\n:   376\n$envios\n:   3418\n$aciertos\n:   215\n$ganancia_test\n:   51820000\n\n\n\n35. $semilla\n:   247739\n$testing\n:   49361\n$testing_pos\n:   371\n$envios\n:   3657\n$aciertos\n:   211\n$ganancia_test\n:   47830000\n\n\n\n36. $semilla\n:   586309\n$testing\n:   49386\n$testing_pos\n:   377\n$envios\n:   3560\n$aciertos\n:   208\n$ganancia_test\n:   47600000\n\n\n\n37. $semilla\n:   212669\n$testing\n:   49371\n$testing_pos\n:   377\n$envios\n:   3058\n$aciertos\n:   200\n$ganancia_test\n:   49420000\n\n\n\n38. $semilla\n:   129763\n$testing\n:   49383\n$testing_pos\n:   379\n$envios\n:   2851\n$aciertos\n:   193\n$ganancia_test\n:   48690000\n\n\n\n39. $semilla\n:   284857\n$testing\n:   49377\n$testing_pos\n:   371\n$envios\n:   3081\n$aciertos\n:   210\n$ganancia_test\n:   53190000\n\n\n\n40. $semilla\n:   552137\n$testing\n:   49391\n$testing_pos\n:   377\n$envios\n:   3975\n$aciertos\n:   217\n$ganancia_test\n:   47050000\n\n\n\n41. $semilla\n:   855373\n$testing\n:   49383\n$testing_pos\n:   376\n$envios\n:   3603\n$aciertos\n:   211\n$ganancia_test\n:   48370000\n\n\n\n42. $semilla\n:   927803\n$testing\n:   49387\n$testing_pos\n:   374\n$envios\n:   2797\n$aciertos\n:   169\n$ganancia_test\n:   39630000\n\n\n\n43. $semilla\n:   279707\n$testing\n:   49384\n$testing_pos\n:   376\n$envios\n:   3295\n$aciertos\n:   204\n$ganancia_test\n:   48650000\n\n\n\n44. $semilla\n:   832639\n$testing\n:   49390\n$testing_pos\n:   379\n$envios\n:   2820\n$aciertos\n:   196\n$ganancia_test\n:   50200000\n\n\n\n45. $semilla\n:   207377\n$testing\n:   49377\n$testing_pos\n:   379\n$envios\n:   3194\n$aciertos\n:   202\n$ganancia_test\n:   48860000\n\n\n\n46. $semilla\n:   297833\n$testing\n:   49368\n$testing_pos\n:   371\n$envios\n:   3196\n$aciertos\n:   195\n$ganancia_test\n:   46040000\n\n\n\n47. $semilla\n:   566717\n$testing\n:   49395\n$testing_pos\n:   376\n$envios\n:   3474\n$aciertos\n:   217\n$ganancia_test\n:   52060000\n\n\n\n48. $semilla\n:   213881\n$testing\n:   49384\n$testing_pos\n:   374\n$envios\n:   4027\n$aciertos\n:   222\n$ganancia_test\n:   48530000\n\n\n\n49. $semilla\n:   371479\n$testing\n:   49368\n$testing_pos\n:   375\n$envios\n:   3564\n$aciertos\n:   207\n$ganancia_test\n:   47160000\n\n\n\n50. $semilla\n:   132541\n$testing\n:   49379\n$testing_pos\n:   377\n$envios\n:   3827\n$aciertos\n:   224\n$ganancia_test\n:   51330000\n\n\n\n\n\n",
            "text/latex": "\\begin{enumerate}\n\\item \\begin{description}\n\\item[\\$semilla] 575693\n\\item[\\$testing] 49378\n\\item[\\$testing\\_pos] 376\n\\item[\\$envios] 2890\n\\item[\\$aciertos] 189\n\\item[\\$ganancia\\_test] 46700000\n\\end{description}\n\n\\item \\begin{description}\n\\item[\\$semilla] 494803\n\\item[\\$testing] 49378\n\\item[\\$testing\\_pos] 373\n\\item[\\$envios] 3586\n\\item[\\$aciertos] 204\n\\item[\\$ganancia\\_test] 45740000\n\\end{description}\n\n\\item \\begin{description}\n\\item[\\$semilla] 767111\n\\item[\\$testing] 49389\n\\item[\\$testing\\_pos] 376\n\\item[\\$envios] 4025\n\\item[\\$aciertos] 221\n\\item[\\$ganancia\\_test] 48150000\n\\end{description}\n\n\\item \\begin{description}\n\\item[\\$semilla] 756727\n\\item[\\$testing] 49361\n\\item[\\$testing\\_pos] 370\n\\item[\\$envios] 4245\n\\item[\\$aciertos] 221\n\\item[\\$ganancia\\_test] 45950000\n\\end{description}\n\n\\item \\begin{description}\n\\item[\\$semilla] 457087\n\\item[\\$testing] 49375\n\\item[\\$testing\\_pos] 370\n\\item[\\$envios] 3197\n\\item[\\$aciertos] 195\n\\item[\\$ganancia\\_test] 46030000\n\\end{description}\n\n\\item \\begin{description}\n\\item[\\$semilla] 108863\n\\item[\\$testing] 49376\n\\item[\\$testing\\_pos] 372\n\\item[\\$envios] 2943\n\\item[\\$aciertos] 206\n\\item[\\$ganancia\\_test] 52970000\n\\end{description}\n\n\\item \\begin{description}\n\\item[\\$semilla] 814243\n\\item[\\$testing] 49380\n\\item[\\$testing\\_pos] 375\n\\item[\\$envios] 3407\n\\item[\\$aciertos] 204\n\\item[\\$ganancia\\_test] 47530000\n\\end{description}\n\n\\item \\begin{description}\n\\item[\\$semilla] 227977\n\\item[\\$testing] 49383\n\\item[\\$testing\\_pos] 379\n\\item[\\$envios] 3123\n\\item[\\$aciertos] 191\n\\item[\\$ganancia\\_test] 45170000\n\\end{description}\n\n\\item \\begin{description}\n\\item[\\$semilla] 223319\n\\item[\\$testing] 49381\n\\item[\\$testing\\_pos] 373\n\\item[\\$envios] 3709\n\\item[\\$aciertos] 215\n\\item[\\$ganancia\\_test] 48910000\n\\end{description}\n\n\\item \\begin{description}\n\\item[\\$semilla] 536513\n\\item[\\$testing] 49381\n\\item[\\$testing\\_pos] 372\n\\item[\\$envios] 3264\n\\item[\\$aciertos] 184\n\\item[\\$ganancia\\_test] 40960000\n\\end{description}\n\n\\item \\begin{description}\n\\item[\\$semilla] 103471\n\\item[\\$testing] 49383\n\\item[\\$testing\\_pos] 377\n\\item[\\$envios] 3365\n\\item[\\$aciertos] 195\n\\item[\\$ganancia\\_test] 44350000\n\\end{description}\n\n\\item \\begin{description}\n\\item[\\$semilla] 549737\n\\item[\\$testing] 49381\n\\item[\\$testing\\_pos] 377\n\\item[\\$envios] 3921\n\\item[\\$aciertos] 207\n\\item[\\$ganancia\\_test] 43590000\n\\end{description}\n\n\\item \\begin{description}\n\\item[\\$semilla] 970969\n\\item[\\$testing] 49384\n\\item[\\$testing\\_pos] 370\n\\item[\\$envios] 3447\n\\item[\\$aciertos] 210\n\\item[\\$ganancia\\_test] 49530000\n\\end{description}\n\n\\item \\begin{description}\n\\item[\\$semilla] 870049\n\\item[\\$testing] 49364\n\\item[\\$testing\\_pos] 368\n\\item[\\$envios] 3631\n\\item[\\$aciertos] 215\n\\item[\\$ganancia\\_test] 49690000\n\\end{description}\n\n\\item \\begin{description}\n\\item[\\$semilla] 502841\n\\item[\\$testing] 49381\n\\item[\\$testing\\_pos] 376\n\\item[\\$envios] 3256\n\\item[\\$aciertos] 221\n\\item[\\$ganancia\\_test] 55840000\n\\end{description}\n\n\\item \\begin{description}\n\\item[\\$semilla] 274093\n\\item[\\$testing] 49383\n\\item[\\$testing\\_pos] 374\n\\item[\\$envios] 3783\n\\item[\\$aciertos] 220\n\\item[\\$ganancia\\_test] 50170000\n\\end{description}\n\n\\item \\begin{description}\n\\item[\\$semilla] 218479\n\\item[\\$testing] 49378\n\\item[\\$testing\\_pos] 374\n\\item[\\$envios] 2902\n\\item[\\$aciertos] 180\n\\item[\\$ganancia\\_test] 42980000\n\\end{description}\n\n\\item \\begin{description}\n\\item[\\$semilla] 134077\n\\item[\\$testing] 49382\n\\item[\\$testing\\_pos] 373\n\\item[\\$envios] 3309\n\\item[\\$aciertos] 209\n\\item[\\$ganancia\\_test] 50510000\n\\end{description}\n\n\\item \\begin{description}\n\\item[\\$semilla] 426331\n\\item[\\$testing] 49370\n\\item[\\$testing\\_pos] 376\n\\item[\\$envios] 4313\n\\item[\\$aciertos] 222\n\\item[\\$ganancia\\_test] 45670000\n\\end{description}\n\n\\item \\begin{description}\n\\item[\\$semilla] 670049\n\\item[\\$testing] 49385\n\\item[\\$testing\\_pos] 375\n\\item[\\$envios] 3138\n\\item[\\$aciertos] 202\n\\item[\\$ganancia\\_test] 49420000\n\\end{description}\n\n\\item \\begin{description}\n\\item[\\$semilla] 860107\n\\item[\\$testing] 49380\n\\item[\\$testing\\_pos] 375\n\\item[\\$envios] 3653\n\\item[\\$aciertos] 209\n\\item[\\$ganancia\\_test] 47070000\n\\end{description}\n\n\\item \\begin{description}\n\\item[\\$semilla] 234673\n\\item[\\$testing] 49373\n\\item[\\$testing\\_pos] 368\n\\item[\\$envios] 4302\n\\item[\\$aciertos] 223\n\\item[\\$ganancia\\_test] 46180000\n\\end{description}\n\n\\item \\begin{description}\n\\item[\\$semilla] 975661\n\\item[\\$testing] 49396\n\\item[\\$testing\\_pos] 375\n\\item[\\$envios] 3302\n\\item[\\$aciertos] 211\n\\item[\\$ganancia\\_test] 51380000\n\\end{description}\n\n\\item \\begin{description}\n\\item[\\$semilla] 953111\n\\item[\\$testing] 49371\n\\item[\\$testing\\_pos] 368\n\\item[\\$envios] 2499\n\\item[\\$aciertos] 178\n\\item[\\$ganancia\\_test] 46210000\n\\end{description}\n\n\\item \\begin{description}\n\\item[\\$semilla] 418787\n\\item[\\$testing] 49379\n\\item[\\$testing\\_pos] 372\n\\item[\\$envios] 3885\n\\item[\\$aciertos] 211\n\\item[\\$ganancia\\_test] 45550000\n\\end{description}\n\n\\item \\begin{description}\n\\item[\\$semilla] 957889\n\\item[\\$testing] 49380\n\\item[\\$testing\\_pos] 372\n\\item[\\$envios] 3585\n\\item[\\$aciertos] 203\n\\item[\\$ganancia\\_test] 45350000\n\\end{description}\n\n\\item \\begin{description}\n\\item[\\$semilla] 483541\n\\item[\\$testing] 49395\n\\item[\\$testing\\_pos] 378\n\\item[\\$envios] 2852\n\\item[\\$aciertos] 199\n\\item[\\$ganancia\\_test] 51080000\n\\end{description}\n\n\\item \\begin{description}\n\\item[\\$semilla] 198179\n\\item[\\$testing] 49380\n\\item[\\$testing\\_pos] 373\n\\item[\\$envios] 3267\n\\item[\\$aciertos] 208\n\\item[\\$ganancia\\_test] 50530000\n\\end{description}\n\n\\item \\begin{description}\n\\item[\\$semilla] 894239\n\\item[\\$testing] 49379\n\\item[\\$testing\\_pos] 377\n\\item[\\$envios] 2809\n\\item[\\$aciertos] 193\n\\item[\\$ganancia\\_test] 49110000\n\\end{description}\n\n\\item \\begin{description}\n\\item[\\$semilla] 763093\n\\item[\\$testing] 49389\n\\item[\\$testing\\_pos] 374\n\\item[\\$envios] 2713\n\\item[\\$aciertos] 179\n\\item[\\$ganancia\\_test] 44470000\n\\end{description}\n\n\\item \\begin{description}\n\\item[\\$semilla] 671903\n\\item[\\$testing] 49381\n\\item[\\$testing\\_pos] 370\n\\item[\\$envios] 3470\n\\item[\\$aciertos] 223\n\\item[\\$ganancia\\_test] 54500000\n\\end{description}\n\n\\item \\begin{description}\n\\item[\\$semilla] 938537\n\\item[\\$testing] 49374\n\\item[\\$testing\\_pos] 373\n\\item[\\$envios] 4623\n\\item[\\$aciertos] 212\n\\item[\\$ganancia\\_test] 38570000\n\\end{description}\n\n\\item \\begin{description}\n\\item[\\$semilla] 314707\n\\item[\\$testing] 49385\n\\item[\\$testing\\_pos] 377\n\\item[\\$envios] 4358\n\\item[\\$aciertos] 223\n\\item[\\$ganancia\\_test] 45620000\n\\end{description}\n\n\\item \\begin{description}\n\\item[\\$semilla] 349477\n\\item[\\$testing] 49373\n\\item[\\$testing\\_pos] 376\n\\item[\\$envios] 3418\n\\item[\\$aciertos] 215\n\\item[\\$ganancia\\_test] 51820000\n\\end{description}\n\n\\item \\begin{description}\n\\item[\\$semilla] 247739\n\\item[\\$testing] 49361\n\\item[\\$testing\\_pos] 371\n\\item[\\$envios] 3657\n\\item[\\$aciertos] 211\n\\item[\\$ganancia\\_test] 47830000\n\\end{description}\n\n\\item \\begin{description}\n\\item[\\$semilla] 586309\n\\item[\\$testing] 49386\n\\item[\\$testing\\_pos] 377\n\\item[\\$envios] 3560\n\\item[\\$aciertos] 208\n\\item[\\$ganancia\\_test] 47600000\n\\end{description}\n\n\\item \\begin{description}\n\\item[\\$semilla] 212669\n\\item[\\$testing] 49371\n\\item[\\$testing\\_pos] 377\n\\item[\\$envios] 3058\n\\item[\\$aciertos] 200\n\\item[\\$ganancia\\_test] 49420000\n\\end{description}\n\n\\item \\begin{description}\n\\item[\\$semilla] 129763\n\\item[\\$testing] 49383\n\\item[\\$testing\\_pos] 379\n\\item[\\$envios] 2851\n\\item[\\$aciertos] 193\n\\item[\\$ganancia\\_test] 48690000\n\\end{description}\n\n\\item \\begin{description}\n\\item[\\$semilla] 284857\n\\item[\\$testing] 49377\n\\item[\\$testing\\_pos] 371\n\\item[\\$envios] 3081\n\\item[\\$aciertos] 210\n\\item[\\$ganancia\\_test] 53190000\n\\end{description}\n\n\\item \\begin{description}\n\\item[\\$semilla] 552137\n\\item[\\$testing] 49391\n\\item[\\$testing\\_pos] 377\n\\item[\\$envios] 3975\n\\item[\\$aciertos] 217\n\\item[\\$ganancia\\_test] 47050000\n\\end{description}\n\n\\item \\begin{description}\n\\item[\\$semilla] 855373\n\\item[\\$testing] 49383\n\\item[\\$testing\\_pos] 376\n\\item[\\$envios] 3603\n\\item[\\$aciertos] 211\n\\item[\\$ganancia\\_test] 48370000\n\\end{description}\n\n\\item \\begin{description}\n\\item[\\$semilla] 927803\n\\item[\\$testing] 49387\n\\item[\\$testing\\_pos] 374\n\\item[\\$envios] 2797\n\\item[\\$aciertos] 169\n\\item[\\$ganancia\\_test] 39630000\n\\end{description}\n\n\\item \\begin{description}\n\\item[\\$semilla] 279707\n\\item[\\$testing] 49384\n\\item[\\$testing\\_pos] 376\n\\item[\\$envios] 3295\n\\item[\\$aciertos] 204\n\\item[\\$ganancia\\_test] 48650000\n\\end{description}\n\n\\item \\begin{description}\n\\item[\\$semilla] 832639\n\\item[\\$testing] 49390\n\\item[\\$testing\\_pos] 379\n\\item[\\$envios] 2820\n\\item[\\$aciertos] 196\n\\item[\\$ganancia\\_test] 50200000\n\\end{description}\n\n\\item \\begin{description}\n\\item[\\$semilla] 207377\n\\item[\\$testing] 49377\n\\item[\\$testing\\_pos] 379\n\\item[\\$envios] 3194\n\\item[\\$aciertos] 202\n\\item[\\$ganancia\\_test] 48860000\n\\end{description}\n\n\\item \\begin{description}\n\\item[\\$semilla] 297833\n\\item[\\$testing] 49368\n\\item[\\$testing\\_pos] 371\n\\item[\\$envios] 3196\n\\item[\\$aciertos] 195\n\\item[\\$ganancia\\_test] 46040000\n\\end{description}\n\n\\item \\begin{description}\n\\item[\\$semilla] 566717\n\\item[\\$testing] 49395\n\\item[\\$testing\\_pos] 376\n\\item[\\$envios] 3474\n\\item[\\$aciertos] 217\n\\item[\\$ganancia\\_test] 52060000\n\\end{description}\n\n\\item \\begin{description}\n\\item[\\$semilla] 213881\n\\item[\\$testing] 49384\n\\item[\\$testing\\_pos] 374\n\\item[\\$envios] 4027\n\\item[\\$aciertos] 222\n\\item[\\$ganancia\\_test] 48530000\n\\end{description}\n\n\\item \\begin{description}\n\\item[\\$semilla] 371479\n\\item[\\$testing] 49368\n\\item[\\$testing\\_pos] 375\n\\item[\\$envios] 3564\n\\item[\\$aciertos] 207\n\\item[\\$ganancia\\_test] 47160000\n\\end{description}\n\n\\item \\begin{description}\n\\item[\\$semilla] 132541\n\\item[\\$testing] 49379\n\\item[\\$testing\\_pos] 377\n\\item[\\$envios] 3827\n\\item[\\$aciertos] 224\n\\item[\\$ganancia\\_test] 51330000\n\\end{description}\n\n\\end{enumerate}\n",
            "text/plain": [
              "[[1]]\n",
              "[[1]]$semilla\n",
              "[1] 575693\n",
              "\n",
              "[[1]]$testing\n",
              "[1] 49378\n",
              "\n",
              "[[1]]$testing_pos\n",
              "[1] 376\n",
              "\n",
              "[[1]]$envios\n",
              "[1] 2890\n",
              "\n",
              "[[1]]$aciertos\n",
              "[1] 189\n",
              "\n",
              "[[1]]$ganancia_test\n",
              "[1] 46700000\n",
              "\n",
              "\n",
              "[[2]]\n",
              "[[2]]$semilla\n",
              "[1] 494803\n",
              "\n",
              "[[2]]$testing\n",
              "[1] 49378\n",
              "\n",
              "[[2]]$testing_pos\n",
              "[1] 373\n",
              "\n",
              "[[2]]$envios\n",
              "[1] 3586\n",
              "\n",
              "[[2]]$aciertos\n",
              "[1] 204\n",
              "\n",
              "[[2]]$ganancia_test\n",
              "[1] 45740000\n",
              "\n",
              "\n",
              "[[3]]\n",
              "[[3]]$semilla\n",
              "[1] 767111\n",
              "\n",
              "[[3]]$testing\n",
              "[1] 49389\n",
              "\n",
              "[[3]]$testing_pos\n",
              "[1] 376\n",
              "\n",
              "[[3]]$envios\n",
              "[1] 4025\n",
              "\n",
              "[[3]]$aciertos\n",
              "[1] 221\n",
              "\n",
              "[[3]]$ganancia_test\n",
              "[1] 48150000\n",
              "\n",
              "\n",
              "[[4]]\n",
              "[[4]]$semilla\n",
              "[1] 756727\n",
              "\n",
              "[[4]]$testing\n",
              "[1] 49361\n",
              "\n",
              "[[4]]$testing_pos\n",
              "[1] 370\n",
              "\n",
              "[[4]]$envios\n",
              "[1] 4245\n",
              "\n",
              "[[4]]$aciertos\n",
              "[1] 221\n",
              "\n",
              "[[4]]$ganancia_test\n",
              "[1] 45950000\n",
              "\n",
              "\n",
              "[[5]]\n",
              "[[5]]$semilla\n",
              "[1] 457087\n",
              "\n",
              "[[5]]$testing\n",
              "[1] 49375\n",
              "\n",
              "[[5]]$testing_pos\n",
              "[1] 370\n",
              "\n",
              "[[5]]$envios\n",
              "[1] 3197\n",
              "\n",
              "[[5]]$aciertos\n",
              "[1] 195\n",
              "\n",
              "[[5]]$ganancia_test\n",
              "[1] 46030000\n",
              "\n",
              "\n",
              "[[6]]\n",
              "[[6]]$semilla\n",
              "[1] 108863\n",
              "\n",
              "[[6]]$testing\n",
              "[1] 49376\n",
              "\n",
              "[[6]]$testing_pos\n",
              "[1] 372\n",
              "\n",
              "[[6]]$envios\n",
              "[1] 2943\n",
              "\n",
              "[[6]]$aciertos\n",
              "[1] 206\n",
              "\n",
              "[[6]]$ganancia_test\n",
              "[1] 52970000\n",
              "\n",
              "\n",
              "[[7]]\n",
              "[[7]]$semilla\n",
              "[1] 814243\n",
              "\n",
              "[[7]]$testing\n",
              "[1] 49380\n",
              "\n",
              "[[7]]$testing_pos\n",
              "[1] 375\n",
              "\n",
              "[[7]]$envios\n",
              "[1] 3407\n",
              "\n",
              "[[7]]$aciertos\n",
              "[1] 204\n",
              "\n",
              "[[7]]$ganancia_test\n",
              "[1] 47530000\n",
              "\n",
              "\n",
              "[[8]]\n",
              "[[8]]$semilla\n",
              "[1] 227977\n",
              "\n",
              "[[8]]$testing\n",
              "[1] 49383\n",
              "\n",
              "[[8]]$testing_pos\n",
              "[1] 379\n",
              "\n",
              "[[8]]$envios\n",
              "[1] 3123\n",
              "\n",
              "[[8]]$aciertos\n",
              "[1] 191\n",
              "\n",
              "[[8]]$ganancia_test\n",
              "[1] 45170000\n",
              "\n",
              "\n",
              "[[9]]\n",
              "[[9]]$semilla\n",
              "[1] 223319\n",
              "\n",
              "[[9]]$testing\n",
              "[1] 49381\n",
              "\n",
              "[[9]]$testing_pos\n",
              "[1] 373\n",
              "\n",
              "[[9]]$envios\n",
              "[1] 3709\n",
              "\n",
              "[[9]]$aciertos\n",
              "[1] 215\n",
              "\n",
              "[[9]]$ganancia_test\n",
              "[1] 48910000\n",
              "\n",
              "\n",
              "[[10]]\n",
              "[[10]]$semilla\n",
              "[1] 536513\n",
              "\n",
              "[[10]]$testing\n",
              "[1] 49381\n",
              "\n",
              "[[10]]$testing_pos\n",
              "[1] 372\n",
              "\n",
              "[[10]]$envios\n",
              "[1] 3264\n",
              "\n",
              "[[10]]$aciertos\n",
              "[1] 184\n",
              "\n",
              "[[10]]$ganancia_test\n",
              "[1] 40960000\n",
              "\n",
              "\n",
              "[[11]]\n",
              "[[11]]$semilla\n",
              "[1] 103471\n",
              "\n",
              "[[11]]$testing\n",
              "[1] 49383\n",
              "\n",
              "[[11]]$testing_pos\n",
              "[1] 377\n",
              "\n",
              "[[11]]$envios\n",
              "[1] 3365\n",
              "\n",
              "[[11]]$aciertos\n",
              "[1] 195\n",
              "\n",
              "[[11]]$ganancia_test\n",
              "[1] 44350000\n",
              "\n",
              "\n",
              "[[12]]\n",
              "[[12]]$semilla\n",
              "[1] 549737\n",
              "\n",
              "[[12]]$testing\n",
              "[1] 49381\n",
              "\n",
              "[[12]]$testing_pos\n",
              "[1] 377\n",
              "\n",
              "[[12]]$envios\n",
              "[1] 3921\n",
              "\n",
              "[[12]]$aciertos\n",
              "[1] 207\n",
              "\n",
              "[[12]]$ganancia_test\n",
              "[1] 43590000\n",
              "\n",
              "\n",
              "[[13]]\n",
              "[[13]]$semilla\n",
              "[1] 970969\n",
              "\n",
              "[[13]]$testing\n",
              "[1] 49384\n",
              "\n",
              "[[13]]$testing_pos\n",
              "[1] 370\n",
              "\n",
              "[[13]]$envios\n",
              "[1] 3447\n",
              "\n",
              "[[13]]$aciertos\n",
              "[1] 210\n",
              "\n",
              "[[13]]$ganancia_test\n",
              "[1] 49530000\n",
              "\n",
              "\n",
              "[[14]]\n",
              "[[14]]$semilla\n",
              "[1] 870049\n",
              "\n",
              "[[14]]$testing\n",
              "[1] 49364\n",
              "\n",
              "[[14]]$testing_pos\n",
              "[1] 368\n",
              "\n",
              "[[14]]$envios\n",
              "[1] 3631\n",
              "\n",
              "[[14]]$aciertos\n",
              "[1] 215\n",
              "\n",
              "[[14]]$ganancia_test\n",
              "[1] 49690000\n",
              "\n",
              "\n",
              "[[15]]\n",
              "[[15]]$semilla\n",
              "[1] 502841\n",
              "\n",
              "[[15]]$testing\n",
              "[1] 49381\n",
              "\n",
              "[[15]]$testing_pos\n",
              "[1] 376\n",
              "\n",
              "[[15]]$envios\n",
              "[1] 3256\n",
              "\n",
              "[[15]]$aciertos\n",
              "[1] 221\n",
              "\n",
              "[[15]]$ganancia_test\n",
              "[1] 55840000\n",
              "\n",
              "\n",
              "[[16]]\n",
              "[[16]]$semilla\n",
              "[1] 274093\n",
              "\n",
              "[[16]]$testing\n",
              "[1] 49383\n",
              "\n",
              "[[16]]$testing_pos\n",
              "[1] 374\n",
              "\n",
              "[[16]]$envios\n",
              "[1] 3783\n",
              "\n",
              "[[16]]$aciertos\n",
              "[1] 220\n",
              "\n",
              "[[16]]$ganancia_test\n",
              "[1] 50170000\n",
              "\n",
              "\n",
              "[[17]]\n",
              "[[17]]$semilla\n",
              "[1] 218479\n",
              "\n",
              "[[17]]$testing\n",
              "[1] 49378\n",
              "\n",
              "[[17]]$testing_pos\n",
              "[1] 374\n",
              "\n",
              "[[17]]$envios\n",
              "[1] 2902\n",
              "\n",
              "[[17]]$aciertos\n",
              "[1] 180\n",
              "\n",
              "[[17]]$ganancia_test\n",
              "[1] 42980000\n",
              "\n",
              "\n",
              "[[18]]\n",
              "[[18]]$semilla\n",
              "[1] 134077\n",
              "\n",
              "[[18]]$testing\n",
              "[1] 49382\n",
              "\n",
              "[[18]]$testing_pos\n",
              "[1] 373\n",
              "\n",
              "[[18]]$envios\n",
              "[1] 3309\n",
              "\n",
              "[[18]]$aciertos\n",
              "[1] 209\n",
              "\n",
              "[[18]]$ganancia_test\n",
              "[1] 50510000\n",
              "\n",
              "\n",
              "[[19]]\n",
              "[[19]]$semilla\n",
              "[1] 426331\n",
              "\n",
              "[[19]]$testing\n",
              "[1] 49370\n",
              "\n",
              "[[19]]$testing_pos\n",
              "[1] 376\n",
              "\n",
              "[[19]]$envios\n",
              "[1] 4313\n",
              "\n",
              "[[19]]$aciertos\n",
              "[1] 222\n",
              "\n",
              "[[19]]$ganancia_test\n",
              "[1] 45670000\n",
              "\n",
              "\n",
              "[[20]]\n",
              "[[20]]$semilla\n",
              "[1] 670049\n",
              "\n",
              "[[20]]$testing\n",
              "[1] 49385\n",
              "\n",
              "[[20]]$testing_pos\n",
              "[1] 375\n",
              "\n",
              "[[20]]$envios\n",
              "[1] 3138\n",
              "\n",
              "[[20]]$aciertos\n",
              "[1] 202\n",
              "\n",
              "[[20]]$ganancia_test\n",
              "[1] 49420000\n",
              "\n",
              "\n",
              "[[21]]\n",
              "[[21]]$semilla\n",
              "[1] 860107\n",
              "\n",
              "[[21]]$testing\n",
              "[1] 49380\n",
              "\n",
              "[[21]]$testing_pos\n",
              "[1] 375\n",
              "\n",
              "[[21]]$envios\n",
              "[1] 3653\n",
              "\n",
              "[[21]]$aciertos\n",
              "[1] 209\n",
              "\n",
              "[[21]]$ganancia_test\n",
              "[1] 47070000\n",
              "\n",
              "\n",
              "[[22]]\n",
              "[[22]]$semilla\n",
              "[1] 234673\n",
              "\n",
              "[[22]]$testing\n",
              "[1] 49373\n",
              "\n",
              "[[22]]$testing_pos\n",
              "[1] 368\n",
              "\n",
              "[[22]]$envios\n",
              "[1] 4302\n",
              "\n",
              "[[22]]$aciertos\n",
              "[1] 223\n",
              "\n",
              "[[22]]$ganancia_test\n",
              "[1] 46180000\n",
              "\n",
              "\n",
              "[[23]]\n",
              "[[23]]$semilla\n",
              "[1] 975661\n",
              "\n",
              "[[23]]$testing\n",
              "[1] 49396\n",
              "\n",
              "[[23]]$testing_pos\n",
              "[1] 375\n",
              "\n",
              "[[23]]$envios\n",
              "[1] 3302\n",
              "\n",
              "[[23]]$aciertos\n",
              "[1] 211\n",
              "\n",
              "[[23]]$ganancia_test\n",
              "[1] 51380000\n",
              "\n",
              "\n",
              "[[24]]\n",
              "[[24]]$semilla\n",
              "[1] 953111\n",
              "\n",
              "[[24]]$testing\n",
              "[1] 49371\n",
              "\n",
              "[[24]]$testing_pos\n",
              "[1] 368\n",
              "\n",
              "[[24]]$envios\n",
              "[1] 2499\n",
              "\n",
              "[[24]]$aciertos\n",
              "[1] 178\n",
              "\n",
              "[[24]]$ganancia_test\n",
              "[1] 46210000\n",
              "\n",
              "\n",
              "[[25]]\n",
              "[[25]]$semilla\n",
              "[1] 418787\n",
              "\n",
              "[[25]]$testing\n",
              "[1] 49379\n",
              "\n",
              "[[25]]$testing_pos\n",
              "[1] 372\n",
              "\n",
              "[[25]]$envios\n",
              "[1] 3885\n",
              "\n",
              "[[25]]$aciertos\n",
              "[1] 211\n",
              "\n",
              "[[25]]$ganancia_test\n",
              "[1] 45550000\n",
              "\n",
              "\n",
              "[[26]]\n",
              "[[26]]$semilla\n",
              "[1] 957889\n",
              "\n",
              "[[26]]$testing\n",
              "[1] 49380\n",
              "\n",
              "[[26]]$testing_pos\n",
              "[1] 372\n",
              "\n",
              "[[26]]$envios\n",
              "[1] 3585\n",
              "\n",
              "[[26]]$aciertos\n",
              "[1] 203\n",
              "\n",
              "[[26]]$ganancia_test\n",
              "[1] 45350000\n",
              "\n",
              "\n",
              "[[27]]\n",
              "[[27]]$semilla\n",
              "[1] 483541\n",
              "\n",
              "[[27]]$testing\n",
              "[1] 49395\n",
              "\n",
              "[[27]]$testing_pos\n",
              "[1] 378\n",
              "\n",
              "[[27]]$envios\n",
              "[1] 2852\n",
              "\n",
              "[[27]]$aciertos\n",
              "[1] 199\n",
              "\n",
              "[[27]]$ganancia_test\n",
              "[1] 51080000\n",
              "\n",
              "\n",
              "[[28]]\n",
              "[[28]]$semilla\n",
              "[1] 198179\n",
              "\n",
              "[[28]]$testing\n",
              "[1] 49380\n",
              "\n",
              "[[28]]$testing_pos\n",
              "[1] 373\n",
              "\n",
              "[[28]]$envios\n",
              "[1] 3267\n",
              "\n",
              "[[28]]$aciertos\n",
              "[1] 208\n",
              "\n",
              "[[28]]$ganancia_test\n",
              "[1] 50530000\n",
              "\n",
              "\n",
              "[[29]]\n",
              "[[29]]$semilla\n",
              "[1] 894239\n",
              "\n",
              "[[29]]$testing\n",
              "[1] 49379\n",
              "\n",
              "[[29]]$testing_pos\n",
              "[1] 377\n",
              "\n",
              "[[29]]$envios\n",
              "[1] 2809\n",
              "\n",
              "[[29]]$aciertos\n",
              "[1] 193\n",
              "\n",
              "[[29]]$ganancia_test\n",
              "[1] 49110000\n",
              "\n",
              "\n",
              "[[30]]\n",
              "[[30]]$semilla\n",
              "[1] 763093\n",
              "\n",
              "[[30]]$testing\n",
              "[1] 49389\n",
              "\n",
              "[[30]]$testing_pos\n",
              "[1] 374\n",
              "\n",
              "[[30]]$envios\n",
              "[1] 2713\n",
              "\n",
              "[[30]]$aciertos\n",
              "[1] 179\n",
              "\n",
              "[[30]]$ganancia_test\n",
              "[1] 44470000\n",
              "\n",
              "\n",
              "[[31]]\n",
              "[[31]]$semilla\n",
              "[1] 671903\n",
              "\n",
              "[[31]]$testing\n",
              "[1] 49381\n",
              "\n",
              "[[31]]$testing_pos\n",
              "[1] 370\n",
              "\n",
              "[[31]]$envios\n",
              "[1] 3470\n",
              "\n",
              "[[31]]$aciertos\n",
              "[1] 223\n",
              "\n",
              "[[31]]$ganancia_test\n",
              "[1] 54500000\n",
              "\n",
              "\n",
              "[[32]]\n",
              "[[32]]$semilla\n",
              "[1] 938537\n",
              "\n",
              "[[32]]$testing\n",
              "[1] 49374\n",
              "\n",
              "[[32]]$testing_pos\n",
              "[1] 373\n",
              "\n",
              "[[32]]$envios\n",
              "[1] 4623\n",
              "\n",
              "[[32]]$aciertos\n",
              "[1] 212\n",
              "\n",
              "[[32]]$ganancia_test\n",
              "[1] 38570000\n",
              "\n",
              "\n",
              "[[33]]\n",
              "[[33]]$semilla\n",
              "[1] 314707\n",
              "\n",
              "[[33]]$testing\n",
              "[1] 49385\n",
              "\n",
              "[[33]]$testing_pos\n",
              "[1] 377\n",
              "\n",
              "[[33]]$envios\n",
              "[1] 4358\n",
              "\n",
              "[[33]]$aciertos\n",
              "[1] 223\n",
              "\n",
              "[[33]]$ganancia_test\n",
              "[1] 45620000\n",
              "\n",
              "\n",
              "[[34]]\n",
              "[[34]]$semilla\n",
              "[1] 349477\n",
              "\n",
              "[[34]]$testing\n",
              "[1] 49373\n",
              "\n",
              "[[34]]$testing_pos\n",
              "[1] 376\n",
              "\n",
              "[[34]]$envios\n",
              "[1] 3418\n",
              "\n",
              "[[34]]$aciertos\n",
              "[1] 215\n",
              "\n",
              "[[34]]$ganancia_test\n",
              "[1] 51820000\n",
              "\n",
              "\n",
              "[[35]]\n",
              "[[35]]$semilla\n",
              "[1] 247739\n",
              "\n",
              "[[35]]$testing\n",
              "[1] 49361\n",
              "\n",
              "[[35]]$testing_pos\n",
              "[1] 371\n",
              "\n",
              "[[35]]$envios\n",
              "[1] 3657\n",
              "\n",
              "[[35]]$aciertos\n",
              "[1] 211\n",
              "\n",
              "[[35]]$ganancia_test\n",
              "[1] 47830000\n",
              "\n",
              "\n",
              "[[36]]\n",
              "[[36]]$semilla\n",
              "[1] 586309\n",
              "\n",
              "[[36]]$testing\n",
              "[1] 49386\n",
              "\n",
              "[[36]]$testing_pos\n",
              "[1] 377\n",
              "\n",
              "[[36]]$envios\n",
              "[1] 3560\n",
              "\n",
              "[[36]]$aciertos\n",
              "[1] 208\n",
              "\n",
              "[[36]]$ganancia_test\n",
              "[1] 47600000\n",
              "\n",
              "\n",
              "[[37]]\n",
              "[[37]]$semilla\n",
              "[1] 212669\n",
              "\n",
              "[[37]]$testing\n",
              "[1] 49371\n",
              "\n",
              "[[37]]$testing_pos\n",
              "[1] 377\n",
              "\n",
              "[[37]]$envios\n",
              "[1] 3058\n",
              "\n",
              "[[37]]$aciertos\n",
              "[1] 200\n",
              "\n",
              "[[37]]$ganancia_test\n",
              "[1] 49420000\n",
              "\n",
              "\n",
              "[[38]]\n",
              "[[38]]$semilla\n",
              "[1] 129763\n",
              "\n",
              "[[38]]$testing\n",
              "[1] 49383\n",
              "\n",
              "[[38]]$testing_pos\n",
              "[1] 379\n",
              "\n",
              "[[38]]$envios\n",
              "[1] 2851\n",
              "\n",
              "[[38]]$aciertos\n",
              "[1] 193\n",
              "\n",
              "[[38]]$ganancia_test\n",
              "[1] 48690000\n",
              "\n",
              "\n",
              "[[39]]\n",
              "[[39]]$semilla\n",
              "[1] 284857\n",
              "\n",
              "[[39]]$testing\n",
              "[1] 49377\n",
              "\n",
              "[[39]]$testing_pos\n",
              "[1] 371\n",
              "\n",
              "[[39]]$envios\n",
              "[1] 3081\n",
              "\n",
              "[[39]]$aciertos\n",
              "[1] 210\n",
              "\n",
              "[[39]]$ganancia_test\n",
              "[1] 53190000\n",
              "\n",
              "\n",
              "[[40]]\n",
              "[[40]]$semilla\n",
              "[1] 552137\n",
              "\n",
              "[[40]]$testing\n",
              "[1] 49391\n",
              "\n",
              "[[40]]$testing_pos\n",
              "[1] 377\n",
              "\n",
              "[[40]]$envios\n",
              "[1] 3975\n",
              "\n",
              "[[40]]$aciertos\n",
              "[1] 217\n",
              "\n",
              "[[40]]$ganancia_test\n",
              "[1] 47050000\n",
              "\n",
              "\n",
              "[[41]]\n",
              "[[41]]$semilla\n",
              "[1] 855373\n",
              "\n",
              "[[41]]$testing\n",
              "[1] 49383\n",
              "\n",
              "[[41]]$testing_pos\n",
              "[1] 376\n",
              "\n",
              "[[41]]$envios\n",
              "[1] 3603\n",
              "\n",
              "[[41]]$aciertos\n",
              "[1] 211\n",
              "\n",
              "[[41]]$ganancia_test\n",
              "[1] 48370000\n",
              "\n",
              "\n",
              "[[42]]\n",
              "[[42]]$semilla\n",
              "[1] 927803\n",
              "\n",
              "[[42]]$testing\n",
              "[1] 49387\n",
              "\n",
              "[[42]]$testing_pos\n",
              "[1] 374\n",
              "\n",
              "[[42]]$envios\n",
              "[1] 2797\n",
              "\n",
              "[[42]]$aciertos\n",
              "[1] 169\n",
              "\n",
              "[[42]]$ganancia_test\n",
              "[1] 39630000\n",
              "\n",
              "\n",
              "[[43]]\n",
              "[[43]]$semilla\n",
              "[1] 279707\n",
              "\n",
              "[[43]]$testing\n",
              "[1] 49384\n",
              "\n",
              "[[43]]$testing_pos\n",
              "[1] 376\n",
              "\n",
              "[[43]]$envios\n",
              "[1] 3295\n",
              "\n",
              "[[43]]$aciertos\n",
              "[1] 204\n",
              "\n",
              "[[43]]$ganancia_test\n",
              "[1] 48650000\n",
              "\n",
              "\n",
              "[[44]]\n",
              "[[44]]$semilla\n",
              "[1] 832639\n",
              "\n",
              "[[44]]$testing\n",
              "[1] 49390\n",
              "\n",
              "[[44]]$testing_pos\n",
              "[1] 379\n",
              "\n",
              "[[44]]$envios\n",
              "[1] 2820\n",
              "\n",
              "[[44]]$aciertos\n",
              "[1] 196\n",
              "\n",
              "[[44]]$ganancia_test\n",
              "[1] 50200000\n",
              "\n",
              "\n",
              "[[45]]\n",
              "[[45]]$semilla\n",
              "[1] 207377\n",
              "\n",
              "[[45]]$testing\n",
              "[1] 49377\n",
              "\n",
              "[[45]]$testing_pos\n",
              "[1] 379\n",
              "\n",
              "[[45]]$envios\n",
              "[1] 3194\n",
              "\n",
              "[[45]]$aciertos\n",
              "[1] 202\n",
              "\n",
              "[[45]]$ganancia_test\n",
              "[1] 48860000\n",
              "\n",
              "\n",
              "[[46]]\n",
              "[[46]]$semilla\n",
              "[1] 297833\n",
              "\n",
              "[[46]]$testing\n",
              "[1] 49368\n",
              "\n",
              "[[46]]$testing_pos\n",
              "[1] 371\n",
              "\n",
              "[[46]]$envios\n",
              "[1] 3196\n",
              "\n",
              "[[46]]$aciertos\n",
              "[1] 195\n",
              "\n",
              "[[46]]$ganancia_test\n",
              "[1] 46040000\n",
              "\n",
              "\n",
              "[[47]]\n",
              "[[47]]$semilla\n",
              "[1] 566717\n",
              "\n",
              "[[47]]$testing\n",
              "[1] 49395\n",
              "\n",
              "[[47]]$testing_pos\n",
              "[1] 376\n",
              "\n",
              "[[47]]$envios\n",
              "[1] 3474\n",
              "\n",
              "[[47]]$aciertos\n",
              "[1] 217\n",
              "\n",
              "[[47]]$ganancia_test\n",
              "[1] 52060000\n",
              "\n",
              "\n",
              "[[48]]\n",
              "[[48]]$semilla\n",
              "[1] 213881\n",
              "\n",
              "[[48]]$testing\n",
              "[1] 49384\n",
              "\n",
              "[[48]]$testing_pos\n",
              "[1] 374\n",
              "\n",
              "[[48]]$envios\n",
              "[1] 4027\n",
              "\n",
              "[[48]]$aciertos\n",
              "[1] 222\n",
              "\n",
              "[[48]]$ganancia_test\n",
              "[1] 48530000\n",
              "\n",
              "\n",
              "[[49]]\n",
              "[[49]]$semilla\n",
              "[1] 371479\n",
              "\n",
              "[[49]]$testing\n",
              "[1] 49368\n",
              "\n",
              "[[49]]$testing_pos\n",
              "[1] 375\n",
              "\n",
              "[[49]]$envios\n",
              "[1] 3564\n",
              "\n",
              "[[49]]$aciertos\n",
              "[1] 207\n",
              "\n",
              "[[49]]$ganancia_test\n",
              "[1] 47160000\n",
              "\n",
              "\n",
              "[[50]]\n",
              "[[50]]$semilla\n",
              "[1] 132541\n",
              "\n",
              "[[50]]$testing\n",
              "[1] 49379\n",
              "\n",
              "[[50]]$testing_pos\n",
              "[1] 377\n",
              "\n",
              "[[50]]$envios\n",
              "[1] 3827\n",
              "\n",
              "[[50]]$aciertos\n",
              "[1] 224\n",
              "\n",
              "[[50]]$ganancia_test\n",
              "[1] 51330000\n",
              "\n"
            ]
          },
          "metadata": {}
        }
      ]
    },
    {
      "cell_type": "code",
      "source": [
        "# paso la lista a vector\n",
        "tb_salida <- rbindlist(salidas)\n",
        "print( tb_salida)"
      ],
      "metadata": {
        "id": "unGWiKRMGimU",
        "outputId": "9092f1e6-c757-4c9b-b1be-fd1aa8ee0fe9",
        "colab": {
          "base_uri": "https://localhost:8080/"
        }
      },
      "execution_count": null,
      "outputs": [
        {
          "output_type": "stream",
          "name": "stdout",
          "text": [
            "    semilla testing testing_pos envios aciertos ganancia_test\n",
            "      <int>   <int>       <int>  <int>    <int>         <num>\n",
            " 1:  575693   49378         376   2890      189      46700000\n",
            " 2:  494803   49378         373   3586      204      45740000\n",
            " 3:  767111   49389         376   4025      221      48150000\n",
            " 4:  756727   49361         370   4245      221      45950000\n",
            " 5:  457087   49375         370   3197      195      46030000\n",
            " 6:  108863   49376         372   2943      206      52970000\n",
            " 7:  814243   49380         375   3407      204      47530000\n",
            " 8:  227977   49383         379   3123      191      45170000\n",
            " 9:  223319   49381         373   3709      215      48910000\n",
            "10:  536513   49381         372   3264      184      40960000\n",
            "11:  103471   49383         377   3365      195      44350000\n",
            "12:  549737   49381         377   3921      207      43590000\n",
            "13:  970969   49384         370   3447      210      49530000\n",
            "14:  870049   49364         368   3631      215      49690000\n",
            "15:  502841   49381         376   3256      221      55840000\n",
            "16:  274093   49383         374   3783      220      50170000\n",
            "17:  218479   49378         374   2902      180      42980000\n",
            "18:  134077   49382         373   3309      209      50510000\n",
            "19:  426331   49370         376   4313      222      45670000\n",
            "20:  670049   49385         375   3138      202      49420000\n",
            "21:  860107   49380         375   3653      209      47070000\n",
            "22:  234673   49373         368   4302      223      46180000\n",
            "23:  975661   49396         375   3302      211      51380000\n",
            "24:  953111   49371         368   2499      178      46210000\n",
            "25:  418787   49379         372   3885      211      45550000\n",
            "26:  957889   49380         372   3585      203      45350000\n",
            "27:  483541   49395         378   2852      199      51080000\n",
            "28:  198179   49380         373   3267      208      50530000\n",
            "29:  894239   49379         377   2809      193      49110000\n",
            "30:  763093   49389         374   2713      179      44470000\n",
            "31:  671903   49381         370   3470      223      54500000\n",
            "32:  938537   49374         373   4623      212      38570000\n",
            "33:  314707   49385         377   4358      223      45620000\n",
            "34:  349477   49373         376   3418      215      51820000\n",
            "35:  247739   49361         371   3657      211      47830000\n",
            "36:  586309   49386         377   3560      208      47600000\n",
            "37:  212669   49371         377   3058      200      49420000\n",
            "38:  129763   49383         379   2851      193      48690000\n",
            "39:  284857   49377         371   3081      210      53190000\n",
            "40:  552137   49391         377   3975      217      47050000\n",
            "41:  855373   49383         376   3603      211      48370000\n",
            "42:  927803   49387         374   2797      169      39630000\n",
            "43:  279707   49384         376   3295      204      48650000\n",
            "44:  832639   49390         379   2820      196      50200000\n",
            "45:  207377   49377         379   3194      202      48860000\n",
            "46:  297833   49368         371   3196      195      46040000\n",
            "47:  566717   49395         376   3474      217      52060000\n",
            "48:  213881   49384         374   4027      222      48530000\n",
            "49:  371479   49368         375   3564      207      47160000\n",
            "50:  132541   49379         377   3827      224      51330000\n",
            "    semilla testing testing_pos envios aciertos ganancia_test\n"
          ]
        }
      ]
    },
    {
      "cell_type": "code",
      "source": [
        "# calulo la salida\n",
        "for( i in seq(10, 50, 10) )\n",
        "{\n",
        "  cat( i, \"\\t\", tb_salida[ 1:i, mean(ganancia_test)], \"\\n\" )\n",
        "}\n"
      ],
      "metadata": {
        "id": "oGoadhBKGimV",
        "outputId": "c561bd21-d330-4168-8a7c-b97085eec9cb",
        "colab": {
          "base_uri": "https://localhost:8080/"
        }
      },
      "execution_count": null,
      "outputs": [
        {
          "output_type": "stream",
          "name": "stdout",
          "text": [
            "10 \t 46811000 \n",
            "20 \t 47493000 \n",
            "30 \t 47559667 \n",
            "40 \t 47777000 \n",
            "50 \t 47838200 \n"
          ]
        }
      ]
    },
    {
      "cell_type": "markdown",
      "source": [
        "### Acciones a realizar\n",
        "* Reportar la  los resultados en la planilla colaborativa hoja  **C2-nsem**\n",
        "* Se discutirá en clase la variabilidad de las distintas cantidades de semillas"
      ],
      "metadata": {
        "id": "dO9yQKt7GimV"
      }
    },
    {
      "cell_type": "markdown",
      "source": [
        "\n",
        "\n",
        "---\n",
        "\n"
      ],
      "metadata": {
        "id": "ziFKwIlBGimW"
      }
    },
    {
      "cell_type": "markdown",
      "source": [
        "# 5  DiezMil -Monte Carlo Cross Validation\n",
        "## Clase 02  Experimento 5"
      ],
      "metadata": {
        "id": "2jncHe-KJLUg"
      }
    },
    {
      "cell_type": "markdown",
      "source": [
        "Mostrar a los estudiantes el resultado de un experimento en donde se ha corrido una Monte Carlo Cross Validation utilizando diez mil semillas y relacionar la cantidad de semillas con el resultado del Teorema Central del Límite\n",
        "<br>Los resultados se muestran en esta misma guia y se comentan en clase,Bajo ningún concepto se solicitará a l@s estudiantes hacer este experimento en clase ya que lleva varias horas en correr.\n"
      ],
      "metadata": {
        "id": "vUzSGZGOJZq8"
      }
    },
    {
      "cell_type": "markdown",
      "source": [
        "Aqui usted NO debe correr absolutamente nada, el experimento ya fue corrido por la cátedra y le muestra los resultados."
      ],
      "metadata": {
        "id": "G0YGjTMxuTSg"
      }
    },
    {
      "cell_type": "markdown",
      "source": [
        "## 5.1\n",
        "Estos resultados han sido corridos por la cátedra.\n",
        "\n",
        "![Distribucion de las ganancias](https://storage.googleapis.com/open-courses/austral2025-af91/labo1r/C2_E5_distribucion.jpg)"
      ],
      "metadata": {
        "id": "7NRUb3WtJikc"
      }
    },
    {
      "cell_type": "markdown",
      "source": [
        "![salida](https://storage.googleapis.com/open-courses/austral2025-af91/labo1r/C2_E5_salida.jpg)"
      ],
      "metadata": {
        "id": "tZ4X8wdSKc7G"
      }
    },
    {
      "cell_type": "markdown",
      "source": [
        "![tabla](https://storage.googleapis.com/open-courses/austral2025-af91/labo1r/C2_E5_tabla.jpg)\n",
        "\n",
        " 2    ~    1,96  =  3605406.2 / 1836264.3\n",
        "\n",
        "Por el teorema central del límite, un aumento de 4 veces de la cantidad de registros que se promedian el desvio estandar disminuye 2 veces ,  raiz(4 ) = 2"
      ],
      "metadata": {
        "id": "EsL5ukNWKS71"
      }
    },
    {
      "cell_type": "markdown",
      "source": [
        "\n",
        "\n",
        "---\n",
        "\n"
      ],
      "metadata": {
        "id": "OTLq8TC4LR0c"
      }
    },
    {
      "cell_type": "markdown",
      "source": [
        "# 6 Comparando dos distintos  modelos\n",
        "## Clase 02  Experimento 6"
      ],
      "metadata": {
        "id": "sAS1bfL8LmBv"
      }
    },
    {
      "cell_type": "markdown",
      "source": [
        "## 6.1  Objetivos\n",
        "Presentar a los alumnos la dificultad que se presenta ante la comparación de dos modelos, uno posee un poder predictivo claramente mayor al otro.\n",
        "Comparación simple de media de ganancias, versus probabilidad que un modelo sea superior a otro."
      ],
      "metadata": {
        "id": "KzwdMJDZLmB9"
      }
    },
    {
      "cell_type": "markdown",
      "source": [
        "## 6.2 Introduccion\n",
        "Estos son los dos arboles de muy distinta profundidad.\n",
        "<br>¿Cuál de ellos es mejor? ¿Cuál elijo?\n",
        "\n",
        "| Hiperparámetro | Arbol 1 | Arbol 2 |\n",
        "| --- | --: |  ---: |\n",
        "| cp | -1 | -1 |\n",
        "|minsplit | 170 | 250 |\n",
        "|minbucket | 70 | 125 |\n",
        "|maxdepth | 7 | 20 |\n",
        "\n"
      ],
      "metadata": {
        "id": "DDyFNmJ9L_CW"
      }
    },
    {
      "cell_type": "markdown",
      "source": [
        "## 6.3 Codigo dos distintos modelos"
      ],
      "metadata": {
        "id": "bQfwNsVzNrtI"
      }
    },
    {
      "cell_type": "markdown",
      "source": [
        "Esta parte se debe correr con el runtime en lenguaje **R** Ir al menu, Runtime -> Change Runtime Tipe -> Runtime type -> R"
      ],
      "metadata": {
        "id": "Ku7qQgKjNruJ"
      }
    },
    {
      "cell_type": "markdown",
      "source": [
        "El tiempo de corrida es de alrededor de 40 minutos"
      ],
      "metadata": {
        "id": "6jCdS3NMuKei"
      }
    },
    {
      "cell_type": "markdown",
      "source": [
        "limpio el ambiente de R"
      ],
      "metadata": {
        "id": "Z1EUBeHyNruK"
      }
    },
    {
      "cell_type": "code",
      "source": [
        "# limpio la memoria\n",
        "rm(list=ls(all.names=TRUE)) # remove all objects\n",
        "gc(full=TRUE, verbose=FALSE) # garbage collection"
      ],
      "metadata": {
        "id": "GxbC4V3zNruM",
        "outputId": "ad0bf38b-5a88-4f0d-e774-0886b5e9f2d5",
        "colab": {
          "base_uri": "https://localhost:8080/",
          "height": 129
        }
      },
      "execution_count": 36,
      "outputs": [
        {
          "output_type": "display_data",
          "data": {
            "text/html": [
              "<table class=\"dataframe\">\n",
              "<caption>A matrix: 2 × 6 of type dbl</caption>\n",
              "<thead>\n",
              "\t<tr><th></th><th scope=col>used</th><th scope=col>(Mb)</th><th scope=col>gc trigger</th><th scope=col>(Mb)</th><th scope=col>max used</th><th scope=col>(Mb)</th></tr>\n",
              "</thead>\n",
              "<tbody>\n",
              "\t<tr><th scope=row>Ncells</th><td> 809672</td><td>43.3</td><td> 1454474</td><td> 77.7</td><td>  1454474</td><td> 77.7</td></tr>\n",
              "\t<tr><th scope=row>Vcells</th><td>1530588</td><td>11.7</td><td>68022373</td><td>519.0</td><td>104125303</td><td>794.5</td></tr>\n",
              "</tbody>\n",
              "</table>\n"
            ],
            "text/markdown": "\nA matrix: 2 × 6 of type dbl\n\n| <!--/--> | used | (Mb) | gc trigger | (Mb) | max used | (Mb) |\n|---|---|---|---|---|---|---|\n| Ncells |  809672 | 43.3 |  1454474 |  77.7 |   1454474 |  77.7 |\n| Vcells | 1530588 | 11.7 | 68022373 | 519.0 | 104125303 | 794.5 |\n\n",
            "text/latex": "A matrix: 2 × 6 of type dbl\n\\begin{tabular}{r|llllll}\n  & used & (Mb) & gc trigger & (Mb) & max used & (Mb)\\\\\n\\hline\n\tNcells &  809672 & 43.3 &  1454474 &  77.7 &   1454474 &  77.7\\\\\n\tVcells & 1530588 & 11.7 & 68022373 & 519.0 & 104125303 & 794.5\\\\\n\\end{tabular}\n",
            "text/plain": [
              "       used    (Mb) gc trigger (Mb)  max used  (Mb) \n",
              "Ncells  809672 43.3  1454474    77.7   1454474  77.7\n",
              "Vcells 1530588 11.7 68022373   519.0 104125303 794.5"
            ]
          },
          "metadata": {}
        }
      ]
    },
    {
      "cell_type": "markdown",
      "source": [
        "* Instalacion de la libreria  rpart.plot  para dibujar el arbol\n",
        "* invocacion de las librerias  **data.table** y  **rpart**"
      ],
      "metadata": {
        "id": "i2WkSCIhNruQ"
      }
    },
    {
      "cell_type": "code",
      "source": [
        "# cargo las librerias que necesito\n",
        "require(\"data.table\")\n",
        "require(\"rpart\")\n",
        "require(\"parallel\")\n",
        "\n",
        "if (!require(\"primes\")) install.packages(\"primes\")\n",
        "require(\"primes\")\n",
        "\n",
        "require(\"ggplot2\")"
      ],
      "metadata": {
        "id": "3bMsgZJWNruR",
        "outputId": "0b67e69a-9240-4d64-9fe0-acecdccc4ff8",
        "colab": {
          "base_uri": "https://localhost:8080/"
        }
      },
      "execution_count": 37,
      "outputs": [
        {
          "output_type": "stream",
          "name": "stderr",
          "text": [
            "Loading required package: primes\n",
            "\n",
            "Warning message in library(package, lib.loc = lib.loc, character.only = TRUE, logical.return = TRUE, :\n",
            "“there is no package called ‘primes’”\n",
            "Installing package into ‘/usr/local/lib/R/site-library’\n",
            "(as ‘lib’ is unspecified)\n",
            "\n",
            "Loading required package: primes\n",
            "\n",
            "Loading required package: ggplot2\n",
            "\n"
          ]
        }
      ]
    },
    {
      "cell_type": "markdown",
      "source": [
        "###  Accion a Realizar\n",
        "PARAM$semilla_primigenia  debe reemplazarse por SU primer semilla"
      ],
      "metadata": {
        "id": "t1lTXrKaNruT"
      }
    },
    {
      "cell_type": "code",
      "source": [
        "PARAM <- list()\n",
        "PARAM$semilla_primigenia <- 102191\n",
        "PARAM$qsemillas <- 20\n",
        "PARAM$training_pct <- 70L     # entre 1 y 100\n"
      ],
      "metadata": {
        "id": "QFbPtTCMNruV"
      },
      "execution_count": 38,
      "outputs": []
    },
    {
      "cell_type": "code",
      "source": [
        "# los dos arboles\n",
        "PARAM$rpart1 <- list (\n",
        "  \"cp\" = -1,\n",
        "  \"minsplit\" = 170,\n",
        "  \"minbucket\" = 70,\n",
        "  \"maxdepth\" = 7\n",
        ")\n",
        "\n",
        "\n",
        "PARAM$rpart2 <- list (\n",
        "  \"cp\" = -1,\n",
        "  \"minsplit\" = 250,\n",
        "  \"minbucket\" = 125,\n",
        "  \"maxdepth\" = 20\n",
        ")"
      ],
      "metadata": {
        "id": "GiBGk7WKQv2V"
      },
      "execution_count": 39,
      "outputs": []
    },
    {
      "cell_type": "code",
      "source": [
        "# particionar agrega una columna llamada fold a un dataset\n",
        "#  que consiste en una particion estratificada segun agrupa\n",
        "\n",
        "# particionar( data=dataset, division=c(70,30),\n",
        "#  agrupa=clase_ternaria, seed=semilla)   crea una particion 70, 30\n",
        "\n",
        "particionar <- function(\n",
        "    data, division, agrupa = \"\",\n",
        "    campo = \"fold\", start = 1, seed = NA) {\n",
        "  if (!is.na(seed)) set.seed(seed)\n",
        "\n",
        "  bloque <- unlist(mapply(function(x, y) {\n",
        "    rep(y, x)\n",
        "  }, division, seq(from = start, length.out = length(division))))\n",
        "\n",
        "  data[, (campo) := sample(rep(bloque, ceiling(.N / length(bloque))))[1:.N],\n",
        "    by = agrupa\n",
        "  ]\n",
        "}\n"
      ],
      "metadata": {
        "id": "2BabfKg7NruX"
      },
      "execution_count": 40,
      "outputs": []
    },
    {
      "cell_type": "code",
      "source": [
        "DosArbolesEstimarGanancia <- function(semilla, training_pct, param_rpart1, param_rpart2) {\n",
        "\n",
        "  # fuerzo impresion\n",
        "  print( paste( semilla, Sys.time()) )\n",
        "  flush.console()\n",
        "\n",
        "  # particiono estratificadamente el dataset\n",
        "  particionar(dataset,\n",
        "    division = c(training_pct, 100L -training_pct),\n",
        "    agrupa = \"clase_ternaria\",\n",
        "    seed = semilla # aqui se usa SU semilla\n",
        "  )\n",
        "\n",
        "  # genero el modelo\n",
        "  # predecir clase_ternaria a partir del resto\n",
        "  modelo1 <- rpart(\"clase_ternaria ~ .\",\n",
        "    data = dataset[fold == 1], # fold==1  es training,  el 70% de los datos\n",
        "    xval = 0,\n",
        "    control = param_rpart1\n",
        "  ) # aqui van los parametros del arbol\n",
        "\n",
        "  # aplico el modelo a los datos de testing\n",
        "  prediccion1 <- predict(modelo1, # el modelo que genere recien\n",
        "    dataset[fold == 2], # fold==2  es testing, el 30% de los datos\n",
        "    type = \"prob\"\n",
        "  ) # type= \"prob\"  es que devuelva la probabilidad\n",
        "\n",
        "\n",
        "  # calculo la ganancia en testing  qu es fold==2\n",
        "  ganancia_test1 <- dataset[\n",
        "    fold == 2,\n",
        "    sum(ifelse(prediccion1[, \"BAJA+2\"] > 0.025,\n",
        "      ifelse(clase_ternaria == \"BAJA+2\", 117000, -3000),\n",
        "      0\n",
        "    ))\n",
        "  ]\n",
        "\n",
        "  # escalo la ganancia como si fuera todo el dataset\n",
        "  ganancia_test_normalizada1 <- ganancia_test1 / (( 100 - training_pct ) / 100 )\n",
        "\n",
        "  modelo2 <- rpart(\"clase_ternaria ~ .\",\n",
        "    data = dataset[fold == 1], # fold==1  es training,  el 70% de los datos\n",
        "    xval = 0,\n",
        "    control = param_rpart2\n",
        "  ) # aqui van los parametros del arbol\n",
        "\n",
        "  # aplico el modelo a los datos de testing\n",
        "  prediccion2 <- predict(modelo2, # el modelo que genere recien\n",
        "    dataset[fold == 2], # fold==2  es testing, el 30% de los datos\n",
        "    type = \"prob\"\n",
        "  ) # type= \"prob\"  es que devuelva la probabilidad\n",
        "\n",
        "\n",
        "  # calculo la ganancia en testing  qu es fold==2\n",
        "  ganancia_test2 <- dataset[\n",
        "    fold == 2,\n",
        "    sum(ifelse(prediccion2[, \"BAJA+2\"] > 0.025,\n",
        "      ifelse(clase_ternaria == \"BAJA+2\", 117000, -3000),\n",
        "      0\n",
        "    ))\n",
        "  ]\n",
        "\n",
        "  # escalo la ganancia como si fuera todo el dataset\n",
        "  ganancia_test_normalizada2 <- ganancia_test2 / (( 100 - training_pct ) / 100 )\n",
        "\n",
        "  return(list(\n",
        "    \"semilla\" = semilla,\n",
        "    \"ganancia1\" = ganancia_test_normalizada1,\n",
        "    \"ganancia2\" = ganancia_test_normalizada2\n",
        "  ))\n",
        "}"
      ],
      "metadata": {
        "id": "YrGJgj4UNruZ"
      },
      "execution_count": 41,
      "outputs": []
    },
    {
      "cell_type": "code",
      "source": [
        "# carpeta de trabajo\n",
        "setwd(\"/content/buckets/b1/exp\")\n",
        "experimento <- \"exp206\"\n",
        "dir.create(experimento, showWarnings=FALSE)\n",
        "setwd( paste0(\"/content/buckets/b1/exp/\", experimento ))"
      ],
      "metadata": {
        "id": "2C2yjgQVNrud"
      },
      "execution_count": 42,
      "outputs": []
    },
    {
      "cell_type": "code",
      "source": [
        "# lectura del dataset\n",
        "dataset <- fread(\"/content/datasets/dataset_pequeno.csv\")\n",
        "\n",
        "# trabajo solo con los datos con clase, es decir 202107\n",
        "dataset <- dataset[clase_ternaria != \"\"]"
      ],
      "metadata": {
        "id": "oQeGcBnPNrug"
      },
      "execution_count": 43,
      "outputs": []
    },
    {
      "cell_type": "code",
      "source": [
        "detectCores()"
      ],
      "metadata": {
        "id": "gXKI2eXO9Osx",
        "outputId": "46526d26-7ae4-45b0-e0c3-6d7eba32445d",
        "colab": {
          "base_uri": "https://localhost:8080/",
          "height": 34
        }
      },
      "execution_count": 44,
      "outputs": [
        {
          "output_type": "display_data",
          "data": {
            "text/html": [
              "2"
            ],
            "text/markdown": "2",
            "text/latex": "2",
            "text/plain": [
              "[1] 2"
            ]
          },
          "metadata": {}
        }
      ]
    },
    {
      "cell_type": "code",
      "source": [
        "# genero numeros primos\n",
        "primos <- generate_primes(min = 100000, max = 1000000)\n",
        "set.seed(PARAM$semilla_primigenia) # inicializo\n",
        "\n",
        "# me quedo con PARAM$qsemillas   semillas\n",
        "PARAM$semillas <- sample(primos, PARAM$qsemillas )"
      ],
      "metadata": {
        "id": "tU8S7_5ANrui"
      },
      "execution_count": 45,
      "outputs": []
    },
    {
      "cell_type": "code",
      "source": [
        "# demora interminables 60 minutos en correr en Google Colab\n",
        "Sys.time()\n",
        "\n",
        "salidas <- mcmapply( DosArbolesEstimarGanancia,\n",
        "  PARAM$semillas, # paso el vector de semillas\n",
        "  MoreArgs = list(PARAM$training_pct, PARAM$rpart1, PARAM$rpart2), # aqui paso el segundo parametro\n",
        "  SIMPLIFY = FALSE,\n",
        "  mc.cores = detectCores()\n",
        ")\n",
        "\n",
        "Sys.time()"
      ],
      "metadata": {
        "id": "mlF66CgxcHF3"
      },
      "execution_count": null,
      "outputs": []
    },
    {
      "cell_type": "code",
      "source": [
        "# paso la lista a vector\n",
        "tb_salida <- rbindlist(salidas)\n",
        "tb_salida"
      ],
      "metadata": {
        "id": "_g-_kccdNrum"
      },
      "execution_count": null,
      "outputs": []
    },
    {
      "cell_type": "code",
      "source": [
        "grafico <- ggplot( tb_salida, aes(x=ganancia1)) + geom_density(alpha=0.25, fill=\"green\", color=\"green\")  +\n",
        "             geom_density(data=tb_salida, aes(x=ganancia2), fill=\"purple\", color=\"purple\",  alpha=0.10)\n",
        "\n",
        "print(grafico)"
      ],
      "metadata": {
        "id": "-O0rg6btNrun"
      },
      "execution_count": null,
      "outputs": []
    },
    {
      "cell_type": "code",
      "source": [
        "# imprimo en un .pdf  que va a la carpeta del experimento\n",
        "pdf(\"densidad_dos.pdf\")\n",
        "print(grafico)\n",
        "dev.off()"
      ],
      "metadata": {
        "id": "uSqrazOyU_LC"
      },
      "execution_count": null,
      "outputs": []
    },
    {
      "cell_type": "code",
      "source": [
        "print( tb_salida[ , list( \"arbol1\" = mean( ganancia1),  \"arbol2\" = mean(ganancia2) ) ] )\n",
        "\n",
        "print( tb_salida[ , list( \"prob( m1 > m2)\" = sum(ganancia1 > ganancia2 )/ .N ) ]  )"
      ],
      "metadata": {
        "id": "LGv0LB_4R7US"
      },
      "execution_count": null,
      "outputs": []
    },
    {
      "cell_type": "markdown",
      "source": [
        "### Acciones a realizar\n",
        "* Reportar la  los resultados en la planilla colaborativa hoja  **C2-dosModelos**\n",
        "* ¿Todos los alumnos hubieran elegido el mismo modelo aun con 20 semillas?"
      ],
      "metadata": {
        "id": "F6lFJf1VTi8b"
      }
    },
    {
      "cell_type": "markdown",
      "source": [
        "\n",
        "\n",
        "---\n",
        "\n"
      ],
      "metadata": {
        "id": "aOpy-XBKTi8n"
      }
    },
    {
      "cell_type": "markdown",
      "source": [
        "# 7 Comparando dos buenos  modelos\n",
        "## Clase 02  Experimento 7"
      ],
      "metadata": {
        "id": "EdzjiJf-dsEK"
      }
    },
    {
      "cell_type": "markdown",
      "source": [
        "## 7.1  Objetivos\n",
        "Presentar a los alumnos la dificultad que surge en la comparación de dos muy distintos, pero ambos buenos, modelos predictivos, y el costo computacional asociado a esa comparación\n",
        "<br>Comparación simple de media de ganancias, versus probabilidad que un modelo sea superior a otro.\n",
        "<br>Limitaciones de la MonteCarlo Cross Validation\n",
        "<br>Existencia del Test de Wilcoxon"
      ],
      "metadata": {
        "id": "FcBjp5XxdsEt"
      }
    },
    {
      "cell_type": "markdown",
      "source": [
        "## 7.2 Introduccion\n",
        "Estos son los dos arboles de muy distinta profundidad.\n",
        "<br>¿Cuál de ellos es mejor? ¿Cuál elijo?\n",
        "\n",
        "| Hiperparámetro | Arbol 1 | Arbol 2 |\n",
        "| --- | --: |  ---: |\n",
        "| cp | -1 | -1 |\n",
        "|minsplit | 170 | 1900 |\n",
        "|minbucket | 70 | 800 |\n",
        "|maxdepth | 7 | 3 |\n",
        "\n"
      ],
      "metadata": {
        "id": "tYcOIcwCdsEu"
      }
    },
    {
      "cell_type": "markdown",
      "source": [
        "## 7.3 Dos buenos modelos"
      ],
      "metadata": {
        "id": "r0NDA7GgdsEu"
      }
    },
    {
      "cell_type": "markdown",
      "source": [
        "Esta parte se debe correr con el runtime en lenguaje **R** Ir al menu, Runtime -> Change Runtime Tipe -> Runtime type -> R"
      ],
      "metadata": {
        "id": "21SJmGd7dsEv"
      }
    },
    {
      "cell_type": "markdown",
      "source": [
        "El tiempo de corrida es de alrededor de 50 minutos"
      ],
      "metadata": {
        "id": "Ne0e08KUt87w"
      }
    },
    {
      "cell_type": "markdown",
      "source": [
        "limpio el ambiente de R"
      ],
      "metadata": {
        "id": "q02SEGNwdsEv"
      }
    },
    {
      "cell_type": "code",
      "source": [
        "# limpio la memoria\n",
        "rm(list=ls(all.names=TRUE)) # remove all objects\n",
        "gc(full=TRUE, verbose=FALSE) # garbage collection"
      ],
      "metadata": {
        "id": "6c2ZJstWdsEw"
      },
      "execution_count": null,
      "outputs": []
    },
    {
      "cell_type": "markdown",
      "source": [
        "* Instalacion de la libreria  rpart.plot  para dibujar el arbol\n",
        "* invocacion de las librerias  **data.table** y  **rpart**"
      ],
      "metadata": {
        "id": "62MIW0r1dsEx"
      }
    },
    {
      "cell_type": "code",
      "source": [
        "# cargo las librerias que necesito\n",
        "require(\"data.table\")\n",
        "require(\"rpart\")\n",
        "require(\"parallel\")\n",
        "\n",
        "if (!require(\"primes\")) install.packages(\"primes\")\n",
        "require(\"primes\")\n",
        "\n",
        "require(\"ggplot2\")"
      ],
      "metadata": {
        "id": "2Ke4n-N8dsEy"
      },
      "execution_count": null,
      "outputs": []
    },
    {
      "cell_type": "markdown",
      "source": [
        "###  Accion a Realizar\n",
        "PARAM$semilla_primigenia  debe reemplazarse por SU primer semilla"
      ],
      "metadata": {
        "id": "UHSoeqi4dsEz"
      }
    },
    {
      "cell_type": "code",
      "source": [
        "PARAM <- list()\n",
        "PARAM$semilla_primigenia <- 102191\n",
        "PARAM$qsemillas <- 50\n",
        "PARAM$training_pct <- 70L     # entre 1 y 100\n"
      ],
      "metadata": {
        "id": "f08_sqfAdsEz"
      },
      "execution_count": null,
      "outputs": []
    },
    {
      "cell_type": "code",
      "source": [
        "# los dos arboles\n",
        "PARAM$rpart1 <- list (\n",
        "  \"cp\" = -1,\n",
        "  \"minsplit\" = 170,\n",
        "  \"minbucket\" = 70,\n",
        "  \"maxdepth\" = 7\n",
        ")\n",
        "\n",
        "\n",
        "PARAM$rpart2 <- list (\n",
        "  \"cp\" = -1,\n",
        "  \"minsplit\" = 1900,\n",
        "  \"minbucket\" = 800,\n",
        "  \"maxdepth\" = 3\n",
        ")\n"
      ],
      "metadata": {
        "id": "L735D9rydsE0"
      },
      "execution_count": null,
      "outputs": []
    },
    {
      "cell_type": "code",
      "source": [
        "# particionar agrega una columna llamada fold a un dataset\n",
        "#  que consiste en una particion estratificada segun agrupa\n",
        "\n",
        "# particionar( data=dataset, division=c(70,30),\n",
        "#  agrupa=clase_ternaria, seed=semilla)   crea una particion 70, 30\n",
        "\n",
        "particionar <- function(\n",
        "    data, division, agrupa = \"\",\n",
        "    campo = \"fold\", start = 1, seed = NA) {\n",
        "  if (!is.na(seed)) set.seed(seed)\n",
        "\n",
        "  bloque <- unlist(mapply(function(x, y) {\n",
        "    rep(y, x)\n",
        "  }, division, seq(from = start, length.out = length(division))))\n",
        "\n",
        "  data[, (campo) := sample(rep(bloque, ceiling(.N / length(bloque))))[1:.N],\n",
        "    by = agrupa\n",
        "  ]\n",
        "}\n"
      ],
      "metadata": {
        "id": "O56epLUGdsE1"
      },
      "execution_count": null,
      "outputs": []
    },
    {
      "cell_type": "code",
      "source": [
        "DosArbolesEstimarGanancia <- function(semilla, training_pct, param_rpart1, param_rpart2) {\n",
        "  # fuerzo impresion\n",
        "  print( paste( semilla, Sys.time()) )\n",
        "  flush.console()\n",
        "\n",
        "  # particiono estratificadamente el dataset\n",
        "  particionar(dataset,\n",
        "    division = c(training_pct, 100L -training_pct),\n",
        "    agrupa = \"clase_ternaria\",\n",
        "    seed = semilla # aqui se usa SU semilla\n",
        "  )\n",
        "\n",
        "  # genero el modelo\n",
        "  # predecir clase_ternaria a partir del resto\n",
        "  modelo1 <- rpart(\"clase_ternaria ~ .\",\n",
        "    data = dataset[fold == 1], # fold==1  es training,  el 70% de los datos\n",
        "    xval = 0,\n",
        "    control = param_rpart1\n",
        "  ) # aqui van los parametros del arbol\n",
        "\n",
        "  # aplico el modelo a los datos de testing\n",
        "  prediccion1 <- predict(modelo1, # el modelo que genere recien\n",
        "    dataset[fold == 2], # fold==2  es testing, el 30% de los datos\n",
        "    type = \"prob\"\n",
        "  ) # type= \"prob\"  es que devuelva la probabilidad\n",
        "\n",
        "\n",
        "  # calculo la ganancia en testing  qu es fold==2\n",
        "  ganancia_test1 <- dataset[\n",
        "    fold == 2,\n",
        "    sum(ifelse(prediccion1[, \"BAJA+2\"] > 0.025,\n",
        "      ifelse(clase_ternaria == \"BAJA+2\", 117000, -3000),\n",
        "      0\n",
        "    ))\n",
        "  ]\n",
        "\n",
        "  # escalo la ganancia como si fuera todo el dataset\n",
        "  ganancia_test_normalizada1 <- ganancia_test1 / (( 100 - training_pct ) / 100 )\n",
        "\n",
        "  modelo2 <- rpart(\"clase_ternaria ~ .\",\n",
        "    data = dataset[fold == 1], # fold==1  es training,  el 70% de los datos\n",
        "    xval = 0,\n",
        "    control = param_rpart2\n",
        "  ) # aqui van los parametros del arbol\n",
        "\n",
        "  # aplico el modelo a los datos de testing\n",
        "  prediccion2 <- predict(modelo2, # el modelo que genere recien\n",
        "    dataset[fold == 2], # fold==2  es testing, el 30% de los datos\n",
        "    type = \"prob\"\n",
        "  ) # type= \"prob\"  es que devuelva la probabilidad\n",
        "\n",
        "\n",
        "  # calculo la ganancia en testing  qu es fold==2\n",
        "  ganancia_test2 <- dataset[\n",
        "    fold == 2,\n",
        "    sum(ifelse(prediccion2[, \"BAJA+2\"] > 0.025,\n",
        "      ifelse(clase_ternaria == \"BAJA+2\", 117000, -3000),\n",
        "      0\n",
        "    ))\n",
        "  ]\n",
        "\n",
        "  # escalo la ganancia como si fuera todo el dataset\n",
        "  ganancia_test_normalizada2 <- ganancia_test2 / (( 100 - training_pct ) / 100 )\n",
        "\n",
        "  return(list(\n",
        "    \"semilla\" = semilla,\n",
        "    \"ganancia1\" = ganancia_test_normalizada1,\n",
        "    \"ganancia2\" = ganancia_test_normalizada2\n",
        "  ))\n",
        "}"
      ],
      "metadata": {
        "id": "Bv_NorLhdsE1"
      },
      "execution_count": null,
      "outputs": []
    },
    {
      "cell_type": "code",
      "source": [
        "# carpeta de trabajo\n",
        "setwd(\"/content/buckets/b1/exp\")\n",
        "experimento <- \"exp206\"\n",
        "dir.create(experimento, showWarnings=FALSE)\n",
        "setwd( paste0(\"/content/buckets/b1/exp/\", experimento ))"
      ],
      "metadata": {
        "id": "N9GarblIdsE3"
      },
      "execution_count": null,
      "outputs": []
    },
    {
      "cell_type": "code",
      "source": [
        "# lectura del dataset\n",
        "dataset <- fread(\"/content/datasets/dataset_pequeno.csv\")\n",
        "\n",
        "# trabajo solo con los datos con clase, es decir 202107\n",
        "dataset <- dataset[clase_ternaria != \"\"]"
      ],
      "metadata": {
        "id": "Z05r3wdTdsE3"
      },
      "execution_count": null,
      "outputs": []
    },
    {
      "cell_type": "code",
      "source": [
        "# genero numeros primos\n",
        "primos <- generate_primes(min = 100000, max = 1000000)\n",
        "set.seed(PARAM$semilla_primigenia) # inicializo\n",
        "\n",
        "# me quedo con PARAM$qsemillas   semillas\n",
        "PARAM$semillas <- sample(primos, PARAM$qsemillas )"
      ],
      "metadata": {
        "id": "m8ODrVrndsE4"
      },
      "execution_count": null,
      "outputs": []
    },
    {
      "cell_type": "code",
      "source": [
        "# la funcion mcmapply  llama a la funcion DosArbolesEstimarGanancia\n",
        "#  tantas veces como valores tenga el vector  PARAM$semillas\n",
        "Sys.time()\n",
        "\n",
        "salidas <- mcmapply( DosArbolesEstimarGanancia,\n",
        "  PARAM$semillas, # paso el vector de semillas\n",
        "  MoreArgs = list(PARAM$training_pct, PARAM$rpart1, PARAM$rpart2), # aqui paso el segundo parametro\n",
        "  SIMPLIFY = FALSE,\n",
        "  mc.cores = detectCores()\n",
        ")\n",
        "\n",
        "Sys.time()"
      ],
      "metadata": {
        "id": "KQBhUXxJdsE5"
      },
      "execution_count": null,
      "outputs": []
    },
    {
      "cell_type": "code",
      "source": [
        "# paso la lista a vector\n",
        "tb_salida <- rbindlist(salidas)\n",
        "tb_salida"
      ],
      "metadata": {
        "id": "N0eS1CFFdsE5"
      },
      "execution_count": null,
      "outputs": []
    },
    {
      "cell_type": "code",
      "source": [
        "grafico <- ggplot( tb_salida, aes(x=ganancia1), fill=\"green\", color=\"green\") + geom_density(alpha=0.25)  +\n",
        "             geom_density(data=tb_salida, aes(x=ganancia2), fill=\"purple\", color=\"purple\",  alpha=0.10)\n",
        "\n",
        "print(grafico)"
      ],
      "metadata": {
        "id": "6vf28ujAdsE6"
      },
      "execution_count": null,
      "outputs": []
    },
    {
      "cell_type": "code",
      "source": [
        "# imprimo en un .pdf  que va a la carpeta del experimento\n",
        "pdf(\"densidad_dos.pdf\")\n",
        "print(grafico)\n",
        "dev.off()"
      ],
      "metadata": {
        "id": "TA9lLa6-dsE6"
      },
      "execution_count": null,
      "outputs": []
    },
    {
      "cell_type": "code",
      "source": [
        "# medias de las ganancias\n",
        "print( tb_salida[ , list( \"arbol1\" = mean( ganancia1),  \"arbol2\" = mean(ganancia2) ) ] )\n"
      ],
      "metadata": {
        "id": "xAOpyZTqdsE7"
      },
      "execution_count": null,
      "outputs": []
    },
    {
      "cell_type": "code",
      "source": [
        "# probabilidad que m1 sea mayor a m2\n",
        "print( tb_salida[ , list( \"prob( m1 > m2)\" = sum(ganancia1 > ganancia2 )/ .N ) ]  )"
      ],
      "metadata": {
        "id": "8rdPIcfzgob7"
      },
      "execution_count": null,
      "outputs": []
    },
    {
      "cell_type": "markdown",
      "source": [
        "### Acciones a realizar\n",
        "* Reportar la  los resultados en la planilla colaborativa hoja  **C2-dosBuenos**\n"
      ],
      "metadata": {
        "id": "nNNJWYRadsE7"
      }
    },
    {
      "cell_type": "markdown",
      "source": [
        "\n",
        "\n",
        "---\n",
        "\n"
      ],
      "metadata": {
        "id": "LTBEq6SEdsE8"
      }
    },
    {
      "cell_type": "markdown",
      "source": [
        "# 8 Test de Wilcoxon\n",
        "## Clase 02  Experimento 8"
      ],
      "metadata": {
        "id": "RAtn4x6Bg1u1"
      }
    },
    {
      "cell_type": "markdown",
      "source": [
        "## 8.1  Objetivos\n",
        "\n",
        "¿Como calcular la cantidad mínima de semillas que hacen falta para tener cierta certeza que un modelo es superior a otro?"
      ],
      "metadata": {
        "id": "Gf0LF3ywhAEU"
      }
    },
    {
      "cell_type": "markdown",
      "source": [
        "## 8.2  Introduccion\n",
        "\n",
        "| Hiperparámetro | Arbol 1 | Arbol 2 |\n",
        "| --- | --: |  ---: |\n",
        "| cp | -1 | -1 |\n",
        "|minsplit | 170 | 250 |\n",
        "|minbucket | 70 | 125 |\n",
        "|maxdepth | 7 | 20 |\n",
        "\n",
        "<br>\n",
        "<br>\n",
        "\n",
        "\n",
        "| ordinal | semilla | ganancia1 | ganancia2 | p-value |\n",
        "| --- | --- |  --- |  --- |  --- |\n",
        "| 1 |378821 | 41,470,000 | 37,790,000 | 1.000 |\n",
        "| 2 | 964333  | 48,480,000  | 43,660,000 | 0.500 |\n",
        "| 3 | 187049 | 50,610,000 | 47,840,000 | 0.250 |\n",
        "| 4 | 205151 | 45,580,000 | 44,490,000 | 0.125 |\n",
        "| 5 | 813697 | 52,780,000 | 46,750,000 |  0.063 |\n",
        "| 6 | 344719 | 49,970,000 | 44,300,000 | 0.031 |\n",
        "|7 |127217  |52,810,000 | 42,840,000 |0.016 |\n",
        "| 8 | 464371 | 43,060,000 | 37,300,000 | 0.008 |\n",
        "| 9 | 645137 | 49,660,000 |43,730,000 | 0.004|\n",
        "\n",
        "\n"
      ],
      "metadata": {
        "id": "k4PJGTDViZne"
      }
    },
    {
      "cell_type": "markdown",
      "source": [
        "## 8.3 Codigo Test de Wilcoxon"
      ],
      "metadata": {
        "id": "gAeSRdWRhg61"
      }
    },
    {
      "cell_type": "code",
      "source": [
        "# 1 sola ganancia\n",
        "wilcox.test(\n",
        "  c(41470000),\n",
        "  c(37790000),\n",
        "  paired = TRUE\n",
        ")\n"
      ],
      "metadata": {
        "id": "6r5M0J0HdsE8",
        "outputId": "8eef6434-1471-4c29-bb81-500b0eff092a",
        "colab": {
          "base_uri": "https://localhost:8080/",
          "height": 124
        }
      },
      "execution_count": 46,
      "outputs": [
        {
          "output_type": "display_data",
          "data": {
            "text/plain": [
              "\n",
              "\tWilcoxon signed rank exact test\n",
              "\n",
              "data:  c(41470000) and c(37790000)\n",
              "V = 1, p-value = 1\n",
              "alternative hypothesis: true location shift is not equal to 0\n"
            ]
          },
          "metadata": {}
        }
      ]
    },
    {
      "cell_type": "code",
      "source": [
        "# 2 ganancias\n",
        "wilcox.test(\n",
        "  c(41470000, 48480000),\n",
        "  c(37790000, 43660000),\n",
        "  paired = TRUE\n",
        ")\n"
      ],
      "metadata": {
        "id": "1pscqL9vLzYE",
        "outputId": "49ba5a23-6d9f-4920-92aa-7f3416c74d4a",
        "colab": {
          "base_uri": "https://localhost:8080/",
          "height": 124
        }
      },
      "execution_count": 47,
      "outputs": [
        {
          "output_type": "display_data",
          "data": {
            "text/plain": [
              "\n",
              "\tWilcoxon signed rank exact test\n",
              "\n",
              "data:  c(41470000, 48480000) and c(37790000, 43660000)\n",
              "V = 3, p-value = 0.5\n",
              "alternative hypothesis: true location shift is not equal to 0\n"
            ]
          },
          "metadata": {}
        }
      ]
    },
    {
      "cell_type": "code",
      "source": [
        "# 3 ganancias\n",
        "wilcox.test(\n",
        "  c(41470000, 48480000, 50610000),\n",
        "  c(37790000, 43660000, 47840000),\n",
        "  paired = TRUE\n",
        ")"
      ],
      "metadata": {
        "id": "p3f_mtKwhSHA",
        "outputId": "e53b5dbe-0cb6-4c8c-ba69-c7b67a5732b7",
        "colab": {
          "base_uri": "https://localhost:8080/",
          "height": 124
        }
      },
      "execution_count": 48,
      "outputs": [
        {
          "output_type": "display_data",
          "data": {
            "text/plain": [
              "\n",
              "\tWilcoxon signed rank exact test\n",
              "\n",
              "data:  c(41470000, 48480000, 50610000) and c(37790000, 43660000, 47840000)\n",
              "V = 6, p-value = 0.25\n",
              "alternative hypothesis: true location shift is not equal to 0\n"
            ]
          },
          "metadata": {}
        }
      ]
    },
    {
      "cell_type": "code",
      "source": [
        "# 4 ganancias\n",
        "wilcox.test(\n",
        "  c(41470000, 48480000, 50610000, 45580000),\n",
        "  c(37790000, 43660000, 47840000, 44490000),\n",
        "  paired = TRUE\n",
        ")\n"
      ],
      "metadata": {
        "id": "-ijX69r9hT6Z",
        "outputId": "1f86c544-99f8-4538-bd21-bdeba1503dc5",
        "colab": {
          "base_uri": "https://localhost:8080/",
          "height": 124
        }
      },
      "execution_count": 49,
      "outputs": [
        {
          "output_type": "display_data",
          "data": {
            "text/plain": [
              "\n",
              "\tWilcoxon signed rank exact test\n",
              "\n",
              "data:  c(41470000, 48480000, 50610000, 45580000) and c(37790000, 43660000, 47840000, 44490000)\n",
              "V = 10, p-value = 0.125\n",
              "alternative hypothesis: true location shift is not equal to 0\n"
            ]
          },
          "metadata": {}
        }
      ]
    },
    {
      "cell_type": "code",
      "source": [
        "# 5 ganancias\n",
        "wilcox.test(\n",
        "  c(41470000, 48480000, 50610000, 45580000, 52780000),\n",
        "  c(37790000, 43660000, 47840000, 44490000, 46750000),\n",
        "  paired = TRUE\n",
        ")"
      ],
      "metadata": {
        "id": "X9J_CHGehVfr",
        "outputId": "47239f70-08e1-4aed-80e4-2fa0a3ea1e7a",
        "colab": {
          "base_uri": "https://localhost:8080/",
          "height": 142
        }
      },
      "execution_count": 50,
      "outputs": [
        {
          "output_type": "display_data",
          "data": {
            "text/plain": [
              "\n",
              "\tWilcoxon signed rank exact test\n",
              "\n",
              "data:  c(41470000, 48480000, 50610000, 45580000, 52780000) and c(37790000, 43660000, 47840000, 44490000, 46750000)\n",
              "V = 15, p-value = 0.0625\n",
              "alternative hypothesis: true location shift is not equal to 0\n"
            ]
          },
          "metadata": {}
        }
      ]
    },
    {
      "cell_type": "code",
      "source": [
        "# 6 ganancias\n",
        "wilcox.test(\n",
        "  c(41470000, 48480000, 50610000, 45580000, 52780000, 49970000),\n",
        "  c(37790000, 43660000, 47840000, 44490000, 46750000, 44300000),\n",
        "  paired = TRUE\n",
        ")"
      ],
      "metadata": {
        "id": "H3CNNonOhXp0",
        "outputId": "4fefd472-7d2c-4392-e751-2c025aef50a0",
        "colab": {
          "base_uri": "https://localhost:8080/",
          "height": 124
        }
      },
      "execution_count": 51,
      "outputs": [
        {
          "output_type": "display_data",
          "data": {
            "text/plain": [
              "\n",
              "\tWilcoxon signed rank exact test\n",
              "\n",
              "data:  c(41470000, 48480000, 50610000, 45580000, 52780000, 49970000) and c(37790000, 43660000, 47840000, 44490000, 46750000, 44300000)\n",
              "V = 21, p-value = 0.03125\n",
              "alternative hypothesis: true location shift is not equal to 0\n"
            ]
          },
          "metadata": {}
        }
      ]
    },
    {
      "cell_type": "code",
      "source": [
        "# Finalmente el p-value es  0.03125  < 0.05\n",
        "# hicieron falta  SEIS semillas, seis ganancias, para\n",
        "#   afirmar que el modelo 1 es superior al modelo 2\n",
        "\n",
        "# 7 ganancias\n",
        "wilcox.test(\n",
        "  c(41470000, 48480000, 50610000, 45580000, 52780000, 49970000, 52810000),\n",
        "  c(37790000, 43660000, 47840000, 44490000, 46750000, 44300000, 42840000),\n",
        "  paired = TRUE\n",
        ")\n"
      ],
      "metadata": {
        "id": "NTW8kwY8hamz",
        "outputId": "5390889b-4ff7-430d-c23b-c3e7444c5105",
        "colab": {
          "base_uri": "https://localhost:8080/",
          "height": 142
        }
      },
      "execution_count": 52,
      "outputs": [
        {
          "output_type": "display_data",
          "data": {
            "text/plain": [
              "\n",
              "\tWilcoxon signed rank exact test\n",
              "\n",
              "data:  c(41470000, 48480000, 50610000, 45580000, 52780000, 49970000, 52810000) and c(37790000, 43660000, 47840000, 44490000, 46750000, 44300000, 42840000)\n",
              "V = 28, p-value = 0.01563\n",
              "alternative hypothesis: true location shift is not equal to 0\n"
            ]
          },
          "metadata": {}
        }
      ]
    },
    {
      "cell_type": "code",
      "source": [
        "# 8 ganancias\n",
        "wilcox.test(\n",
        "  c(41470000, 48480000, 50610000, 45580000, 52780000, 49970000, 52810000, 43060000),\n",
        "  c(37790000, 43660000, 47840000, 44490000, 46750000, 44300000, 42840000, 37300000),\n",
        "  paired = TRUE\n",
        ")\n"
      ],
      "metadata": {
        "id": "Xks918w8hcgC",
        "outputId": "a5d0013c-a9f3-4cde-ade4-a2b421ac9643",
        "colab": {
          "base_uri": "https://localhost:8080/",
          "height": 142
        }
      },
      "execution_count": 53,
      "outputs": [
        {
          "output_type": "display_data",
          "data": {
            "text/plain": [
              "\n",
              "\tWilcoxon signed rank exact test\n",
              "\n",
              "data:  c(41470000, 48480000, 50610000, 45580000, 52780000, 49970000, 52810000, 43060000) and c(37790000, 43660000, 47840000, 44490000, 46750000, 44300000, 42840000, 37300000)\n",
              "V = 36, p-value = 0.007813\n",
              "alternative hypothesis: true location shift is not equal to 0\n"
            ]
          },
          "metadata": {}
        }
      ]
    },
    {
      "cell_type": "code",
      "source": [
        "# 9 ganancias\n",
        "wilcox.test(\n",
        "  c(41470000, 48480000, 50610000, 45580000, 52780000, 49970000, 52810000, 43060000, 49660000),\n",
        "  c(37790000, 43660000, 47840000, 44490000, 46750000, 44300000, 42840000, 37300000, 43730000),\n",
        "  paired = TRUE\n",
        ")"
      ],
      "metadata": {
        "id": "5x8L1PMGhdJR",
        "outputId": "2b589d42-8c60-44c4-f473-655dde9544b8",
        "colab": {
          "base_uri": "https://localhost:8080/",
          "height": 142
        }
      },
      "execution_count": 54,
      "outputs": [
        {
          "output_type": "display_data",
          "data": {
            "text/plain": [
              "\n",
              "\tWilcoxon signed rank exact test\n",
              "\n",
              "data:  c(41470000, 48480000, 50610000, 45580000, 52780000, 49970000, 52810000, 43060000, 49660000) and c(37790000, 43660000, 47840000, 44490000, 46750000, 44300000, 42840000, 37300000, 43730000)\n",
              "V = 45, p-value = 0.003906\n",
              "alternative hypothesis: true location shift is not equal to 0\n"
            ]
          },
          "metadata": {}
        }
      ]
    },
    {
      "cell_type": "markdown",
      "source": [
        "\n",
        "\n",
        "---\n",
        "\n"
      ],
      "metadata": {
        "id": "Qjay2WBIkhNm"
      }
    },
    {
      "cell_type": "markdown",
      "source": [
        "# 9 Comparando automaticamente modelos con test de Wilcoxon\n",
        "## Clase 02  Experimento 9"
      ],
      "metadata": {
        "id": "g2aqxlCIk3fk"
      }
    },
    {
      "cell_type": "markdown",
      "source": [
        "## 9.1  Objetivos\n",
        "\n",
        "Proveer un script que permita comparar dos arboles de decisión con la librería rpart utilizando la menor cantidad de cómputo que permita el Test de Wilxcoxon"
      ],
      "metadata": {
        "id": "a_ZVBKBHk3fx"
      }
    },
    {
      "cell_type": "markdown",
      "source": [
        "## 9.2  Introduccion\n",
        "\n",
        "| Hiperparámetro | Arbol 1 | Arbol 2 |\n",
        "| --- | --- |  --- |\n",
        "| cp | -1 | -1 |\n",
        "|minsplit | 1050 | 650 |\n",
        "|minbucket | 550 | 300 |\n",
        "|maxdepth |67 | 6 |\n",
        "\n",
        "\n"
      ],
      "metadata": {
        "id": "qCd56L0Ik3fx"
      }
    },
    {
      "cell_type": "markdown",
      "source": [
        "## 9.3 Codigo comparacion automatica Wilcoxon"
      ],
      "metadata": {
        "id": "NBtQsG3vk3fx"
      }
    },
    {
      "cell_type": "markdown",
      "source": [
        "Esta parte se debe correr con el runtime en lenguaje **R** Ir al menu, Runtime -> Change Runtime Tipe -> Runtime type -> R"
      ],
      "metadata": {
        "id": "-ARzDPORlpG6"
      }
    },
    {
      "cell_type": "markdown",
      "source": [
        "limpio el ambiente de R"
      ],
      "metadata": {
        "id": "-Sy-sLMXlpHI"
      }
    },
    {
      "cell_type": "code",
      "source": [
        "# limpio la memoria\n",
        "rm(list=ls(all.names=TRUE)) # remove all objects\n",
        "gc(full=TRUE, verbose=FALSE) # garbage collection"
      ],
      "metadata": {
        "id": "ZpST7lcHlpHI",
        "outputId": "98588fc2-553b-4229-8232-a88366f9bce6",
        "colab": {
          "base_uri": "https://localhost:8080/",
          "height": 129
        }
      },
      "execution_count": 55,
      "outputs": [
        {
          "output_type": "display_data",
          "data": {
            "text/html": [
              "<table class=\"dataframe\">\n",
              "<caption>A matrix: 2 × 6 of type dbl</caption>\n",
              "<thead>\n",
              "\t<tr><th></th><th scope=col>used</th><th scope=col>(Mb)</th><th scope=col>gc trigger</th><th scope=col>(Mb)</th><th scope=col>max used</th><th scope=col>(Mb)</th></tr>\n",
              "</thead>\n",
              "<tbody>\n",
              "\t<tr><th scope=row>Ncells</th><td>1271838</td><td>68.0</td><td> 2602630</td><td>139.0</td><td>  2602630</td><td>139.0</td></tr>\n",
              "\t<tr><th scope=row>Vcells</th><td>2372052</td><td>18.1</td><td>66471944</td><td>507.2</td><td>104125303</td><td>794.5</td></tr>\n",
              "</tbody>\n",
              "</table>\n"
            ],
            "text/markdown": "\nA matrix: 2 × 6 of type dbl\n\n| <!--/--> | used | (Mb) | gc trigger | (Mb) | max used | (Mb) |\n|---|---|---|---|---|---|---|\n| Ncells | 1271838 | 68.0 |  2602630 | 139.0 |   2602630 | 139.0 |\n| Vcells | 2372052 | 18.1 | 66471944 | 507.2 | 104125303 | 794.5 |\n\n",
            "text/latex": "A matrix: 2 × 6 of type dbl\n\\begin{tabular}{r|llllll}\n  & used & (Mb) & gc trigger & (Mb) & max used & (Mb)\\\\\n\\hline\n\tNcells & 1271838 & 68.0 &  2602630 & 139.0 &   2602630 & 139.0\\\\\n\tVcells & 2372052 & 18.1 & 66471944 & 507.2 & 104125303 & 794.5\\\\\n\\end{tabular}\n",
            "text/plain": [
              "       used    (Mb) gc trigger (Mb)  max used  (Mb) \n",
              "Ncells 1271838 68.0  2602630   139.0   2602630 139.0\n",
              "Vcells 2372052 18.1 66471944   507.2 104125303 794.5"
            ]
          },
          "metadata": {}
        }
      ]
    },
    {
      "cell_type": "markdown",
      "source": [
        "* Instalacion de la libreria  rpart.plot  para dibujar el arbol\n",
        "* invocacion de las librerias  **data.table** y  **rpart**"
      ],
      "metadata": {
        "id": "jHhAx3cvlpHJ"
      }
    },
    {
      "cell_type": "code",
      "source": [
        "# cargo las librerias que necesito\n",
        "require(\"data.table\")\n",
        "require(\"rpart\")\n",
        "require(\"parallel\")\n",
        "\n",
        "if (!require(\"primes\")) install.packages(\"primes\")\n",
        "require(\"primes\")\n",
        "\n",
        "require(\"ggplot2\")"
      ],
      "metadata": {
        "id": "cbPnXeeqlpHJ"
      },
      "execution_count": 56,
      "outputs": []
    },
    {
      "cell_type": "markdown",
      "source": [
        "###  Accion a Realizar\n",
        "PARAM$semilla_primigenia  debe reemplazarse por SU primer semilla"
      ],
      "metadata": {
        "id": "_GQk_NEUlpHK"
      }
    },
    {
      "cell_type": "code",
      "source": [
        "PARAM <- list()\n",
        "PARAM$semilla_primigenia <- 102191\n",
        "PARAM$qsemillas_tope <- 50\n",
        "PARAM$training_pct <- 70L     # entre 1 y 100\n"
      ],
      "metadata": {
        "id": "Do801PIHlpHK"
      },
      "execution_count": 57,
      "outputs": []
    },
    {
      "cell_type": "code",
      "source": [
        "# los dos arboles\n",
        "PARAM$rpart1 <- list (\n",
        "  \"cp\" = -1,\n",
        "  \"minsplit\" = 800,\n",
        "  \"minbucket\" = 400,\n",
        "  \"maxdepth\" = 7\n",
        ")\n",
        "\n",
        "\n",
        "PARAM$rpart2 <- list (\n",
        "  \"cp\" = -1,\n",
        "  \"minsplit\" = 650,\n",
        "  \"minbucket\" = 300,\n",
        "  \"maxdepth\" = 6\n",
        ")\n"
      ],
      "metadata": {
        "id": "KlC7gTc7lpHK"
      },
      "execution_count": 58,
      "outputs": []
    },
    {
      "cell_type": "code",
      "source": [
        "# particionar agrega una columna llamada fold a un dataset\n",
        "#  que consiste en una particion estratificada segun agrupa\n",
        "\n",
        "# particionar( data=dataset, division=c(70,30),\n",
        "#  agrupa=clase_ternaria, seed=semilla)   crea una particion 70, 30\n",
        "\n",
        "particionar <- function(\n",
        "    data, division, agrupa = \"\",\n",
        "    campo = \"fold\", start = 1, seed = NA) {\n",
        "  if (!is.na(seed)) set.seed(seed)\n",
        "\n",
        "  bloque <- unlist(mapply(function(x, y) {\n",
        "    rep(y, x)\n",
        "  }, division, seq(from = start, length.out = length(division))))\n",
        "\n",
        "  data[, (campo) := sample(rep(bloque, ceiling(.N / length(bloque))))[1:.N],\n",
        "    by = agrupa\n",
        "  ]\n",
        "}\n"
      ],
      "metadata": {
        "id": "I7hOkZrxlpHL"
      },
      "execution_count": 59,
      "outputs": []
    },
    {
      "cell_type": "code",
      "source": [
        "DosArbolesEstimarGanancia <- function(semilla, training_pct, param_rpart1, param_rpart2) {\n",
        "  # particiono estratificadamente el dataset\n",
        "  particionar(dataset,\n",
        "    division = c(training_pct, 100L -training_pct),\n",
        "    agrupa = \"clase_ternaria\",\n",
        "    seed = semilla # aqui se usa SU semilla\n",
        "  )\n",
        "\n",
        "  # genero el modelo\n",
        "  # predecir clase_ternaria a partir del resto\n",
        "  modelo1 <- rpart(\"clase_ternaria ~ .\",\n",
        "    data = dataset[fold == 1], # fold==1  es training,  el 70% de los datos\n",
        "    xval = 0,\n",
        "    control = param_rpart1\n",
        "  ) # aqui van los parametros del arbol\n",
        "\n",
        "  # aplico el modelo a los datos de testing\n",
        "  prediccion1 <- predict(modelo1, # el modelo que genere recien\n",
        "    dataset[fold == 2], # fold==2  es testing, el 30% de los datos\n",
        "    type = \"prob\"\n",
        "  ) # type= \"prob\"  es que devuelva la probabilidad\n",
        "\n",
        "\n",
        "  # calculo la ganancia en testing  qu es fold==2\n",
        "  ganancia_test1 <- dataset[\n",
        "    fold == 2,\n",
        "    sum(ifelse(prediccion1[, \"BAJA+2\"] > 0.025,\n",
        "      ifelse(clase_ternaria == \"BAJA+2\", 117000, -3000),\n",
        "      0\n",
        "    ))\n",
        "  ]\n",
        "\n",
        "  # escalo la ganancia como si fuera todo el dataset\n",
        "  ganancia_test_normalizada1 <- ganancia_test1 / (( 100 - training_pct ) / 100 )\n",
        "\n",
        "  modelo2 <- rpart(\"clase_ternaria ~ .\",\n",
        "    data = dataset[fold == 1], # fold==1  es training,  el 70% de los datos\n",
        "    xval = 0,\n",
        "    control = param_rpart2\n",
        "  ) # aqui van los parametros del arbol\n",
        "\n",
        "  # aplico el modelo a los datos de testing\n",
        "  prediccion2 <- predict(modelo2, # el modelo que genere recien\n",
        "    dataset[fold == 2], # fold==2  es testing, el 30% de los datos\n",
        "    type = \"prob\"\n",
        "  ) # type= \"prob\"  es que devuelva la probabilidad\n",
        "\n",
        "\n",
        "  # calculo la ganancia en testing  qu es fold==2\n",
        "  ganancia_test2 <- dataset[\n",
        "    fold == 2,\n",
        "    sum(ifelse(prediccion2[, \"BAJA+2\"] > 0.025,\n",
        "      ifelse(clase_ternaria == \"BAJA+2\", 117000, -3000),\n",
        "      0\n",
        "    ))\n",
        "  ]\n",
        "\n",
        "  # escalo la ganancia como si fuera todo el dataset\n",
        "  ganancia_test_normalizada2 <- ganancia_test2 / (( 100 - training_pct ) / 100 )\n",
        "\n",
        "  return(list(\n",
        "    \"semilla\" = semilla,\n",
        "    \"ganancia1\" = ganancia_test_normalizada1,\n",
        "    \"ganancia2\" = ganancia_test_normalizada2\n",
        "  ))\n",
        "}"
      ],
      "metadata": {
        "id": "vFpBSFBYlpHL"
      },
      "execution_count": 60,
      "outputs": []
    },
    {
      "cell_type": "code",
      "source": [
        "# 1  ->  el modelo 1 es mejor\n",
        "# 2  ->  el modelo 2 es mejor\n",
        "# 0  ->  No se pudo determinar con el tope de qsemillas_tope\n",
        "\n",
        "\n",
        "MejorArbol <- function( qsemillas_tope, training_pct, param_rpart1, param_rpart2) {\n",
        "\n",
        "  # genero numeros primos\n",
        "  primos <- generate_primes(min = 100000, max = 1000000)\n",
        "  set.seed(PARAM$semilla_primigenia) # inicializo\n",
        "  # me quedo con PARAM$qsemillas   semillas\n",
        "  semillas <- sample(primos, qsemillas_tope )\n",
        "\n",
        "  pvalue <- 1.0\n",
        "  isem <- 1\n",
        "  vgan1 <- c() # almaceno ganancias del modelo1\n",
        "  vgan2 <- c() # almaceno ganancias del modelo2\n",
        "\n",
        "  while( (isem <= qsemillas_tope)  & (pvalue > 0.05) ) {\n",
        "\n",
        "    res <- DosArbolesEstimarGanancia(\n",
        "       semillas[ isem ],\n",
        "       training_pct,\n",
        "       param_rpart1,\n",
        "       param_rpart2\n",
        "    )\n",
        "\n",
        "    vgan1 <- c( vgan1, res$ganancia1 )\n",
        "    vgan2 <- c( vgan2, res$ganancia2 )\n",
        "\n",
        "    wt <- wilcox.test( vgan1, vgan2, paired=TRUE )\n",
        "    pvalue <- wt$p.value\n",
        "\n",
        "    cat( isem, res$ganancia1, res$ganancia2, pvalue, \"\\n\" )\n",
        "    flush.console()\n",
        "    isem <- isem + 1\n",
        "  }\n",
        "\n",
        "  out <- 0\n",
        "\n",
        "  if( pvalue < 0.05 & mean(vgan1) > mean(vgan2)  )  out <- 1\n",
        "  if( pvalue < 0.05 & mean(vgan1) < mean(vgan2)  )  out <- 2\n",
        "\n",
        "\n",
        "  return( list( \"out\" = out,\n",
        "    \"qsemillas\" = length(vgan1),\n",
        "    \"m1\" = mean( vgan1 ),\n",
        "    \"m2\" = mean( vgan2 )\n",
        "   ) )\n",
        "}\n"
      ],
      "metadata": {
        "id": "Cp8RnA_NmE8g"
      },
      "execution_count": 61,
      "outputs": []
    },
    {
      "cell_type": "code",
      "source": [
        "# carpeta de trabajo\n",
        "setwd(\"/content/buckets/b1/exp\")\n",
        "experimento <- \"exp209\"\n",
        "dir.create(experimento, showWarnings=FALSE)\n",
        "setwd( paste0(\"/content/buckets/b1/exp/\", experimento ))"
      ],
      "metadata": {
        "id": "r1motpfOlpHM"
      },
      "execution_count": 62,
      "outputs": []
    },
    {
      "cell_type": "code",
      "source": [
        "# lectura del dataset\n",
        "dataset <- fread(\"/content/datasets/dataset_pequeno.csv\")\n",
        "\n",
        "# trabajo solo con los datos con clase, es decir 202107\n",
        "dataset <- dataset[clase_ternaria != \"\"]"
      ],
      "metadata": {
        "id": "hT0LaKWumTSu"
      },
      "execution_count": 63,
      "outputs": []
    },
    {
      "cell_type": "code",
      "source": [
        "Sys.time()\n",
        "\n",
        "comparacion <- MejorArbol(\n",
        "   PARAM$qsemillas_tope,\n",
        "   PARAM$training_pct,\n",
        "   PARAM$rpart1,\n",
        "   PARAM$rpart2\n",
        " )\n",
        "\n",
        "\n",
        "print( comparacion )\n",
        "\n",
        "Sys.time()"
      ],
      "metadata": {
        "id": "wsk0F77ambVW",
        "outputId": "d5f61ab3-2a54-4e08-d716-ad166d0e4862",
        "colab": {
          "base_uri": "https://localhost:8080/",
          "height": 641
        }
      },
      "execution_count": 64,
      "outputs": [
        {
          "output_type": "display_data",
          "data": {
            "text/plain": [
              "[1] \"2025-10-26 13:56:06 UTC\""
            ]
          },
          "metadata": {}
        },
        {
          "output_type": "stream",
          "name": "stdout",
          "text": [
            "1 44720000 48190000 1 \n",
            "2 50150000 50890000 0.5 \n",
            "3 55180000 55600000 0.25 \n",
            "4 49220000 48440000 0.625 \n",
            "5 51810000 52470000 0.4375 \n",
            "6 56900000 54570000 0.84375 \n",
            "7 51260000 51110000 0.8125 \n",
            "8 40060000 47560000 0.4609375 \n",
            "9 49260000 49190000 0.4960938 \n",
            "10 56190000 54920000 0.7695312 \n",
            "11 50150000 49780000 0.8310547 \n",
            "12 48200000 51550000 0.5185547 \n",
            "13 53570000 55830000 0.3395996 \n",
            "14 50990000 50490000 0.4262695 \n",
            "15 47110000 48920000 0.2768555 \n",
            "16 47640000 51060000 0.1590576 \n",
            "17 47310000 47180000 0.190094 \n",
            "18 50260000 56290000 0.1083832 \n",
            "19 52870000 53140000 0.09551239 \n",
            "20 44850000 47830000 0.05316925 \n",
            "21 49060000 50230000 0.03505611 \n",
            "$out\n",
            "[1] 2\n",
            "\n",
            "$qsemillas\n",
            "[1] 21\n",
            "\n",
            "$m1\n",
            "[1] 49845714\n",
            "\n",
            "$m2\n",
            "[1] 51201905\n",
            "\n"
          ]
        },
        {
          "output_type": "display_data",
          "data": {
            "text/plain": [
              "[1] \"2025-10-26 14:34:34 UTC\""
            ]
          },
          "metadata": {}
        }
      ]
    },
    {
      "cell_type": "markdown",
      "source": [
        "### Acciones a realizar\n",
        "* Reportar la  los resultados en la planilla colaborativa hoja  **C2-Wilcox**\n"
      ],
      "metadata": {
        "id": "d2br1bgJlpHQ"
      }
    },
    {
      "cell_type": "markdown",
      "source": [
        "\n",
        "\n",
        "---\n",
        "\n"
      ],
      "metadata": {
        "id": "x7SebtV2lpHQ"
      }
    }
  ]
}