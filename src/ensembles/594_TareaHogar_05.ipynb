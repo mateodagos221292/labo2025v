{
  "nbformat": 4,
  "nbformat_minor": 0,
  "metadata": {
    "colab": {
      "provenance": [],
      "include_colab_link": true
    },
    "kernelspec": {
      "name": "python3",
      "display_name": "Python 3"
    },
    "language_info": {
      "name": "python"
    }
  },
  "cells": [
    {
      "cell_type": "markdown",
      "metadata": {
        "id": "view-in-github",
        "colab_type": "text"
      },
      "source": [
        "<a href=\"https://colab.research.google.com/github/mateodagos221292/labo2025v/blob/main/src/ensembles/594_TareaHogar_05.ipynb\" target=\"_parent\"><img src=\"https://colab.research.google.com/assets/colab-badge.svg\" alt=\"Open In Colab\"/></a>"
      ]
    },
    {
      "cell_type": "markdown",
      "source": [
        "# Tarea para el Hogar 05"
      ],
      "metadata": {
        "id": "0cEmzeUKFkPh"
      }
    },
    {
      "cell_type": "markdown",
      "source": [
        "Esta Tarea para el Hogar 05 se entrega el final de la cuarta clase\n",
        "<br> se espera de usted que intente avanzar con los desafios propuestos y que los traiga terminados para la Clase 05 que será el miercoles 03 de septiembre"
      ],
      "metadata": {
        "id": "nSICPpyTGQmC"
      }
    },
    {
      "cell_type": "markdown",
      "source": [
        "##  1. Overfitting the Public Leaderboard"
      ],
      "metadata": {
        "id": "DenyKXkiJ5JN"
      }
    },
    {
      "cell_type": "markdown",
      "source": [
        "Leer  https://medium.com/hmif-itb/overfitting-the-leaderboard-da25172ac62e\n",
        "( 8 minutos )"
      ],
      "metadata": {
        "id": "l-K2_ZsZGrVD"
      }
    },
    {
      "cell_type": "markdown",
      "source": [
        "## 2. Hiperparámetros del LightGBM"
      ],
      "metadata": {
        "id": "K9GkTOk5J9t3"
      }
    },
    {
      "cell_type": "markdown",
      "source": [
        "Los objetivos de esta tarea son:\n",
        "\n",
        "\n",
        "*   Aumentar la rentabilidad de la campaña de marketing de retención proactiva de clientes.\n",
        "*   Generar un mejor modelo optimizando sus hiperparámetros\n",
        "*   Conceptual : investigar los mas relevantes hiperparámetros de LightGBM\n",
        "*   Familiarizarse con la Bayesian Optimization, sus largos tiempos de corrida y opciones para reducirlos\n",
        "*   Familiarizarse con el uso de máquinas virtuales de Google Colab\n",
        "*   Ver un pipeline completo de optimización de hiperparámetros y puesta en producción"
      ],
      "metadata": {
        "id": "VmEFy0ukKL5T"
      }
    },
    {
      "cell_type": "markdown",
      "source": [
        "LightGBM cuenta con mas de 60 hiperparámetros, siendo posible utilizar 40 al mismo tiempo, aunque no razonable.\n",
        "<br> La documentación oficial de los hiperparámetros de LightGBM es  https://lightgbm.readthedocs.io/en/latest/Parameters.html#core-parameters\n"
      ],
      "metadata": {
        "id": "5yvlS6JQLRMd"
      }
    },
    {
      "cell_type": "markdown",
      "source": [
        "Se lo alerta sobre que una Optimizacion Bayesiana lleva varias horas de corrida, y usted deberá correr VARIAS optimizaciones para descubrir cuales parámetros conviene optimizar.\n",
        "<br> A pesar que la próxima clase es recien en viernes 01 de agosto, inicie la tarea con tiempo, aprenda a planificar estratégicamente sus corridas como un@ científ@  de datos."
      ],
      "metadata": {
        "id": "eydI4YNAsFaf"
      }
    },
    {
      "cell_type": "markdown",
      "source": [
        "Es necesario investigar cuales son los hiperparámetros de LightGBM que vale la pena optimizar en una Bayesian Optimization, ya que los realmente utiles son apenas un reducido subconjunto.\n",
        "<br>Usted deberá investigar cuales son los hiperparámetros mas relevantes de LightGBM, su primer alternativa es preguntándole a su amigo con capacidades especiales ChatGPT o sus endogámicos familiares Claude, DeepSeek, Gemini, Grok, etc\n",
        "<br> La segunda alternativa es la propia documentación de LightGBM  https://lightgbm.readthedocs.io/en/latest/Parameters-Tuning.html\n"
      ],
      "metadata": {
        "id": "RzU4S0SeMcpp"
      }
    },
    {
      "cell_type": "markdown",
      "source": [
        "Adicionalmente podra buscar información como la que proveen esta diminuta muestra aleatoria de artículos ligeros:\n",
        "* https://machinelearningmastery.com/light-gradient-boosted-machine-lightgbm-ensemble/\n",
        "*  https://medium.com/@sarahzouinina/a-deep-dive-into-lightgbm-how-to-choose-and-tune-parameters-7c584945842e\n",
        "*  https://www.kaggle.com/code/somang1418/tuning-hyperparameters-under-10-minutes-lgbm\n",
        "*  https://towardsdatascience.com/beginners-guide-to-the-must-know-lightgbm-hyperparameters-a0005a812702/\n",
        "\n",
        "\n",
        "<br>  La muestra anterior se brinda a modo de ejemplo, usted deberá buscar muuuuchas  fuentes adicionales de información\n",
        "<br> Tenga presente que LightGBM es el estado del arte en modelado predictivo para datasets estructurado, que son el 90% del trabajo del 95% de los Data Scientists en Argentina."
      ],
      "metadata": {
        "id": "LNptUgI_NWWG"
      }
    },
    {
      "cell_type": "markdown",
      "source": [
        "El desafío de esta tarea es:\n",
        "* Qué hiperparparámetros conviene optimizar?  Las recomendaciones de los artículos ligeros es siempre sensata?  Sus autores realmente hicieron experimentos o son siemplemente escritores de entretenimiento carente de base científica?\n",
        "* Elegidos los hiperparámetros, cual es el  <desde, hasta> que se debe utilizar en la Bayesian Optimization ?\n",
        "* Realmente vale la pena optimizar 10 o 16 hiperparámetros al mismo tiempo ?  No resulta contraproducente una búsqueda en un espacio de tal alta dimensionalidad ?"
      ],
      "metadata": {
        "id": "WpUThBojODyK"
      }
    },
    {
      "cell_type": "markdown",
      "source": [
        "#### 2.1  Seteo del ambiente en Google Colab"
      ],
      "metadata": {
        "id": "PX0qg_c0yqob"
      }
    },
    {
      "cell_type": "markdown",
      "metadata": {
        "id": "NGY7H9xza7Zr"
      },
      "source": [
        "Esta parte se debe correr con el runtime en Python3\n",
        "<br>Ir al menu, Runtime -> Change Runtime Type -> Runtime type ->  **Python 3**"
      ]
    },
    {
      "cell_type": "markdown",
      "metadata": {
        "id": "7PupIBNba7Zr"
      },
      "source": [
        "Conectar la virtual machine donde esta corriendo Google Colab con el  Google Drive, para poder tener persistencia de archivos"
      ]
    },
    {
      "cell_type": "code",
      "execution_count": null,
      "metadata": {
        "id": "9LpZCst5a7Zs",
        "outputId": "ea151326-5bcb-481d-a4ec-81188915bffb",
        "colab": {
          "base_uri": "https://localhost:8080/"
        }
      },
      "outputs": [
        {
          "output_type": "stream",
          "name": "stdout",
          "text": [
            "Mounted at /content/.drive\n"
          ]
        }
      ],
      "source": [
        "# primero establecer el Runtime de Python 3\n",
        "from google.colab import drive\n",
        "drive.mount('/content/.drive')"
      ]
    },
    {
      "cell_type": "markdown",
      "metadata": {
        "id": "JYC_F-wla7Zs"
      },
      "source": [
        "Para correr la siguiente celda es fundamental en Arranque en Frio haber copiado el archivo kaggle.json al Google Drive, en la carpeta indicada en el instructivo\n",
        "\n",
        "<br>los siguientes comando estan en shell script de Linux\n",
        "*   Crear las carpetas en el Google Drive\n",
        "*   \"instalar\" el archivo kaggle.json desde el Google Drive a la virtual machine para que pueda ser utilizado por la libreria  kaggle de Python\n",
        "*   Bajar el  **dataset_pequeno**  al  Google Drive  y tambien al disco local de la virtual machine que esta corriendo Google Colab\n",
        "\n"
      ]
    },
    {
      "cell_type": "code",
      "execution_count": null,
      "metadata": {
        "id": "XWLelftXa7Zt",
        "outputId": "8b8b6b05-2074-4c7f-fc1c-ba30200cd5fe",
        "colab": {
          "base_uri": "https://localhost:8080/"
        }
      },
      "outputs": [
        {
          "output_type": "execute_result",
          "data": {
            "text/plain": []
          },
          "metadata": {},
          "execution_count": 2
        }
      ],
      "source": [
        "%%shell\n",
        "\n",
        "mkdir -p \"/content/.drive/My Drive/labo1\"\n",
        "mkdir -p \"/content/buckets\"\n",
        "ln -s \"/content/.drive/My Drive/labo1\" /content/buckets/b1\n",
        "\n",
        "mkdir -p ~/.kaggle\n",
        "cp /content/buckets/b1/kaggle/kaggle.json  ~/.kaggle\n",
        "chmod 600 ~/.kaggle/kaggle.json\n",
        "\n",
        "\n",
        "mkdir -p /content/buckets/b1/exp\n",
        "mkdir -p /content/buckets/b1/datasets\n",
        "mkdir -p /content/datasets\n",
        "\n",
        "\n",
        "\n",
        "archivo_origen=\"https://storage.googleapis.com/open-courses/austral2025-af91/dataset_pequeno.csv\"\n",
        "archivo_destino=\"/content/datasets/dataset_pequeno.csv\"\n",
        "archivo_destino_bucket=\"/content/buckets/b1/datasets/dataset_pequeno.csv\"\n",
        "\n",
        "if ! test -f $archivo_destino_bucket; then\n",
        "  wget  $archivo_origen  -O $archivo_destino_bucket\n",
        "fi\n",
        "\n",
        "\n",
        "if ! test -f $archivo_destino; then\n",
        "  cp  $archivo_destino_bucket  $archivo_destino\n",
        "fi\n"
      ]
    },
    {
      "cell_type": "markdown",
      "source": [
        "### 2.2 Optimizacion Hiperparámetros"
      ],
      "metadata": {
        "id": "oSKhZRToy2F7"
      }
    },
    {
      "cell_type": "markdown",
      "source": [
        "Esta parte se debe correr con el runtime en lenguaje R Ir al menu, Runtime -> Change Runtime Type -> Runtime type -> R"
      ],
      "metadata": {
        "id": "2kwPpHAtSmix"
      }
    },
    {
      "cell_type": "markdown",
      "source": [
        "### 2.2.1 Inicio"
      ],
      "metadata": {
        "id": "xp4-Bj3aYI8d"
      }
    },
    {
      "cell_type": "markdown",
      "source": [
        "limpio el ambiente de R"
      ],
      "metadata": {
        "id": "zy8YTZfESxeJ"
      }
    },
    {
      "cell_type": "code",
      "source": [
        "format(Sys.time(), \"%a %b %d %X %Y\")"
      ],
      "metadata": {
        "id": "gBq__iAdQliq",
        "outputId": "634a2ca4-ff78-46ae-91c9-d386518267d9",
        "colab": {
          "base_uri": "https://localhost:8080/",
          "height": 34
        }
      },
      "execution_count": null,
      "outputs": [
        {
          "output_type": "display_data",
          "data": {
            "text/html": [
              "'Sat Nov 01 05:59:04 PM 2025'"
            ],
            "text/markdown": "'Sat Nov 01 05:59:04 PM 2025'",
            "text/latex": "'Sat Nov 01 05:59:04 PM 2025'",
            "text/plain": [
              "[1] \"Sat Nov 01 05:59:04 PM 2025\""
            ]
          },
          "metadata": {}
        }
      ]
    },
    {
      "cell_type": "code",
      "source": [
        "# limpio la memoria\n",
        "rm(list=ls(all.names=TRUE)) # remove all objects\n",
        "gc(full=TRUE, verbose=FALSE) # garbage collection"
      ],
      "metadata": {
        "id": "7rdVrBojS1IV",
        "outputId": "21fbb413-2012-4819-9fd5-b849acb746cc",
        "colab": {
          "base_uri": "https://localhost:8080/",
          "height": 129
        }
      },
      "execution_count": null,
      "outputs": [
        {
          "output_type": "display_data",
          "data": {
            "text/html": [
              "<table class=\"dataframe\">\n",
              "<caption>A matrix: 2 × 6 of type dbl</caption>\n",
              "<thead>\n",
              "\t<tr><th></th><th scope=col>used</th><th scope=col>(Mb)</th><th scope=col>gc trigger</th><th scope=col>(Mb)</th><th scope=col>max used</th><th scope=col>(Mb)</th></tr>\n",
              "</thead>\n",
              "<tbody>\n",
              "\t<tr><th scope=row>Ncells</th><td> 660387</td><td>35.3</td><td>1454457</td><td>77.7</td><td>1454457</td><td>77.7</td></tr>\n",
              "\t<tr><th scope=row>Vcells</th><td>1226637</td><td> 9.4</td><td>8388608</td><td>64.0</td><td>1975128</td><td>15.1</td></tr>\n",
              "</tbody>\n",
              "</table>\n"
            ],
            "text/markdown": "\nA matrix: 2 × 6 of type dbl\n\n| <!--/--> | used | (Mb) | gc trigger | (Mb) | max used | (Mb) |\n|---|---|---|---|---|---|---|\n| Ncells |  660387 | 35.3 | 1454457 | 77.7 | 1454457 | 77.7 |\n| Vcells | 1226637 |  9.4 | 8388608 | 64.0 | 1975128 | 15.1 |\n\n",
            "text/latex": "A matrix: 2 × 6 of type dbl\n\\begin{tabular}{r|llllll}\n  & used & (Mb) & gc trigger & (Mb) & max used & (Mb)\\\\\n\\hline\n\tNcells &  660387 & 35.3 & 1454457 & 77.7 & 1454457 & 77.7\\\\\n\tVcells & 1226637 &  9.4 & 8388608 & 64.0 & 1975128 & 15.1\\\\\n\\end{tabular}\n",
            "text/plain": [
              "       used    (Mb) gc trigger (Mb) max used (Mb)\n",
              "Ncells  660387 35.3 1454457    77.7 1454457  77.7\n",
              "Vcells 1226637  9.4 8388608    64.0 1975128  15.1"
            ]
          },
          "metadata": {}
        }
      ]
    },
    {
      "cell_type": "markdown",
      "source": [
        "### 2.2.2 Carga de Librerias"
      ],
      "metadata": {
        "id": "kuPfQ7ksjwW3"
      }
    },
    {
      "cell_type": "code",
      "source": [
        "# cargo las librerias que necesito\n",
        "require(\"data.table\")\n",
        "require(\"parallel\")\n",
        "\n",
        "if( !require(\"primes\") ) install.packages(\"primes\")\n",
        "require(\"primes\")\n",
        "\n",
        "if( !require(\"utils\") ) install.packages(\"utils\")\n",
        "require(\"utils\")\n",
        "\n",
        "if( !require(\"rlist\") ) install.packages(\"rlist\")\n",
        "require(\"rlist\")\n",
        "\n",
        "if( !require(\"yaml\")) install.packages(\"yaml\")\n",
        "require(\"yaml\")\n",
        "\n",
        "if( !require(\"lightgbm\") ) install.packages(\"lightgbm\")\n",
        "require(\"lightgbm\")\n",
        "\n",
        "if( !require(\"DiceKriging\") ) install.packages(\"DiceKriging\")\n",
        "require(\"DiceKriging\")\n",
        "\n",
        "if( !require(\"mlrMBO\") ) install.packages(\"mlrMBO\")\n",
        "require(\"mlrMBO\")"
      ],
      "metadata": {
        "id": "lVyxLaJ1j1J_",
        "outputId": "48b27db8-0839-4b54-871d-b3a95defcbd8",
        "colab": {
          "base_uri": "https://localhost:8080/"
        }
      },
      "execution_count": null,
      "outputs": [
        {
          "output_type": "stream",
          "name": "stderr",
          "text": [
            "Loading required package: data.table\n",
            "\n",
            "Loading required package: parallel\n",
            "\n",
            "Loading required package: primes\n",
            "\n",
            "Warning message in library(package, lib.loc = lib.loc, character.only = TRUE, logical.return = TRUE, :\n",
            "“there is no package called ‘primes’”\n",
            "Installing package into ‘/usr/local/lib/R/site-library’\n",
            "(as ‘lib’ is unspecified)\n",
            "\n",
            "Loading required package: primes\n",
            "\n",
            "Loading required package: rlist\n",
            "\n",
            "Warning message in library(package, lib.loc = lib.loc, character.only = TRUE, logical.return = TRUE, :\n",
            "“there is no package called ‘rlist’”\n",
            "Installing package into ‘/usr/local/lib/R/site-library’\n",
            "(as ‘lib’ is unspecified)\n",
            "\n",
            "also installing the dependency ‘XML’\n",
            "\n",
            "\n",
            "Loading required package: rlist\n",
            "\n",
            "Loading required package: yaml\n",
            "\n",
            "Loading required package: lightgbm\n",
            "\n",
            "Warning message in library(package, lib.loc = lib.loc, character.only = TRUE, logical.return = TRUE, :\n",
            "“there is no package called ‘lightgbm’”\n",
            "Installing package into ‘/usr/local/lib/R/site-library’\n",
            "(as ‘lib’ is unspecified)\n",
            "\n",
            "Loading required package: lightgbm\n",
            "\n",
            "Loading required package: DiceKriging\n",
            "\n",
            "Warning message in library(package, lib.loc = lib.loc, character.only = TRUE, logical.return = TRUE, :\n",
            "“there is no package called ‘DiceKriging’”\n",
            "Installing package into ‘/usr/local/lib/R/site-library’\n",
            "(as ‘lib’ is unspecified)\n",
            "\n",
            "Loading required package: DiceKriging\n",
            "\n",
            "Loading required package: mlrMBO\n",
            "\n",
            "Warning message in library(package, lib.loc = lib.loc, character.only = TRUE, logical.return = TRUE, :\n",
            "“there is no package called ‘mlrMBO’”\n",
            "Installing package into ‘/usr/local/lib/R/site-library’\n",
            "(as ‘lib’ is unspecified)\n",
            "\n",
            "also installing the dependencies ‘fastmatch’, ‘RcppArmadillo’, ‘mlr’, ‘ParamHelpers’, ‘smoof’, ‘BBmisc’, ‘checkmate’, ‘lhs’, ‘parallelMap’\n",
            "\n",
            "\n",
            "Loading required package: mlrMBO\n",
            "\n",
            "Loading required package: mlr\n",
            "\n",
            "Loading required package: ParamHelpers\n",
            "\n",
            "Loading required package: smoof\n",
            "\n",
            "Loading required package: checkmate\n",
            "\n",
            "\n",
            "Attaching package: ‘checkmate’\n",
            "\n",
            "\n",
            "The following object is masked from ‘package:DiceKriging’:\n",
            "\n",
            "    checkNames\n",
            "\n",
            "\n"
          ]
        }
      ]
    },
    {
      "cell_type": "markdown",
      "source": [
        "### 2.2.3 Definicion de Parametros"
      ],
      "metadata": {
        "id": "Iz-6Qt6BUaA3"
      }
    },
    {
      "cell_type": "markdown",
      "source": [
        "aqui debe cargar SU semilla primigenia\n",
        "<br>recuerde cambiar el numero de experimento en cada corrida nueva"
      ],
      "metadata": {
        "id": "cOdlKd7lUm2I"
      }
    },
    {
      "cell_type": "code",
      "source": [
        "PARAM <- list()\n",
        "PARAM$experimento <- 5940\n",
        "PARAM$semilla_primigenia <- 914443\n"
      ],
      "metadata": {
        "id": "ASYkebOu2mF6"
      },
      "execution_count": null,
      "outputs": []
    },
    {
      "cell_type": "code",
      "source": [
        "PARAM$kaggle$competencia <- \"labo-i-2025-virtual-analista-sr\"\n",
        "PARAM$kaggle$cortes <- seq(10000, 12000, by= 500)"
      ],
      "metadata": {
        "id": "ezOhQdbA293o"
      },
      "execution_count": null,
      "outputs": []
    },
    {
      "cell_type": "code",
      "source": [
        "# un undersampling de 0.1  toma solo el 10% de los CONTINUA\n",
        "# undersampling de 1.0  implica tomar TODOS los datos\n",
        "\n",
        "PARAM$trainingstrategy$undersampling <- 0.5"
      ],
      "metadata": {
        "id": "jtB0Lub42rHO"
      },
      "execution_count": null,
      "outputs": []
    },
    {
      "cell_type": "code",
      "source": [
        "# Parametros LightGBM\n",
        "\n",
        "PARAM$hyperparametertuning$xval_folds <- 5\n",
        "\n",
        "# parametros fijos del LightGBM que se pisaran con la parte variable de la BO\n",
        "PARAM$lgbm$param_fijos <-  list(\n",
        "  boosting= \"gbdt\", # puede ir  dart  , ni pruebe random_forest\n",
        "  objective= \"binary\",\n",
        "  metric= \"auc\",\n",
        "  first_metric_only= FALSE,\n",
        "  boost_from_average= TRUE,\n",
        "  feature_pre_filter= FALSE,\n",
        "  force_row_wise= TRUE, # para reducir warnings\n",
        "  verbosity= -100,\n",
        "\n",
        "  seed= PARAM$semilla_primigenia,\n",
        "\n",
        "  max_depth= -1L, # -1 significa no limitar,  por ahora lo dejo fijo\n",
        "  min_gain_to_split= 0, # min_gain_to_split >= 0\n",
        "  min_sum_hessian_in_leaf= 0.001, #  min_sum_hessian_in_leaf >= 0.0\n",
        "  lambda_l1= 0.0, # lambda_l1 >= 0.0\n",
        "  lambda_l2= 0.0, # lambda_l2 >= 0.0\n",
        "  max_bin= 31L, # lo debo dejar fijo, no participa de la BO\n",
        "\n",
        "  bagging_fraction= 1.0, # 0.0 < bagging_fraction <= 1.0\n",
        "  pos_bagging_fraction= 1.0, # 0.0 < pos_bagging_fraction <= 1.0\n",
        "  neg_bagging_fraction= 1.0, # 0.0 < neg_bagging_fraction <= 1.0\n",
        "  is_unbalance= FALSE, #\n",
        "  scale_pos_weight= 1.0, # scale_pos_weight > 0.0\n",
        "\n",
        "  drop_rate= 0.1, # 0.0 < neg_bagging_fraction <= 1.0\n",
        "  max_drop= 50, # <=0 means no limit\n",
        "  skip_drop= 0.5, # 0.0 <= skip_drop <= 1.0\n",
        "\n",
        "  extra_trees= FALSE,\n",
        "\n",
        "  num_iterations= 1200,\n",
        "  learning_rate= 0.02,\n",
        "  feature_fraction= 0.5,\n",
        "  num_leaves= 750,\n",
        "  min_data_in_leaf= 5000\n",
        ")\n"
      ],
      "metadata": {
        "id": "OFxm-xiNUOJX"
      },
      "execution_count": null,
      "outputs": []
    },
    {
      "cell_type": "markdown",
      "source": [
        "Aqui se definen los hiperparámetros de LightGBM que participan de la Bayesian Optimization\n",
        "<br> si es un numero entero debe ir  makeIntegerParam\n",
        "<br> si es un numero real (con decimales) debe ir  makeNumericParam\n",
        "<br> es muy importante leer cuales son un lower y upper  permitidos y ademas razonables"
      ],
      "metadata": {
        "id": "D5Yj-JV4yvOt"
      }
    },
    {
      "cell_type": "code",
      "source": [
        "# Aqui se cargan los bordes de los hiperparametros de la BO\n",
        "PARAM$hypeparametertuning$hs <- makeParamSet(\n",
        "  makeIntegerParam(\"num_iterations\", lower= 8L, upper= 2048L),\n",
        "  makeNumericParam(\"learning_rate\", lower= 0.01, upper= 0.3),\n",
        "  makeNumericParam(\"feature_fraction\", lower= 0.1, upper= 1.0),\n",
        "  makeIntegerParam(\"num_leaves\", lower= 8L, upper= 2048L),\n",
        "  makeIntegerParam(\"min_data_in_leaf\", lower= 1L, upper= 8000L)\n",
        ")"
      ],
      "metadata": {
        "id": "jENpR26ZyuS8"
      },
      "execution_count": null,
      "outputs": []
    },
    {
      "cell_type": "markdown",
      "source": [
        "A mayor cantidad de hiperparámetros, se debe aumentar las iteraciones de la Bayesian Optimization\n",
        "<br> 30 es un valor muy tacaño, pero corre rápido\n",
        "<br> deberia partir de 50, alcanzando los 100 si se dispone de tiempo"
      ],
      "metadata": {
        "id": "-_RPFUb3zMoW"
      }
    },
    {
      "cell_type": "code",
      "source": [
        "PARAM$hyperparametertuning$iteraciones <- 30 # iteraciones bayesianas"
      ],
      "metadata": {
        "id": "q5Rd3pnbzSiG"
      },
      "execution_count": null,
      "outputs": []
    },
    {
      "cell_type": "markdown",
      "source": [
        "### 2.2.4  Preprocesamiento"
      ],
      "metadata": {
        "id": "4RWZXL1VZjMI"
      }
    },
    {
      "cell_type": "code",
      "source": [
        "# carpeta de trabajo\n",
        "\n",
        "setwd(\"/content/buckets/b1/exp\")\n",
        "experimento_folder <- paste0(\"HT\", PARAM$experimento)\n",
        "dir.create(experimento_folder, showWarnings=FALSE)\n",
        "setwd( paste0(\"/content/buckets/b1/exp/\", experimento_folder ))"
      ],
      "metadata": {
        "id": "j3toG9-lZm4K"
      },
      "execution_count": null,
      "outputs": []
    },
    {
      "cell_type": "code",
      "source": [
        "# lectura del dataset\n",
        "\n",
        "dataset <- fread(\"/content/datasets/dataset_pequeno.csv\")"
      ],
      "metadata": {
        "id": "FM3lxKoLZ643"
      },
      "execution_count": null,
      "outputs": []
    },
    {
      "cell_type": "code",
      "source": [
        "dataset_train <- dataset[foto_mes %in% c(202107)]"
      ],
      "metadata": {
        "id": "OsJ-91UeZ-I_"
      },
      "execution_count": null,
      "outputs": []
    },
    {
      "cell_type": "code",
      "source": [
        "# paso la clase a binaria que tome valores {0,1}  enteros\n",
        "#  BAJA+1 y BAJA+2  son  1,   CONTINUA es 0\n",
        "\n",
        "dataset_train[,\n",
        "  clase01 := ifelse(clase_ternaria %in% c(\"BAJA+2\",\"BAJA+1\"), 1L, 0L)\n",
        "]"
      ],
      "metadata": {
        "id": "vrWE7BE0aB2J"
      },
      "execution_count": null,
      "outputs": []
    },
    {
      "cell_type": "code",
      "source": [
        "# defino los datos que forma parte del training\n",
        "# aqui se hace el undersampling de los CONTINUA\n",
        "# notar que para esto utilizo la SEGUNDA semilla\n",
        "\n",
        "set.seed(PARAM$semilla_primigenia, kind = \"L'Ecuyer-CMRG\")\n",
        "dataset_train[, azar := runif(nrow(dataset_train))]\n",
        "dataset_train[, training := 0L]\n",
        "\n",
        "dataset_train[\n",
        "  foto_mes %in% c(202107) &\n",
        "    (azar <= PARAM$trainingstrategy$undersampling | clase_ternaria %in% c(\"BAJA+1\", \"BAJA+2\")),\n",
        "  training := 1L\n",
        "]"
      ],
      "metadata": {
        "id": "jP7YlQBnaW6W"
      },
      "execution_count": null,
      "outputs": []
    },
    {
      "cell_type": "code",
      "source": [
        "# los campos que se van a utilizar\n",
        "\n",
        "campos_buenos <- setdiff(\n",
        "  colnames(dataset_train),\n",
        "  c(\"clase_ternaria\", \"clase01\", \"azar\", \"training\")\n",
        ")"
      ],
      "metadata": {
        "id": "xElu4s5W4rX7"
      },
      "execution_count": null,
      "outputs": []
    },
    {
      "cell_type": "code",
      "source": [
        "# dejo los datos en el formato que necesita LightGBM\n",
        "\n",
        "dtrain <- lgb.Dataset(\n",
        "  data= data.matrix(dataset_train[training == 1L, campos_buenos, with= FALSE]),\n",
        "  label= dataset_train[training == 1L, clase01],\n",
        "  free_raw_data= FALSE\n",
        ")\n",
        "\n",
        "nrow(dtrain)\n",
        "ncol(dtrain)"
      ],
      "metadata": {
        "id": "PppMHcGYaaol",
        "outputId": "4ab66752-0000-4cb6-db1a-6b2b47d92c5c",
        "colab": {
          "base_uri": "https://localhost:8080/",
          "height": 52
        }
      },
      "execution_count": null,
      "outputs": [
        {
          "output_type": "display_data",
          "data": {
            "text/html": [
              "83715"
            ],
            "text/markdown": "83715",
            "text/latex": "83715",
            "text/plain": [
              "[1] 83715"
            ]
          },
          "metadata": {}
        },
        {
          "output_type": "display_data",
          "data": {
            "text/html": [
              "154"
            ],
            "text/markdown": "154",
            "text/latex": "154",
            "text/plain": [
              "[1] 154"
            ]
          },
          "metadata": {}
        }
      ]
    },
    {
      "cell_type": "markdown",
      "source": [
        "2.2.5 Configuracion Bayesian Optimization"
      ],
      "metadata": {
        "id": "Ta-EkOu3cphF"
      }
    },
    {
      "cell_type": "code",
      "source": [
        "# En el argumento x llegan los parmaetros de la bayesiana\n",
        "#  devuelve la AUC en cross validation del modelo entrenado\n",
        "\n",
        "EstimarGanancia_AUC_lightgbm <- function(x) {\n",
        "\n",
        "  # x pisa (o agrega) a param_fijos\n",
        "  param_completo <- modifyList(PARAM$lgbm$param_fijos, x)\n",
        "\n",
        "  # entreno LightGBM\n",
        "  modelocv <- lgb.cv(\n",
        "    data= dtrain,\n",
        "    nfold= PARAM$hyperparametertuning$xval_folds,\n",
        "    stratified= TRUE,\n",
        "    param= param_completo\n",
        "  )\n",
        "\n",
        "  # obtengo la ganancia\n",
        "  AUC <- modelocv$best_score\n",
        "\n",
        "  # hago espacio en la memoria\n",
        "  rm(modelocv)\n",
        "  gc(full= TRUE, verbose= FALSE)\n",
        "\n",
        "  message(format(Sys.time(), \"%a %b %d %X %Y\"), \" AUC \", AUC)\n",
        "\n",
        "  return(AUC)\n",
        "}"
      ],
      "metadata": {
        "id": "cjgfurjdfiXb"
      },
      "execution_count": null,
      "outputs": []
    },
    {
      "cell_type": "code",
      "source": [
        "# Aqui comienza la configuracion de la Bayesian Optimization\n",
        "\n",
        "# en este archivo quedan la evolucion binaria de la BO\n",
        "kbayesiana <- \"bayesiana.RDATA\"\n",
        "\n",
        "funcion_optimizar <- EstimarGanancia_AUC_lightgbm # la funcion que voy a maximizar\n",
        "\n",
        "configureMlr(show.learner.output= FALSE)\n",
        "\n",
        "# configuro la busqueda bayesiana,  los hiperparametros que se van a optimizar\n",
        "# por favor, no desesperarse por lo complejo\n",
        "\n",
        "obj.fun <- makeSingleObjectiveFunction(\n",
        "  fn= funcion_optimizar, # la funcion que voy a maximizar\n",
        "  minimize= FALSE, # estoy Maximizando la ganancia\n",
        "  noisy= TRUE,\n",
        "  par.set= PARAM$hypeparametertuning$hs, # definido al comienzo del programa\n",
        "  has.simple.signature= FALSE # paso los parametros en una lista\n",
        ")\n",
        "\n",
        "# cada 600 segundos guardo el resultado intermedio\n",
        "ctrl <- makeMBOControl(\n",
        "  save.on.disk.at.time= 600, # se graba cada 600 segundos\n",
        "  save.file.path= kbayesiana\n",
        ") # se graba cada 600 segundos\n",
        "\n",
        "# indico la cantidad de iteraciones que va a tener la Bayesian Optimization\n",
        "ctrl <- setMBOControlTermination(\n",
        "  ctrl,\n",
        "  iters= PARAM$hyperparametertuning$iteraciones\n",
        ") # cantidad de iteraciones\n",
        "\n",
        "# defino el método estandar para la creacion de los puntos iniciales,\n",
        "# los \"No Inteligentes\"\n",
        "ctrl <- setMBOControlInfill(ctrl, crit= makeMBOInfillCritEI())\n",
        "\n",
        "# establezco la funcion que busca el maximo\n",
        "surr.km <- makeLearner(\n",
        "  \"regr.km\",\n",
        "  predict.type= \"se\",\n",
        "  covtype= \"matern3_2\",\n",
        "  control= list(trace= TRUE)\n",
        ")\n"
      ],
      "metadata": {
        "id": "WLi_o1hocvN-"
      },
      "execution_count": null,
      "outputs": []
    },
    {
      "cell_type": "markdown",
      "source": [
        "2.2.6 Corrida Bayesian Optimization"
      ],
      "metadata": {
        "id": "_uUeVo5pc4zc"
      }
    },
    {
      "cell_type": "code",
      "source": [
        "# inicio la optimizacion bayesiana, retomando si ya existe\n",
        "# es la celda mas lenta de todo el notebook\n",
        "\n",
        "if (!file.exists(kbayesiana)) {\n",
        "  bayesiana_salida <- mbo(obj.fun, learner= surr.km, control= ctrl)\n",
        "} else {\n",
        "  bayesiana_salida <- mboContinue(kbayesiana) # retomo en caso que ya exista\n",
        "}"
      ],
      "metadata": {
        "id": "RcABNaKGciaz",
        "outputId": "9a4ec039-8829-4711-f9a8-363ae93da249",
        "colab": {
          "base_uri": "https://localhost:8080/"
        }
      },
      "execution_count": null,
      "outputs": [
        {
          "output_type": "stream",
          "name": "stderr",
          "text": [
            "Computing y column(s) for design. Not provided.\n",
            "\n",
            "Sat Nov 01 06:18:11 PM 2025 AUC 0.928167600059084\n",
            "\n",
            "Sat Nov 01 06:19:25 PM 2025 AUC 0.924205554317873\n",
            "\n",
            "Sat Nov 01 06:24:57 PM 2025 AUC 0.925588711721947\n",
            "\n",
            "Sat Nov 01 06:29:40 PM 2025 AUC 0.925984683967116\n",
            "\n",
            "Sat Nov 01 06:34:06 PM 2025 AUC 0.925469766929273\n",
            "\n",
            "Sat Nov 01 06:35:28 PM 2025 AUC 0.923538248954488\n",
            "\n",
            "Sat Nov 01 06:38:02 PM 2025 AUC 0.924035435023384\n",
            "\n",
            "Sat Nov 01 06:38:55 PM 2025 AUC 0.924884781851865\n",
            "\n",
            "Sat Nov 01 06:41:46 PM 2025 AUC 0.926365120824581\n",
            "\n",
            "Sat Nov 01 06:46:00 PM 2025 AUC 0.926418502257699\n",
            "\n",
            "Sat Nov 01 06:52:48 PM 2025 AUC 0.924477927234426\n",
            "\n",
            "Sat Nov 01 06:53:30 PM 2025 AUC 0.925950907167904\n",
            "\n",
            "Sat Nov 01 07:00:27 PM 2025 AUC 0.923390475378379\n",
            "\n",
            "Sat Nov 01 07:02:55 PM 2025 AUC 0.923262376288943\n",
            "\n",
            "Sat Nov 01 07:03:04 PM 2025 AUC 0.905993015575448\n",
            "\n",
            "Sat Nov 01 07:05:55 PM 2025 AUC 0.92126574823064\n",
            "\n",
            "Sat Nov 01 07:08:23 PM 2025 AUC 0.919699951538641\n",
            "\n",
            "Sat Nov 01 07:13:36 PM 2025 AUC 0.928030560957831\n",
            "\n",
            "Sat Nov 01 07:17:41 PM 2025 AUC 0.924810032701328\n",
            "\n",
            "Sat Nov 01 07:17:58 PM 2025 AUC 0.925621595370827\n",
            "\n",
            "[mbo] 0: num_iterations=889; learning_rate=0.0904; feature_fraction=0.52; num_leaves=620; min_data_in_leaf=1251 : y = 0.928 : 237.1 secs : initdesign\n",
            "\n",
            "[mbo] 0: num_iterations=607; learning_rate=0.183; feature_fraction=0.786; num_leaves=1177; min_data_in_leaf=4941 : y = 0.924 : 73.8 secs : initdesign\n",
            "\n",
            "[mbo] 0: num_iterations=1767; learning_rate=0.144; feature_fraction=0.296; num_leaves=630; min_data_in_leaf=2668 : y = 0.926 : 332.1 secs : initdesign\n",
            "\n",
            "[mbo] 0: num_iterations=1618; learning_rate=0.208; feature_fraction=0.596; num_leaves=1368; min_data_in_leaf=3873 : y = 0.926 : 283.6 secs : initdesign\n",
            "\n",
            "[mbo] 0: num_iterations=2007; learning_rate=0.0752; feature_fraction=0.984; num_leaves=847; min_data_in_leaf=4018 : y = 0.925 : 265.5 secs : initdesign\n",
            "\n",
            "[mbo] 0: num_iterations=638; learning_rate=0.27; feature_fraction=0.642; num_leaves=1105; min_data_in_leaf=5425 : y = 0.924 : 82.1 secs : initdesign\n",
            "\n",
            "[mbo] 0: num_iterations=1076; learning_rate=0.164; feature_fraction=0.128; num_leaves=800; min_data_in_leaf=2140 : y = 0.924 : 154.3 secs : initdesign\n",
            "\n",
            "[mbo] 0: num_iterations=273; learning_rate=0.0979; feature_fraction=0.376; num_leaves=1814; min_data_in_leaf=7515 : y = 0.925 : 52.5 secs : initdesign\n",
            "\n",
            "[mbo] 0: num_iterations=795; learning_rate=0.12; feature_fraction=0.565; num_leaves=978; min_data_in_leaf=3532 : y = 0.926 : 171.4 secs : initdesign\n",
            "\n",
            "[mbo] 0: num_iterations=1161; learning_rate=0.185; feature_fraction=0.848; num_leaves=1667; min_data_in_leaf=925 : y = 0.926 : 254.0 secs : initdesign\n",
            "\n",
            "[mbo] 0: num_iterations=1866; learning_rate=0.14; feature_fraction=0.426; num_leaves=1302; min_data_in_leaf=2905 : y = 0.924 : 408.0 secs : initdesign\n",
            "\n",
            "[mbo] 0: num_iterations=367; learning_rate=0.0562; feature_fraction=0.879; num_leaves=384; min_data_in_leaf=6446 : y = 0.926 : 42.0 secs : initdesign\n",
            "\n",
            "[mbo] 0: num_iterations=1708; learning_rate=0.255; feature_fraction=0.485; num_leaves=139; min_data_in_leaf=1817 : y = 0.923 : 417.1 secs : initdesign\n",
            "\n",
            "[mbo] 0: num_iterations=937; learning_rate=0.28; feature_fraction=0.226; num_leaves=1982; min_data_in_leaf=5776 : y = 0.923 : 148.1 secs : initdesign\n",
            "\n",
            "[mbo] 0: num_iterations=52; learning_rate=0.0194; feature_fraction=0.951; num_leaves=1860; min_data_in_leaf=6334 : y = 0.906 : 8.5 secs : initdesign\n",
            "\n",
            "[mbo] 0: num_iterations=1297; learning_rate=0.236; feature_fraction=0.155; num_leaves=219; min_data_in_leaf=7061 : y = 0.921 : 171.3 secs : initdesign\n",
            "\n",
            "[mbo] 0: num_iterations=499; learning_rate=0.224; feature_fraction=0.36; num_leaves=1583; min_data_in_leaf=77 : y = 0.92 : 147.7 secs : initdesign\n",
            "\n",
            "[mbo] 0: num_iterations=1392; learning_rate=0.0417; feature_fraction=0.725; num_leaves=459; min_data_in_leaf=706 : y = 0.928 : 313.0 secs : initdesign\n",
            "\n",
            "[mbo] 0: num_iterations=1503; learning_rate=0.0382; feature_fraction=0.259; num_leaves=1535; min_data_in_leaf=7654 : y = 0.925 : 244.9 secs : initdesign\n",
            "\n",
            "[mbo] 0: num_iterations=138; learning_rate=0.291; feature_fraction=0.755; num_leaves=99; min_data_in_leaf=4609 : y = 0.926 : 17.8 secs : initdesign\n",
            "\n",
            "Saved the current state after iteration 1 in the file bayesiana.RDATA.\n",
            "\n",
            "Sat Nov 01 07:20:32 PM 2025 AUC 0.92599241940667\n",
            "\n",
            "[mbo] 1: num_iterations=986; learning_rate=0.129; feature_fraction=0.808; num_leaves=546; min_data_in_leaf=2376 : y = 0.926 : 152.8 secs : infill_ei\n",
            "\n",
            "Sat Nov 01 07:24:44 PM 2025 AUC 0.92628761810225\n",
            "\n",
            "[mbo] 2: num_iterations=1284; learning_rate=0.0656; feature_fraction=0.423; num_leaves=321; min_data_in_leaf=6263 : y = 0.926 : 251.4 secs : infill_ei\n",
            "\n",
            "Sat Nov 01 07:25:53 PM 2025 AUC 0.92736966791873\n",
            "\n",
            "[mbo] 3: num_iterations=386; learning_rate=0.0571; feature_fraction=0.578; num_leaves=9; min_data_in_leaf=4111 : y = 0.927 : 69.0 secs : infill_ei\n",
            "\n",
            "Sat Nov 01 07:32:40 PM 2025 AUC 0.927209627687226\n",
            "\n",
            "[mbo] 4: num_iterations=2003; learning_rate=0.0776; feature_fraction=0.644; num_leaves=458; min_data_in_leaf=1072 : y = 0.927 : 405.9 secs : infill_ei\n",
            "\n",
            "Saved the current state after iteration 5 in the file bayesiana.RDATA.\n",
            "\n",
            "Sat Nov 01 07:35:05 PM 2025 AUC 0.925603876780237\n",
            "\n",
            "[mbo] 5: num_iterations=376; learning_rate=0.0503; feature_fraction=0.284; num_leaves=603; min_data_in_leaf=26 : y = 0.926 : 145.1 secs : infill_ei\n",
            "\n",
            "Sat Nov 01 07:36:36 PM 2025 AUC 0.92997262030609\n",
            "\n",
            "[mbo] 6: num_iterations=881; learning_rate=0.0617; feature_fraction=0.863; num_leaves=13; min_data_in_leaf=508 : y = 0.93 : 89.9 secs : infill_ei\n",
            "\n",
            "Sat Nov 01 07:39:20 PM 2025 AUC 0.928741948692248\n",
            "\n",
            "[mbo] 7: num_iterations=1711; learning_rate=0.0549; feature_fraction=0.945; num_leaves=11; min_data_in_leaf=478 : y = 0.929 : 163.4 secs : infill_ei\n",
            "\n",
            "Sat Nov 01 07:43:46 PM 2025 AUC 0.925074185431204\n",
            "\n",
            "[mbo] 8: num_iterations=2048; learning_rate=0.242; feature_fraction=0.981; num_leaves=2048; min_data_in_leaf=4461 : y = 0.925 : 265.6 secs : infill_ei\n",
            "\n",
            "Saved the current state after iteration 9 in the file bayesiana.RDATA.\n",
            "\n",
            "Sat Nov 01 07:44:36 PM 2025 AUC 0.925912589572297\n",
            "\n",
            "[mbo] 9: num_iterations=561; learning_rate=0.085; feature_fraction=0.882; num_leaves=10; min_data_in_leaf=9 : y = 0.926 : 49.4 secs : infill_ei\n",
            "\n",
            "Sat Nov 01 07:48:21 PM 2025 AUC 0.927112708118693\n",
            "\n",
            "[mbo] 10: num_iterations=1143; learning_rate=0.0607; feature_fraction=0.714; num_leaves=513; min_data_in_leaf=1120 : y = 0.927 : 224.8 secs : infill_ei\n",
            "\n",
            "Sat Nov 01 07:50:51 PM 2025 AUC 0.927315293840365\n",
            "\n",
            "[mbo] 11: num_iterations=832; learning_rate=0.0536; feature_fraction=0.354; num_leaves=8; min_data_in_leaf=2646 : y = 0.927 : 149.1 secs : infill_ei\n",
            "\n",
            "Sat Nov 01 08:02:56 PM 2025 AUC 0.925861259462882\n",
            "\n",
            "[mbo] 12: num_iterations=882; learning_rate=0.0116; feature_fraction=0.995; num_leaves=1010; min_data_in_leaf=33 : y = 0.926 : 724.4 secs : infill_ei\n",
            "\n",
            "Saved the current state after iteration 13 in the file bayesiana.RDATA.\n",
            "\n",
            "Sat Nov 01 08:06:34 PM 2025 AUC 0.925164187465887\n",
            "\n",
            "[mbo] 13: num_iterations=962; learning_rate=0.0524; feature_fraction=0.983; num_leaves=116; min_data_in_leaf=61 : y = 0.925 : 217.5 secs : infill_ei\n",
            "\n",
            "Sat Nov 01 08:08:03 PM 2025 AUC 0.927500384850399\n",
            "\n",
            "[mbo] 14: num_iterations=835; learning_rate=0.0763; feature_fraction=0.757; num_leaves=10; min_data_in_leaf=1904 : y = 0.928 : 88.4 secs : infill_ei\n",
            "\n",
            "Sat Nov 01 08:10:05 PM 2025 AUC 0.928883292160629\n",
            "\n",
            "[mbo] 15: num_iterations=663; learning_rate=0.0977; feature_fraction=0.403; num_leaves=8; min_data_in_leaf=717 : y = 0.929 : 122.2 secs : infill_ei\n",
            "\n",
            "Sat Nov 01 08:13:49 PM 2025 AUC 0.930205116395829\n",
            "\n",
            "[mbo] 16: num_iterations=1131; learning_rate=0.0109; feature_fraction=0.542; num_leaves=8; min_data_in_leaf=681 : y = 0.93 : 223.0 secs : infill_ei\n",
            "\n",
            "Saved the current state after iteration 17 in the file bayesiana.RDATA.\n",
            "\n",
            "Sat Nov 01 08:16:14 PM 2025 AUC 0.929424352100649\n",
            "\n",
            "[mbo] 17: num_iterations=1545; learning_rate=0.0211; feature_fraction=0.85; num_leaves=8; min_data_in_leaf=887 : y = 0.929 : 144.7 secs : infill_ei\n",
            "\n",
            "Sat Nov 01 08:16:23 PM 2025 AUC 0.916393987059901\n",
            "\n",
            "[mbo] 18: num_iterations=29; learning_rate=0.0686; feature_fraction=0.277; num_leaves=8; min_data_in_leaf=603 : y = 0.916 : 7.7 secs : infill_ei\n",
            "\n",
            "Sat Nov 01 08:22:56 PM 2025 AUC 0.929450413395833\n",
            "\n",
            "[mbo] 19: num_iterations=1369; learning_rate=0.01; feature_fraction=0.476; num_leaves=130; min_data_in_leaf=26 : y = 0.929 : 393.1 secs : infill_ei\n",
            "\n",
            "Sat Nov 01 08:26:03 PM 2025 AUC 0.929524210699575\n",
            "\n",
            "[mbo] 20: num_iterations=879; learning_rate=0.0105; feature_fraction=0.515; num_leaves=11; min_data_in_leaf=294 : y = 0.93 : 186.2 secs : infill_ei\n",
            "\n",
            "Saved the current state after iteration 21 in the file bayesiana.RDATA.\n",
            "\n",
            "Sat Nov 01 08:40:35 PM 2025 AUC 0.927659001922864\n",
            "\n",
            "[mbo] 21: num_iterations=1176; learning_rate=0.0101; feature_fraction=0.471; num_leaves=1293; min_data_in_leaf=33 : y = 0.928 : 871.4 secs : infill_ei\n",
            "\n",
            "Saved the current state after iteration 22 in the file bayesiana.RDATA.\n",
            "\n",
            "Sat Nov 01 08:46:51 PM 2025 AUC 0.930390286869889\n",
            "\n",
            "[mbo] 22: num_iterations=1627; learning_rate=0.0104; feature_fraction=0.504; num_leaves=33; min_data_in_leaf=75 : y = 0.93 : 375.2 secs : infill_ei\n",
            "\n",
            "Sat Nov 01 09:03:42 PM 2025 AUC 0.926505643877671\n",
            "\n",
            "[mbo] 23: num_iterations=1627; learning_rate=0.0103; feature_fraction=0.979; num_leaves=1568; min_data_in_leaf=102 : y = 0.927 : 1010.4 secs : infill_ei\n",
            "\n",
            "Saved the current state after iteration 24 in the file bayesiana.RDATA.\n",
            "\n",
            "Sat Nov 01 09:06:25 PM 2025 AUC 0.928875077944774\n",
            "\n",
            "[mbo] 24: num_iterations=1235; learning_rate=0.0102; feature_fraction=0.148; num_leaves=8; min_data_in_leaf=905 : y = 0.929 : 162.1 secs : infill_ei\n",
            "\n",
            "Sat Nov 01 09:07:53 PM 2025 AUC 0.925664519731515\n",
            "\n",
            "[mbo] 25: num_iterations=443; learning_rate=0.0924; feature_fraction=0.416; num_leaves=23; min_data_in_leaf=7267 : y = 0.926 : 87.4 secs : infill_ei\n",
            "\n",
            "Sat Nov 01 09:09:44 PM 2025 AUC 0.92613234383374\n",
            "\n",
            "[mbo] 26: num_iterations=896; learning_rate=0.0621; feature_fraction=0.807; num_leaves=113; min_data_in_leaf=4817 : y = 0.926 : 110.5 secs : infill_ei\n",
            "\n",
            "Sat Nov 01 09:14:34 PM 2025 AUC 0.930758007593308\n",
            "\n",
            "[mbo] 27: num_iterations=1541; learning_rate=0.035; feature_fraction=0.421; num_leaves=10; min_data_in_leaf=534 : y = 0.931 : 290.2 secs : infill_ei\n",
            "\n",
            "Saved the current state after iteration 28 in the file bayesiana.RDATA.\n",
            "\n",
            "Sat Nov 01 09:18:49 PM 2025 AUC 0.929626570028857\n",
            "\n",
            "[mbo] 28: num_iterations=1594; learning_rate=0.0102; feature_fraction=0.29; num_leaves=9; min_data_in_leaf=16 : y = 0.93 : 253.9 secs : infill_ei\n",
            "\n",
            "Sat Nov 01 09:22:22 PM 2025 AUC 0.929053682401182\n",
            "\n",
            "[mbo] 29: num_iterations=1561; learning_rate=0.0483; feature_fraction=0.598; num_leaves=8; min_data_in_leaf=342 : y = 0.929 : 212.1 secs : infill_ei\n",
            "\n",
            "Sat Nov 01 09:28:48 PM 2025 AUC 0.92882147601016\n",
            "\n",
            "[mbo] 30: num_iterations=1836; learning_rate=0.0345; feature_fraction=0.526; num_leaves=27; min_data_in_leaf=16 : y = 0.929 : 386.3 secs : infill_ei\n",
            "\n",
            "Saved the final state in the file bayesiana.RDATA\n",
            "\n",
            "Saved the final state in the file bayesiana.RDATA\n",
            "\n"
          ]
        }
      ]
    },
    {
      "cell_type": "code",
      "source": [
        "\n",
        "tb_bayesiana <- as.data.table(bayesiana_salida$opt.path)\n",
        "colnames( tb_bayesiana)"
      ],
      "metadata": {
        "id": "ssk5nnMk6INK",
        "outputId": "737a2f01-a933-4fff-fd60-3e144b2095eb",
        "colab": {
          "base_uri": "https://localhost:8080/",
          "height": 34
        }
      },
      "execution_count": null,
      "outputs": [
        {
          "output_type": "display_data",
          "data": {
            "text/html": [
              "<style>\n",
              ".list-inline {list-style: none; margin:0; padding: 0}\n",
              ".list-inline>li {display: inline-block}\n",
              ".list-inline>li:not(:last-child)::after {content: \"\\00b7\"; padding: 0 .5ex}\n",
              "</style>\n",
              "<ol class=list-inline><li>'num_iterations'</li><li>'learning_rate'</li><li>'feature_fraction'</li><li>'num_leaves'</li><li>'min_data_in_leaf'</li><li>'y'</li><li>'dob'</li><li>'eol'</li><li>'error.message'</li><li>'exec.time'</li><li>'ei'</li><li>'error.model'</li><li>'train.time'</li><li>'prop.type'</li><li>'propose.time'</li><li>'se'</li><li>'mean'</li></ol>\n"
            ],
            "text/markdown": "1. 'num_iterations'\n2. 'learning_rate'\n3. 'feature_fraction'\n4. 'num_leaves'\n5. 'min_data_in_leaf'\n6. 'y'\n7. 'dob'\n8. 'eol'\n9. 'error.message'\n10. 'exec.time'\n11. 'ei'\n12. 'error.model'\n13. 'train.time'\n14. 'prop.type'\n15. 'propose.time'\n16. 'se'\n17. 'mean'\n\n\n",
            "text/latex": "\\begin{enumerate*}\n\\item 'num\\_iterations'\n\\item 'learning\\_rate'\n\\item 'feature\\_fraction'\n\\item 'num\\_leaves'\n\\item 'min\\_data\\_in\\_leaf'\n\\item 'y'\n\\item 'dob'\n\\item 'eol'\n\\item 'error.message'\n\\item 'exec.time'\n\\item 'ei'\n\\item 'error.model'\n\\item 'train.time'\n\\item 'prop.type'\n\\item 'propose.time'\n\\item 'se'\n\\item 'mean'\n\\end{enumerate*}\n",
            "text/plain": [
              " [1] \"num_iterations\"   \"learning_rate\"    \"feature_fraction\" \"num_leaves\"      \n",
              " [5] \"min_data_in_leaf\" \"y\"                \"dob\"              \"eol\"             \n",
              " [9] \"error.message\"    \"exec.time\"        \"ei\"               \"error.model\"     \n",
              "[13] \"train.time\"       \"prop.type\"        \"propose.time\"     \"se\"              \n",
              "[17] \"mean\"            "
            ]
          },
          "metadata": {}
        }
      ]
    },
    {
      "cell_type": "code",
      "source": [
        "# almaceno los resultados de la Bayesian Optimization\n",
        "# y capturo los mejores hiperparametros encontrados\n",
        "\n",
        "tb_bayesiana <- as.data.table(bayesiana_salida$opt.path)\n",
        "\n",
        "tb_bayesiana[, iter := .I]\n",
        "\n",
        "# ordeno en forma descendente por AUC = y\n",
        "setorder(tb_bayesiana, -y)\n",
        "\n",
        "# grabo para eventualmente poder utilizarlos en OTRA corrida\n",
        "fwrite( tb_bayesiana,\n",
        "  file= \"BO_log.txt\",\n",
        "  sep= \"\\t\"\n",
        ")\n",
        "\n",
        "# los mejores hiperparámetros son los que quedaron en el registro 1 de la tabla\n",
        "PARAM$out$lgbm$mejores_hiperparametros <- tb_bayesiana[\n",
        "  1, # el primero es el de mejor AUC\n",
        "  setdiff(colnames(tb_bayesiana),\n",
        "    c(\"y\",\"dob\",\"eol\",\"error.message\",\"exec.time\",\"ei\",\"error.model\",\n",
        "      \"train.time\",\"prop.type\",\"propose.time\",\"se\",\"mean\",\"iter\")),\n",
        "  with= FALSE\n",
        "]\n",
        "\n",
        "\n",
        "PARAM$out$lgbm$y <- tb_bayesiana[1, y]\n"
      ],
      "metadata": {
        "id": "u4zq-vknhjGc"
      },
      "execution_count": null,
      "outputs": []
    },
    {
      "cell_type": "code",
      "source": [
        "write_yaml( PARAM, file=\"PARAM.yml\")"
      ],
      "metadata": {
        "id": "E8v2eA427N8e"
      },
      "execution_count": null,
      "outputs": []
    },
    {
      "cell_type": "code",
      "source": [
        "print(PARAM$out$lgbm$mejores_hiperparametros)\n",
        "print(PARAM$out$lgbm$y)"
      ],
      "metadata": {
        "id": "iBTWexVU7PGC",
        "outputId": "a7dda238-83fe-4d8e-aaa5-8a903da1a8e6",
        "colab": {
          "base_uri": "https://localhost:8080/"
        }
      },
      "execution_count": null,
      "outputs": [
        {
          "output_type": "stream",
          "name": "stdout",
          "text": [
            "   num_iterations learning_rate feature_fraction num_leaves min_data_in_leaf\n",
            "            <int>         <num>            <num>      <int>            <int>\n",
            "1:           1541    0.03496474        0.4205978         10              534\n",
            "[1] 0.930758\n"
          ]
        }
      ]
    },
    {
      "cell_type": "markdown",
      "source": [
        "## 2.3  Produccion"
      ],
      "metadata": {
        "id": "TKsVZmAnhwX-"
      }
    },
    {
      "cell_type": "markdown",
      "source": [
        "### Final Training\n",
        "Construyo el modelo final, que es uno solo, no hace ningun tipo de particion < training, validation, testing>]"
      ],
      "metadata": {
        "id": "RQ_C33Tr5B_9"
      }
    },
    {
      "cell_type": "code",
      "source": [
        "setwd(\"/content/buckets/b1/exp\")\n",
        "experimento <- paste0(\"exp\", PARAM$experimento)\n",
        "dir.create(experimento, showWarnings= FALSE)\n",
        "setwd( paste0(\"/content/buckets/b1/exp/\", experimento ))"
      ],
      "metadata": {
        "id": "eDqfyA14hzwv"
      },
      "execution_count": null,
      "outputs": []
    },
    {
      "cell_type": "markdown",
      "source": [
        "#### Final Training Dataset\n",
        "\n",
        "Aqui esta la gran decision de en qué meses hago el Final Training\n",
        "<br> debo utilizar los mejores hiperparámetros que encontré en la optimización bayesiana"
      ],
      "metadata": {
        "id": "8qFmFivf5Iet"
      }
    },
    {
      "cell_type": "code",
      "source": [
        "# clase01\n",
        "dataset[, clase01 := ifelse(clase_ternaria %in% c(\"BAJA+1\", \"BAJA+2\"), 1L, 0L)]"
      ],
      "metadata": {
        "id": "lg5WVZncvc7H"
      },
      "execution_count": null,
      "outputs": []
    },
    {
      "cell_type": "code",
      "source": [
        "dataset_train <- dataset[foto_mes %in% c(202107)]"
      ],
      "metadata": {
        "id": "yc9QzXREv0xf"
      },
      "execution_count": null,
      "outputs": []
    },
    {
      "cell_type": "code",
      "source": [
        "# dejo los datos en el formato que necesita LightGBM\n",
        "\n",
        "dtrain <- lgb.Dataset(\n",
        "  data= data.matrix(dataset_train[, campos_buenos, with= FALSE]),\n",
        "  label= dataset_train[, clase01]\n",
        ")"
      ],
      "metadata": {
        "id": "thjdqEBLuvNt"
      },
      "execution_count": null,
      "outputs": []
    },
    {
      "cell_type": "markdown",
      "source": [
        "#### Final Training Hyperparameters"
      ],
      "metadata": {
        "id": "VNUa-WSz5Oqu"
      }
    },
    {
      "cell_type": "code",
      "source": [
        "param_final <- modifyList(PARAM$lgbm$param_fijos,\n",
        "  PARAM$out$lgbm$mejores_hiperparametros)\n",
        "\n",
        "param_final"
      ],
      "metadata": {
        "id": "FgCcvBfEwImu",
        "outputId": "0752c6fd-6abb-4fe4-df02-e9178b8e7bc5",
        "colab": {
          "base_uri": "https://localhost:8080/",
          "height": 1000
        }
      },
      "execution_count": null,
      "outputs": [
        {
          "output_type": "display_data",
          "data": {
            "text/html": [
              "<dl>\n",
              "\t<dt>$boosting</dt>\n",
              "\t\t<dd>'gbdt'</dd>\n",
              "\t<dt>$objective</dt>\n",
              "\t\t<dd>'binary'</dd>\n",
              "\t<dt>$metric</dt>\n",
              "\t\t<dd>'auc'</dd>\n",
              "\t<dt>$first_metric_only</dt>\n",
              "\t\t<dd>FALSE</dd>\n",
              "\t<dt>$boost_from_average</dt>\n",
              "\t\t<dd>TRUE</dd>\n",
              "\t<dt>$feature_pre_filter</dt>\n",
              "\t\t<dd>FALSE</dd>\n",
              "\t<dt>$force_row_wise</dt>\n",
              "\t\t<dd>TRUE</dd>\n",
              "\t<dt>$verbosity</dt>\n",
              "\t\t<dd>-100</dd>\n",
              "\t<dt>$seed</dt>\n",
              "\t\t<dd>914443</dd>\n",
              "\t<dt>$max_depth</dt>\n",
              "\t\t<dd>-1</dd>\n",
              "\t<dt>$min_gain_to_split</dt>\n",
              "\t\t<dd>0</dd>\n",
              "\t<dt>$min_sum_hessian_in_leaf</dt>\n",
              "\t\t<dd>0.001</dd>\n",
              "\t<dt>$lambda_l1</dt>\n",
              "\t\t<dd>0</dd>\n",
              "\t<dt>$lambda_l2</dt>\n",
              "\t\t<dd>0</dd>\n",
              "\t<dt>$max_bin</dt>\n",
              "\t\t<dd>31</dd>\n",
              "\t<dt>$bagging_fraction</dt>\n",
              "\t\t<dd>1</dd>\n",
              "\t<dt>$pos_bagging_fraction</dt>\n",
              "\t\t<dd>1</dd>\n",
              "\t<dt>$neg_bagging_fraction</dt>\n",
              "\t\t<dd>1</dd>\n",
              "\t<dt>$is_unbalance</dt>\n",
              "\t\t<dd>FALSE</dd>\n",
              "\t<dt>$scale_pos_weight</dt>\n",
              "\t\t<dd>1</dd>\n",
              "\t<dt>$drop_rate</dt>\n",
              "\t\t<dd>0.1</dd>\n",
              "\t<dt>$max_drop</dt>\n",
              "\t\t<dd>50</dd>\n",
              "\t<dt>$skip_drop</dt>\n",
              "\t\t<dd>0.5</dd>\n",
              "\t<dt>$extra_trees</dt>\n",
              "\t\t<dd>FALSE</dd>\n",
              "\t<dt>$num_iterations</dt>\n",
              "\t\t<dd>1541</dd>\n",
              "\t<dt>$learning_rate</dt>\n",
              "\t\t<dd>0.0349647371180755</dd>\n",
              "\t<dt>$feature_fraction</dt>\n",
              "\t\t<dd>0.420597791409635</dd>\n",
              "\t<dt>$num_leaves</dt>\n",
              "\t\t<dd>10</dd>\n",
              "\t<dt>$min_data_in_leaf</dt>\n",
              "\t\t<dd>534</dd>\n",
              "</dl>\n"
            ],
            "text/markdown": "$boosting\n:   'gbdt'\n$objective\n:   'binary'\n$metric\n:   'auc'\n$first_metric_only\n:   FALSE\n$boost_from_average\n:   TRUE\n$feature_pre_filter\n:   FALSE\n$force_row_wise\n:   TRUE\n$verbosity\n:   -100\n$seed\n:   914443\n$max_depth\n:   -1\n$min_gain_to_split\n:   0\n$min_sum_hessian_in_leaf\n:   0.001\n$lambda_l1\n:   0\n$lambda_l2\n:   0\n$max_bin\n:   31\n$bagging_fraction\n:   1\n$pos_bagging_fraction\n:   1\n$neg_bagging_fraction\n:   1\n$is_unbalance\n:   FALSE\n$scale_pos_weight\n:   1\n$drop_rate\n:   0.1\n$max_drop\n:   50\n$skip_drop\n:   0.5\n$extra_trees\n:   FALSE\n$num_iterations\n:   1541\n$learning_rate\n:   0.0349647371180755\n$feature_fraction\n:   0.420597791409635\n$num_leaves\n:   10\n$min_data_in_leaf\n:   534\n\n\n",
            "text/latex": "\\begin{description}\n\\item[\\$boosting] 'gbdt'\n\\item[\\$objective] 'binary'\n\\item[\\$metric] 'auc'\n\\item[\\$first\\_metric\\_only] FALSE\n\\item[\\$boost\\_from\\_average] TRUE\n\\item[\\$feature\\_pre\\_filter] FALSE\n\\item[\\$force\\_row\\_wise] TRUE\n\\item[\\$verbosity] -100\n\\item[\\$seed] 914443\n\\item[\\$max\\_depth] -1\n\\item[\\$min\\_gain\\_to\\_split] 0\n\\item[\\$min\\_sum\\_hessian\\_in\\_leaf] 0.001\n\\item[\\$lambda\\_l1] 0\n\\item[\\$lambda\\_l2] 0\n\\item[\\$max\\_bin] 31\n\\item[\\$bagging\\_fraction] 1\n\\item[\\$pos\\_bagging\\_fraction] 1\n\\item[\\$neg\\_bagging\\_fraction] 1\n\\item[\\$is\\_unbalance] FALSE\n\\item[\\$scale\\_pos\\_weight] 1\n\\item[\\$drop\\_rate] 0.1\n\\item[\\$max\\_drop] 50\n\\item[\\$skip\\_drop] 0.5\n\\item[\\$extra\\_trees] FALSE\n\\item[\\$num\\_iterations] 1541\n\\item[\\$learning\\_rate] 0.0349647371180755\n\\item[\\$feature\\_fraction] 0.420597791409635\n\\item[\\$num\\_leaves] 10\n\\item[\\$min\\_data\\_in\\_leaf] 534\n\\end{description}\n",
            "text/plain": [
              "$boosting\n",
              "[1] \"gbdt\"\n",
              "\n",
              "$objective\n",
              "[1] \"binary\"\n",
              "\n",
              "$metric\n",
              "[1] \"auc\"\n",
              "\n",
              "$first_metric_only\n",
              "[1] FALSE\n",
              "\n",
              "$boost_from_average\n",
              "[1] TRUE\n",
              "\n",
              "$feature_pre_filter\n",
              "[1] FALSE\n",
              "\n",
              "$force_row_wise\n",
              "[1] TRUE\n",
              "\n",
              "$verbosity\n",
              "[1] -100\n",
              "\n",
              "$seed\n",
              "[1] 914443\n",
              "\n",
              "$max_depth\n",
              "[1] -1\n",
              "\n",
              "$min_gain_to_split\n",
              "[1] 0\n",
              "\n",
              "$min_sum_hessian_in_leaf\n",
              "[1] 0.001\n",
              "\n",
              "$lambda_l1\n",
              "[1] 0\n",
              "\n",
              "$lambda_l2\n",
              "[1] 0\n",
              "\n",
              "$max_bin\n",
              "[1] 31\n",
              "\n",
              "$bagging_fraction\n",
              "[1] 1\n",
              "\n",
              "$pos_bagging_fraction\n",
              "[1] 1\n",
              "\n",
              "$neg_bagging_fraction\n",
              "[1] 1\n",
              "\n",
              "$is_unbalance\n",
              "[1] FALSE\n",
              "\n",
              "$scale_pos_weight\n",
              "[1] 1\n",
              "\n",
              "$drop_rate\n",
              "[1] 0.1\n",
              "\n",
              "$max_drop\n",
              "[1] 50\n",
              "\n",
              "$skip_drop\n",
              "[1] 0.5\n",
              "\n",
              "$extra_trees\n",
              "[1] FALSE\n",
              "\n",
              "$num_iterations\n",
              "[1] 1541\n",
              "\n",
              "$learning_rate\n",
              "[1] 0.03496474\n",
              "\n",
              "$feature_fraction\n",
              "[1] 0.4205978\n",
              "\n",
              "$num_leaves\n",
              "[1] 10\n",
              "\n",
              "$min_data_in_leaf\n",
              "[1] 534\n"
            ]
          },
          "metadata": {}
        }
      ]
    },
    {
      "cell_type": "markdown",
      "source": [
        "#### Training\n",
        "Genero el modelo final, siempre sobre TODOS los datos de  final_train, sin hacer ningun tipo de undersampling de la clase mayoritaria"
      ],
      "metadata": {
        "id": "TZIYn4l95TBH"
      }
    },
    {
      "cell_type": "code",
      "source": [
        "# este punto es muy SUTIL  y será revisado en la Clase 05\n",
        "\n",
        "param_normalizado <- copy(param_final)\n",
        "param_normalizado$min_data_in_leaf <-  round(param_final$min_data_in_leaf / PARAM$trainingstrategy$undersampling)"
      ],
      "metadata": {
        "id": "vPLsd4mMRe4u"
      },
      "execution_count": null,
      "outputs": []
    },
    {
      "cell_type": "code",
      "source": [
        "  # entreno LightGBM\n",
        "\n",
        "  modelo_final <- lgb.train(\n",
        "    data= dtrain,\n",
        "    param= param_normalizado\n",
        "  )"
      ],
      "metadata": {
        "id": "WRI_-taRwOXO"
      },
      "execution_count": null,
      "outputs": []
    },
    {
      "cell_type": "code",
      "source": [
        "# ahora imprimo la importancia de variables\n",
        "\n",
        "tb_importancia <- as.data.table(lgb.importance(modelo_final))\n",
        "archivo_importancia <- \"impo.txt\"\n",
        "\n",
        "fwrite(tb_importancia,\n",
        "  file= archivo_importancia,\n",
        "  sep= \"\\t\"\n",
        ")"
      ],
      "metadata": {
        "id": "_bkhnCvj0g3Q"
      },
      "execution_count": null,
      "outputs": []
    },
    {
      "cell_type": "code",
      "source": [
        "# grabo a disco el modelo en un formato para seres humanos ... ponele ...\n",
        "\n",
        "lgb.save(modelo_final, \"modelo.txt\" )"
      ],
      "metadata": {
        "id": "lZ3sLmbh0kFj"
      },
      "execution_count": null,
      "outputs": []
    },
    {
      "cell_type": "markdown",
      "source": [
        "### Scoring"
      ],
      "metadata": {
        "id": "VEtp2--t5Ymg"
      }
    },
    {
      "cell_type": "markdown",
      "source": [
        "Aplico el modelo final a los datos del futuro"
      ],
      "metadata": {
        "id": "hI5008Mj5ZdI"
      }
    },
    {
      "cell_type": "code",
      "source": [
        "# aplico el modelo a los datos sin clase\n",
        "dfuture <- dataset[foto_mes == 202109]\n",
        "\n",
        "# aplico el modelo a los datos nuevos\n",
        "prediccion <- predict(\n",
        "  modelo_final,\n",
        "  data.matrix(dfuture[, campos_buenos, with= FALSE])\n",
        ")"
      ],
      "metadata": {
        "id": "PimBY3N_0ryP"
      },
      "execution_count": null,
      "outputs": []
    },
    {
      "cell_type": "markdown",
      "source": [
        "#### Tabla Prediccion"
      ],
      "metadata": {
        "id": "D26rNRh55gpw"
      }
    },
    {
      "cell_type": "code",
      "source": [
        "# tabla de prediccion\n",
        "\n",
        "tb_prediccion <- dfuture[, list(numero_de_cliente)]\n",
        "tb_prediccion[, prob := prediccion ]\n",
        "\n",
        "# grabo las probabilidad del modelo\n",
        "fwrite(tb_prediccion,\n",
        "  file= \"prediccion.txt\",\n",
        "  sep= \"\\t\"\n",
        ")"
      ],
      "metadata": {
        "id": "RJwg7LHd11yu"
      },
      "execution_count": null,
      "outputs": []
    },
    {
      "cell_type": "markdown",
      "source": [
        "Kaggle Competition Submit"
      ],
      "metadata": {
        "id": "jOt4eG_55ltv"
      }
    },
    {
      "cell_type": "code",
      "source": [
        "# genero archivos con los  \"envios\" mejores\n",
        "# suba TODOS los archivos a Kaggle\n",
        "\n",
        "# ordeno por probabilidad descendente\n",
        "setorder(tb_prediccion, -prob)\n",
        "\n",
        "dir.create(\"kaggle\")\n",
        "\n",
        "for (envios in PARAM$kaggle$cortes) {\n",
        "\n",
        "  tb_prediccion[, Predicted := 0L] # seteo inicial a 0\n",
        "  tb_prediccion[1:envios, Predicted := 1L] # marclo los primeros\n",
        "\n",
        "  archivo_kaggle <- paste0(\"./kaggle/KA\", PARAM$experimento, \"_\", envios, \".csv\")\n",
        "\n",
        "  # grabo el archivo\n",
        "  fwrite(tb_prediccion[, list(numero_de_cliente, Predicted)],\n",
        "    file= archivo_kaggle,\n",
        "    sep= \",\"\n",
        "  )\n",
        "\n",
        "  # subida a Kaggle, armo la linea de comando\n",
        "  comando <- \"kaggle competitions submit\"\n",
        "  competencia <- paste(\"-c\", PARAM$kaggle$competencia)\n",
        "  arch <- paste( \"-f\", archivo_kaggle)\n",
        "\n",
        "  mensaje <- paste0(\"-m 'envios=\", envios,\n",
        "  \"  semilla=\", PARAM$semilla_primigenia,\n",
        "    \"'\" )\n",
        "\n",
        "  linea <- paste( comando, competencia, arch, mensaje)\n",
        "\n",
        "  salida <- system(linea, intern=TRUE) # el submit a Kaggle\n",
        "  cat(salida, \"\\n\")\n",
        "  Sys.sleep(45)\n",
        "}"
      ],
      "metadata": {
        "id": "gWW3tatE12je",
        "outputId": "99406170-6513-454c-cb9d-c1c6704064f2",
        "colab": {
          "base_uri": "https://localhost:8080/"
        }
      },
      "execution_count": null,
      "outputs": [
        {
          "output_type": "stream",
          "name": "stdout",
          "text": [
            "Successfully submitted to LaboI 2025 virtual analista sr \n",
            "Successfully submitted to LaboI 2025 virtual analista sr \n",
            "Successfully submitted to LaboI 2025 virtual analista sr \n",
            "Successfully submitted to LaboI 2025 virtual analista sr \n",
            "Successfully submitted to LaboI 2025 virtual analista sr \n"
          ]
        }
      ]
    },
    {
      "cell_type": "code",
      "source": [
        "write_yaml( PARAM, file=\"PARAM.yml\")"
      ],
      "metadata": {
        "id": "B9tB2X4439Hg"
      },
      "execution_count": null,
      "outputs": []
    },
    {
      "cell_type": "code",
      "source": [
        "format(Sys.time(), \"%a %b %d %X %Y\")"
      ],
      "metadata": {
        "id": "9zA_W25c15DP",
        "outputId": "0c1a382d-240c-4722-adb4-f9fe9a0fc2f8",
        "colab": {
          "base_uri": "https://localhost:8080/",
          "height": 34
        }
      },
      "execution_count": null,
      "outputs": [
        {
          "output_type": "display_data",
          "data": {
            "text/html": [
              "'Sat Nov 01 10:27:29 PM 2025'"
            ],
            "text/markdown": "'Sat Nov 01 10:27:29 PM 2025'",
            "text/latex": "'Sat Nov 01 10:27:29 PM 2025'",
            "text/plain": [
              "[1] \"Sat Nov 01 10:27:29 PM 2025\""
            ]
          },
          "metadata": {}
        }
      ]
    },
    {
      "cell_type": "markdown",
      "source": [
        "Finalmente usted deberá cargar el resultado de su corrida en la Google Sheet Colaborativa,  hoja **TareaHogar-05**\n",
        "<br> Siéntase libre de agregar las columnas que hagan falta a la planilla"
      ],
      "metadata": {
        "id": "UdVZucdLHzZ0"
      }
    },
    {
      "cell_type": "markdown",
      "source": [
        "Seguramente usted realice varias corridas de este script con distintos conjuntos de hiperparámetros, siempre cambiandole el nombre al script  y también cambiando el nombre del experimento,  deberá TODAS esas corridas en distintas lineas de la  Google Sheet Colaborativa, hoja **TareaHogar-05**"
      ],
      "metadata": {
        "id": "5MB_67DmDTh0"
      }
    },
    {
      "cell_type": "markdown",
      "source": [
        "Siéntase libre de agregar columnas a la hoja **TareaHogar-05**  en caso de ser necesario."
      ],
      "metadata": {
        "id": "OnRUS_PhFI1Z"
      }
    }
  ]
}